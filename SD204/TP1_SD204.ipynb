{
 "cells": [
  {
   "cell_type": "markdown",
   "metadata": {},
   "source": [
    "# TP1 : Regression linéaire"
   ]
  },
  {
   "cell_type": "markdown",
   "metadata": {},
   "source": [
    "## Q1 :"
   ]
  },
  {
   "cell_type": "code",
   "execution_count": 1,
   "metadata": {},
   "outputs": [],
   "source": [
    "#%matplotlib inline\n",
    "from scipy.stats import t\n",
    "import numpy as np\n",
    "import pandas as pd\n",
    "import matplotlib.pyplot as plt"
   ]
  },
  {
   "cell_type": "code",
   "execution_count": 2,
   "metadata": {},
   "outputs": [],
   "source": [
    "data = pd.read_csv(\"./invest.txt\", sep = \" \")"
   ]
  },
  {
   "cell_type": "code",
   "execution_count": 3,
   "metadata": {},
   "outputs": [
    {
     "data": {
      "text/html": [
       "<div>\n",
       "<table border=\"1\" class=\"dataframe\">\n",
       "  <thead>\n",
       "    <tr style=\"text-align: right;\">\n",
       "      <th></th>\n",
       "      <th>year</th>\n",
       "      <th>gnp</th>\n",
       "      <th>invest</th>\n",
       "      <th>cpi</th>\n",
       "      <th>interest</th>\n",
       "    </tr>\n",
       "  </thead>\n",
       "  <tbody>\n",
       "    <tr>\n",
       "      <th>0</th>\n",
       "      <td>1968</td>\n",
       "      <td>873.4</td>\n",
       "      <td>133.3</td>\n",
       "      <td>82.54</td>\n",
       "      <td>5.16</td>\n",
       "    </tr>\n",
       "    <tr>\n",
       "      <th>1</th>\n",
       "      <td>1969</td>\n",
       "      <td>944.0</td>\n",
       "      <td>149.3</td>\n",
       "      <td>86.79</td>\n",
       "      <td>5.87</td>\n",
       "    </tr>\n",
       "    <tr>\n",
       "      <th>2</th>\n",
       "      <td>1970</td>\n",
       "      <td>992.7</td>\n",
       "      <td>144.2</td>\n",
       "      <td>91.45</td>\n",
       "      <td>5.95</td>\n",
       "    </tr>\n",
       "    <tr>\n",
       "      <th>3</th>\n",
       "      <td>1971</td>\n",
       "      <td>1077.6</td>\n",
       "      <td>166.4</td>\n",
       "      <td>96.01</td>\n",
       "      <td>4.88</td>\n",
       "    </tr>\n",
       "    <tr>\n",
       "      <th>4</th>\n",
       "      <td>1972</td>\n",
       "      <td>1185.9</td>\n",
       "      <td>195.0</td>\n",
       "      <td>100.00</td>\n",
       "      <td>4.50</td>\n",
       "    </tr>\n",
       "  </tbody>\n",
       "</table>\n",
       "</div>"
      ],
      "text/plain": [
       "   year     gnp  invest     cpi  interest\n",
       "0  1968   873.4   133.3   82.54      5.16\n",
       "1  1969   944.0   149.3   86.79      5.87\n",
       "2  1970   992.7   144.2   91.45      5.95\n",
       "3  1971  1077.6   166.4   96.01      4.88\n",
       "4  1972  1185.9   195.0  100.00      4.50"
      ]
     },
     "execution_count": 3,
     "metadata": {},
     "output_type": "execute_result"
    }
   ],
   "source": [
    "data.head()"
   ]
  },
  {
   "cell_type": "markdown",
   "metadata": {},
   "source": [
    "## Q2 :"
   ]
  },
  {
   "cell_type": "code",
   "execution_count": 4,
   "metadata": {},
   "outputs": [
    {
     "data": {
      "image/png": "[encoded data removed]",
      "text/plain": [
       "<matplotlib.figure.Figure at 0x7f0aeae6fda0>"
      ]
     },
     "metadata": {},
     "output_type": "display_data"
    }
   ],
   "source": [
    "GNP = data[\"gnp\"]\n",
    "invest = data[\"invest\"]\n",
    "\n",
    "plt.plot(GNP, invest, 'o')\n",
    "plt.xlabel(\"gnp\")\n",
    "plt.ylabel(\"invest\")\n",
    "plt.show()"
   ]
  },
  {
   "cell_type": "code",
   "execution_count": 5,
   "metadata": {},
   "outputs": [],
   "source": [
    "GNP = np.log(GNP)\n",
    "invest = np.log(invest)"
   ]
  },
  {
   "cell_type": "code",
   "execution_count": 6,
   "metadata": {},
   "outputs": [
    {
     "data": {
      "image/png": "[encoded data removed]",
      "text/plain": [
       "<matplotlib.figure.Figure at 0x7f0aeae6f588>"
      ]
     },
     "metadata": {},
     "output_type": "display_data"
    }
   ],
   "source": [
    "plt.plot(GNP, invest, 'o')\n",
    "plt.xlabel(\"gnp\")\n",
    "plt.ylabel(\"invest\")\n",
    "plt.show()"
   ]
  },
  {
   "cell_type": "markdown",
   "metadata": {},
   "source": [
    "## Q3"
   ]
  },
  {
   "cell_type": "code",
   "execution_count": 7,
   "metadata": {},
   "outputs": [
    {
     "name": "stdout",
     "output_type": "stream",
     "text": [
      "Slope :  1.015281401598871\n",
      "Intercept :  -1.9635913352301815\n"
     ]
    }
   ],
   "source": [
    "GNPm = GNP.mean()\n",
    "investm = invest.mean()\n",
    "\n",
    "\n",
    "slope = np.sum((GNP - GNPm)*(invest - invest.mean()))/np.sum((GNP - GNPm)**2)\n",
    "intercept = investm - slope * GNPm\n",
    "\n",
    "print(\"Slope : \", slope)\n",
    "print(\"Intercept : \", intercept)"
   ]
  },
  {
   "cell_type": "code",
   "execution_count": 8,
   "metadata": {},
   "outputs": [
    {
     "name": "stdout",
     "output_type": "stream",
     "text": [
      "Standart variation of intercept :  0.4095472716623081\n",
      "Standart variation of slope :  0.05538306035485281\n",
      "Determination coef :  0.9627572956057854\n"
     ]
    }
   ],
   "source": [
    "n = 15\n",
    "sigma2 = np.sum((invest - (intercept + slope * GNP))**2)/(n-2)\n",
    "\n",
    "var_intercept = sigma2 * (1/15 + (GNPm**2)/np.sum((GNP-GNPm)**2))\n",
    "var_slope = sigma2/np.sum((GNP-GNPm)**2)\n",
    "\n",
    "#standart deviation = sqrt(var)\n",
    "print(\"Standart variation of intercept : \", np.sqrt(var_intercept))\n",
    "print(\"Standart variation of slope : \", np.sqrt(var_slope))\n",
    "\n",
    "R2 = np.sum((intercept + slope * GNP - investm)**2)/np.sum((invest - investm)**2)\n",
    "\n",
    "print(\"Determination coef : \", R2)"
   ]
  },
  {
   "cell_type": "markdown",
   "metadata": {},
   "source": [
    "## Q4"
   ]
  },
  {
   "cell_type": "code",
   "execution_count": 9,
   "metadata": {},
   "outputs": [
    {
     "name": "stdout",
     "output_type": "stream",
     "text": [
      "Statistic test :  18.331984456866678 \n",
      "p-value :  1.1363709973011282e-10\n"
     ]
    }
   ],
   "source": [
    "value = slope/np.sqrt(var_slope)\n",
    "p_value = 2 * (1 - t.cdf(value, n-2))\n",
    "\n",
    "print(\"Statistic test : \", value, \"\\np-value : \", p_value)"
   ]
  },
  {
   "cell_type": "markdown",
   "metadata": {},
   "source": [
    "On peut rejetter H0 avec confiance. C'est à dire penser que slope != 0."
   ]
  },
  {
   "cell_type": "markdown",
   "metadata": {},
   "source": [
    "## Q5"
   ]
  },
  {
   "cell_type": "code",
   "execution_count": 10,
   "metadata": {},
   "outputs": [
    {
     "name": "stdout",
     "output_type": "stream",
     "text": [
      "Necessary investment estimation :  155.97942793105494\n"
     ]
    }
   ],
   "source": [
    "log_prediction = intercept + slope * np.log(1000)\n",
    "prediction = np.exp(log_prediction)\n",
    "\n",
    "print(\"Necessary investment estimation : \", prediction)"
   ]
  },
  {
   "cell_type": "code",
   "execution_count": 64,
   "metadata": {},
   "outputs": [
    {
     "name": "stdout",
     "output_type": "stream",
     "text": [
      "[146.37752202026522, 166.21118872562178]\n",
      "[131.2758255982657, 185.3317762567595]\n"
     ]
    }
   ],
   "source": [
    "quantile = t.ppf(0.95, n-2)\n",
    "sigma = np.sqrt(sigma2)\n",
    "coef = 1/n + ((np.log(1000) - GNPm)**2)/np.sum((GNP - GNPm)**2)\n",
    "c = np.sqrt(coef)\n",
    "p = np.sqrt(1+coef)\n",
    "\n",
    "CI = [0,0]\n",
    "PI = [0,0]\n",
    "\n",
    "for i in range(2):\n",
    "    CI[i] = np.exp(log_prediction + 2*(i-0.5)*quantile*sigma*c)\n",
    "    PI[i] = np.exp(log_prediction + 2*(i-0.5)*quantile*sigma*p)\n",
    "\n",
    "print(CI)\n",
    "print(PI)"
   ]
  },
  {
   "cell_type": "markdown",
   "metadata": {},
   "source": [
    "## Q6"
   ]
  },
  {
   "cell_type": "code",
   "execution_count": 12,
   "metadata": {},
   "outputs": [],
   "source": [
    "Ci = [[],[]]\n",
    "Pi = [[],[]]\n",
    "\n",
    "gnp = [GNP.min() + k/100 * (GNP.max()-GNP.min()) for k in range(101)]\n",
    "\n",
    "for i in range(101):\n",
    "    coef = 1/n + ((gnp[i] - GNPm)**2)/np.sum((GNP - GNPm)**2)\n",
    "    c = np.sqrt(coef)\n",
    "    p = np.sqrt(1+coef)\n",
    "    prediction = intercept + slope * gnp[i]\n",
    "    for j in range(2):\n",
    "        Ci[j].append(prediction + 2*(j-0.5)*quantile*sigma*c)\n",
    "        Pi[j].append(prediction + 2*(j-0.5)*quantile*sigma*p)\n"
   ]
  },
  {
   "cell_type": "code",
   "execution_count": 13,
   "metadata": {},
   "outputs": [
    {
     "data": {
      "image/png": "[encoded data removed]",
      "text/plain": [
       "<matplotlib.figure.Figure at 0x7f0ae8d418d0>"
      ]
     },
     "metadata": {},
     "output_type": "display_data"
    }
   ],
   "source": [
    "Y_pred = intercept + slope * GNP\n",
    "plt.plot(GNP, invest, 'o', label = \"Data\")\n",
    "\n",
    "plt.plot(GNP, Y_pred, label = \"Predictions\")\n",
    "plt.plot(gnp, Ci[0], color = \"red\")\n",
    "plt.plot(gnp, Ci[1], color = \"red\")\n",
    "plt.plot(gnp, Pi[0], color = \"green\")\n",
    "plt.plot(gnp, Pi[1], color = \"green\")\n",
    "\n",
    "plt.xlabel(\"gnp\")\n",
    "plt.ylabel(\"invest\")\n",
    "plt.legend()\n",
    "plt.show()"
   ]
  },
  {
   "cell_type": "markdown",
   "metadata": {},
   "source": [
    "## Q7"
   ]
  },
  {
   "cell_type": "code",
   "execution_count": 14,
   "metadata": {},
   "outputs": [],
   "source": [
    "from sklearn.linear_model import LinearRegression"
   ]
  },
  {
   "cell_type": "code",
   "execution_count": 28,
   "metadata": {},
   "outputs": [
    {
     "name": "stdout",
     "output_type": "stream",
     "text": [
      "slope :  1.015281401598871\n",
      "Intercept -1.9635913352301815\n",
      "Coef of determination : 0.9627572956057855\n",
      "Prediction for GNP = 1000 :  155.97942793105494\n"
     ]
    }
   ],
   "source": [
    "X = np.array([[gnp] for gnp in GNP])\n",
    "Y = invest\n",
    "linearReg = LinearRegression().fit(X,Y)\n",
    "\n",
    "print(\"slope : \",linearReg.coef_[0])\n",
    "print(\"Intercept\", linearReg.intercept_)\n",
    "print(\"Coef of determination :\", linearReg.score(X,Y))\n",
    "print(\"Prediction for GNP = 1000 : \", np.exp(linearReg.predict([[np.log(1000)]]))[0])"
   ]
  },
  {
   "cell_type": "markdown",
   "metadata": {},
   "source": [
    "## Q8"
   ]
  },
  {
   "cell_type": "code",
   "execution_count": 35,
   "metadata": {},
   "outputs": [
    {
     "data": {
      "image/png": "[encoded data removed]",
      "text/plain": [
       "<matplotlib.figure.Figure at 0x7f0ae8d7d240>"
      ]
     },
     "metadata": {},
     "output_type": "display_data"
    }
   ],
   "source": [
    "gnps = [GNP.min() + k/100 * (GNP.max()-GNP.min()) for k in range(101)]\n",
    "\n",
    "Y_pred = linearReg.predict([[gnp] for gnp in gnps])\n",
    "\n",
    "plt.plot(GNP, invest, 'o', label = \"Data\")\n",
    "plt.plot(gnps, Y_pred, label = \"Predictions\")\n",
    "plt.plot([np.log(1000)], linearReg.predict([[np.log(1000)]]), 'o')\n",
    "plt.xlabel(\"gnp\")\n",
    "plt.ylabel(\"invest\")\n",
    "plt.legend()\n",
    "plt.show()"
   ]
  },
  {
   "cell_type": "markdown",
   "metadata": {},
   "source": [
    "## Q9"
   ]
  },
  {
   "cell_type": "code",
   "execution_count": 50,
   "metadata": {},
   "outputs": [
    {
     "name": "stdout",
     "output_type": "stream",
     "text": [
      "[[ 1.          7.38352141  7.45266667]\n",
      " [ 7.38352141 54.68323179 55.94590287]\n",
      " [ 7.45266667 55.94590287 62.92371333]]\n",
      "Rank is :  3\n"
     ]
    }
   ],
   "source": [
    "X = np.array([[1, GNP[i], data[\"interest\"][i]] for i in range(len(GNP))])\n",
    "Gram = np.dot(np.transpose(X),X)/n\n",
    "XtX = np.dot(np.transpose(X),X)\n",
    "\n",
    "print(Gram)\n",
    "\n",
    "print(\"Rank is : \", np.linalg.matrix_rank(Gram))"
   ]
  },
  {
   "cell_type": "markdown",
   "metadata": {},
   "source": [
    "## Q10"
   ]
  },
  {
   "cell_type": "code",
   "execution_count": 83,
   "metadata": {},
   "outputs": [],
   "source": [
    "#Compute the coefficient\n",
    "theta_head = np.dot(np.linalg.inv(XtX), np.dot(np.transpose(X),invest))"
   ]
  },
  {
   "cell_type": "code",
   "execution_count": 84,
   "metadata": {},
   "outputs": [],
   "source": [
    "#Compute std deviation and determination coef\n",
    "pred = np.dot(X,theta_head)\n",
    "sigma2 = np.sum( (invest - pred)**2 )/(n - 3)\n",
    "C = sigma2 * np.linalg.inv(XtX)\n",
    "\n",
    "deviations = np.sqrt(np.array([C[0,0],C[1,1], C[2,2]]))\n",
    "R2 = np.sum((pred - investm)**2)/np.sum((invest - investm)**2)"
   ]
  },
  {
   "cell_type": "code",
   "execution_count": 85,
   "metadata": {},
   "outputs": [],
   "source": [
    "#Compute p-values\n",
    "values = theta_head/np.sqrt(variances)\n",
    "p_values = 2 * (1 - t.cdf(np.abs(values), n-3))"
   ]
  },
  {
   "cell_type": "code",
   "execution_count": 90,
   "metadata": {},
   "outputs": [
    {
     "name": "stdout",
     "output_type": "stream",
     "text": [
      "Determination coefficient : 0.963310830672815\n",
      "\n",
      "\n",
      "Intercept :\n",
      "Estimated value : -2.1804547259125684\n",
      "Standart variation : 0.6623991977963763\n",
      "Statistic test : -3.291753270786489\n",
      "p_value : 0.006438367050914495\n",
      "\n",
      "\n",
      "GNP coefficient :\n",
      "Estimated value : 1.0512426913198993\n",
      "Standart variation : 0.1020613780619243\n",
      "Statistic test : 10.300102852639053\n",
      "p_value : 2.5995168484449493e-07\n",
      "\n",
      "\n",
      "Interest coefficient :\n",
      "Estimated value : -0.006528879406094035\n",
      "Standart variation : 0.015344205065604329\n",
      "Statistic test : -0.4254947961252951\n",
      "p_value : 0.6780071418826807\n",
      "\n",
      "\n"
     ]
    }
   ],
   "source": [
    "#Display the results\n",
    "Title = [\"Intercept :\", \"GNP coefficient :\", \"Interest coefficient :\"]\n",
    "\n",
    "print(\"Determination coefficient :\", R2)\n",
    "print(\"\\n\")\n",
    "\n",
    "for i in range(3):\n",
    "    print(Title[i])\n",
    "    print(\"Estimated value :\", theta_head[i])\n",
    "    print(\"Standart variation :\", deviations[i])\n",
    "    print(\"Statistic test :\", values[i])\n",
    "    print(\"p_value :\", p_values[i])\n",
    "    print(\"\\n\")\n",
    "\n"
   ]
  },
  {
   "cell_type": "markdown",
   "metadata": {},
   "source": [
    "Intercept and GNP coefficient have significance in the regression. But the interest coefficient hasn't. It's p_value is high, we cannot reject the hypothesis that its value is 0. Moreover its estimated value is close to 0, meaning that it doesn't effect a lot the regression in this case."
   ]
  },
  {
   "cell_type": "markdown",
   "metadata": {},
   "source": [
    "## Q11"
   ]
  },
  {
   "cell_type": "code",
   "execution_count": 94,
   "metadata": {},
   "outputs": [
    {
     "name": "stdout",
     "output_type": "stream",
     "text": [
      "Predicted value (Investemnent) : 150.804414720906\n",
      "Predicted value (log Investemnent) : 5.0159837304829145\n"
     ]
    }
   ],
   "source": [
    "x = np.array([1, np.log(1000), 10])\n",
    "log_pred = np.dot(x,theta_head)\n",
    "print(\"Predicted value (Investemnent) :\", np.exp(log_pred))\n",
    "print(\"Predicted value (log Investemnent) :\", log_pred)"
   ]
  },
  {
   "cell_type": "code",
   "execution_count": 97,
   "metadata": {},
   "outputs": [
    {
     "name": "stdout",
     "output_type": "stream",
     "text": [
      "[4.64018403668831, 5.391783424277519]\n",
      "[4.473803343640495, 5.558164117325334]\n"
     ]
    }
   ],
   "source": [
    "quantile = t.ppf(0.9995, n-3)\n",
    "sigma = np.sqrt(sigma2)\n",
    "\n",
    "coef = np.dot(np.dot(x,np.linalg.inv(XtX)),x)\n",
    "c = np.sqrt(coef)\n",
    "p = np.sqrt(1+coef)\n",
    "\n",
    "CI = [0,0]\n",
    "PI = [0,0]\n",
    "\n",
    "for i in range(2):\n",
    "    CI[i] = log_pred + 2*(i-0.5)*quantile*sigma*c\n",
    "    PI[i] = log_pred + 2*(i-0.5)*quantile*sigma*p\n",
    "\n",
    "print(CI)\n",
    "print(PI)"
   ]
  },
  {
   "cell_type": "markdown",
   "metadata": {},
   "source": [
    "## Q12"
   ]
  },
  {
   "cell_type": "code",
   "execution_count": null,
   "metadata": {},
   "outputs": [],
   "source": [
    "X_plot = []\n",
    "Y_plot = []\n",
    "reg_plot = []\n",
    "Cinf_plot = []\n",
    "Csup_plot = []\n",
    "Pinf_plot = []\n",
    "Psup_plot = []\n",
    "\n",
    "for gnp in GNP:\n",
    "    for inter in data.interest:\n",
    "        X_plot.append(gnp)\n",
    "        Y_plot.append(inter)\n",
    "        antecedent = np.array([[gnp,inter]])\n",
    "        reg_plot.append(interc + coef_gnp*gnp + coef_interest*inter )\n",
    "        temp = I_ndim(antecedent,0.001)\n",
    "        Cinf_plot.append(temp[0])\n",
    "        Csup_plot.append(temp[1])\n",
    "        Pinf_plot.append(temp[2])\n",
    "        Psup_plot.append(temp[3])\n",
    "\n",
    "# plotting the data\n",
    "from mpl_toolkits.mplot3d import Axes3D\n",
    "fig = plt.figure()\n",
    "ax = fig.add_subplot(111, projection='3d')\n",
    "\n",
    "def plot(tab,col):\n",
    "    ax.plot_trisurf(np.array(Y_plot),np.array(X_plot),np.array(tab), linewidth=0.2, antialiased=True,alpha =0.2,color = col)\n",
    "    \n",
    "plot(reg_plot,'b')\n",
    "plot(Cinf_plot,'r')\n",
    "plot(Csup_plot,'r')\n",
    "plot(Pinf_plot,'g')\n",
    "plot(Psup_plot,'g')\n",
    "ax.scatter(df.interest,df.gnp,df.invest)\n",
    "fig.set_figheight(15)\n",
    "fig.set_figwidth(15)\n",
    "plt.show()"
   ]
  },
  {
   "cell_type": "code",
   "execution_count": 131,
   "metadata": {},
   "outputs": [
    {
     "name": "stdout",
     "output_type": "stream",
     "text": [
      "10201 101\n"
     ]
    },
    {
     "data": {
      "image/png": "[encoded data removed]",
      "text/plain": [
       "<matplotlib.figure.Figure at 0x7f0ae6330668>"
      ]
     },
     "metadata": {},
     "output_type": "display_data"
    }
   ],
   "source": [
    "# plotting the data\n",
    "from mpl_toolkits.mplot3d import Axes3D\n",
    "fig = plt.figure()\n",
    "ax = fig.add_subplot(111, projection='3d')\n",
    "\n",
    "gnps = [GNP.min() + k/100 * (GNP.max()-GNP.min()) for k in range(101)]\n",
    "interests = [data.interest.min() + k/100 * (data.interest.max()-data.interest.min()) for k in range(101)]\n",
    "#Y = interests * 101\n",
    "#X = []\n",
    "#X,Y = np.meshgrid(gnps,interests)\n",
    "X = \n",
    "Z = np.sqrt(X**2 + Y**2)\n",
    "#Z = np.array([[np.dot([1,X[i,j],Y[i,j]],theta_head) for j in range(101)] for i in range(101)])\n",
    "print(Z.size, len(Z))\n",
    "#for k in range(101):\n",
    "#    X.extend([gnps[k]]*101)\n",
    "\n",
    "#assert len(X) == len(Y) == 101*101\n",
    "\n",
    "#Z = [np.dot([1,X[i],Y[i]],theta_head) for i in range(101*101)]\n",
    "        \n",
    "\n",
    "#ax.plot(GNP, data[\"interest\"],invest, 'o', label = \"Data\")\n",
    "ax.plot_surface(X, Y, Z, linewidth=0)\n",
    "#plt.legend()\n",
    "plt.show()"
   ]
  },
  {
   "cell_type": "code",
   "execution_count": 123,
   "metadata": {},
   "outputs": [
    {
     "data": {
      "text/plain": [
       "array([[ 4.5   ,  4.5   ,  4.5   , ...,  4.5   ,  4.5   ,  4.5   ],\n",
       "       [ 4.5892,  4.5892,  4.5892, ...,  4.5892,  4.5892,  4.5892],\n",
       "       [ 4.6784,  4.6784,  4.6784, ...,  4.6784,  4.6784,  4.6784],\n",
       "       ...,\n",
       "       [13.2416, 13.2416, 13.2416, ..., 13.2416, 13.2416, 13.2416],\n",
       "       [13.3308, 13.3308, 13.3308, ..., 13.3308, 13.3308, 13.3308],\n",
       "       [13.42  , 13.42  , 13.42  , ..., 13.42  , 13.42  , 13.42  ]])"
      ]
     },
     "execution_count": 123,
     "metadata": {},
     "output_type": "execute_result"
    }
   ],
   "source": [
    "gnps = [GNP.min() + k/100 * (GNP.max()-GNP.min()) for k in range(101)]\n",
    "interests = [data.interest.min() + k/100 * (data.interest.max()-data.interest.min()) for k in range(101)]\n",
    "X,Y = np.meshgrid(gnps,interests)\n",
    "Y"
   ]
  },
  {
   "cell_type": "markdown",
   "metadata": {},
   "source": [
    "## Q13"
   ]
  },
  {
   "cell_type": "code",
   "execution_count": 98,
   "metadata": {},
   "outputs": [
    {
     "name": "stdout",
     "output_type": "stream",
     "text": [
      "Slopes :  [ 1.05124269 -0.00652888]\n",
      "Intercept -2.180454725911403\n",
      "Coef of determination : 0.9633108306726242\n",
      "Prediction for GNP = 1000 :  150.8044147208708\n"
     ]
    }
   ],
   "source": [
    "X = np.array([[GNP[i], data[\"interest\"][i]] for i in range(len(GNP))])\n",
    "Y = invest\n",
    "linearReg = LinearRegression().fit(X,Y)\n",
    "\n",
    "print(\"Slopes : \",linearReg.coef_)\n",
    "print(\"Intercept\", linearReg.intercept_)\n",
    "print(\"Coef of determination :\", linearReg.score(X,Y))\n",
    "print(\"Prediction for GNP = 1000 : \", np.exp(linearReg.predict([[np.log(1000), 10]]))[0])"
   ]
  }
 ],
 "metadata": {
  "kernelspec": {
   "display_name": "Python 3",
   "language": "python",
   "name": "python3"
  },
  "language_info": {
   "codemirror_mode": {
    "name": "ipython",
    "version": 3
   },
   "file_extension": ".py",
   "mimetype": "text/x-python",
   "name": "python",
   "nbconvert_exporter": "python",
   "pygments_lexer": "ipython3",
   "version": "3.5.3"
  }
 },
 "nbformat": 4,
 "nbformat_minor": 2
}
