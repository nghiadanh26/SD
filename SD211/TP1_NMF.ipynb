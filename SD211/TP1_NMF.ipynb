{
 "cells": [
  {
   "cell_type": "markdown",
   "metadata": {},
   "source": [
    "# SD TSIA 211 : TP 1"
   ]
  },
  {
   "cell_type": "markdown",
   "metadata": {},
   "source": [
    "## Q1"
   ]
  },
  {
   "cell_type": "markdown",
   "metadata": {},
   "source": [
    "There are 400 images. Each of them are made of 10 304 pixels whiwh can take a value between 0 and 255."
   ]
  },
  {
   "cell_type": "markdown",
   "metadata": {},
   "source": [
    "## Q2"
   ]
  },
  {
   "cell_type": "markdown",
   "metadata": {},
   "source": [
    "First, we look at a simple cas with $n = p = 1$ (so $k = 1$)\n",
    "\n",
    "The objective function is $F_m(h,w) = \\frac{1}{2} \\times (m - hw)^2$.\n",
    "\n",
    "If we compute the gradient, we get $\\begin{pmatrix} hw^2 - wm\\\\h^2w - hm\\end{pmatrix}$.\n",
    "\n",
    "Then we can compute the Hessian Matrix :\n",
    "$\\begin{pmatrix} \n",
    "w^2 & 2hw -m\\\\\n",
    "2hw - m & h^2 \n",
    "\\end{pmatrix}$.\n",
    "\n",
    "Finally the function is convex <=> The hessian is positive semi-definite\n",
    "which is equivalent to the hessian has all it's eigen value greater or equal to zero.\n",
    "\n",
    "But if we compute the determinant which is the product of the eigen value, we get :\n",
    "$\\Delta = 4hwm - 3h^2w^2 - 4m^2$ \n",
    "\n",
    "At m and w fixed, we have $\\Delta -> -\\infty$ when $h -> \\infty$. It means that it exists h such that for any m, w, we have $\\Delta \\lt 0$.\n",
    "\n",
    "<b>Thus the objective function is not convex in the case n = p = 1.</b>\n",
    "\n",
    "Let's compute the gradient in the general case :\n",
    "\n",
    "$F(W,H) = \\frac{1}{2np} \\sum_i\\sum_l (M_{i,l}-\\sum_jW_{i,j}H_{j,l})$\n",
    "\n",
    "$\\frac{\\partial F}{\\partial W_{i,j}} = \\su$\n",
    "\n",
    "Garder la feuille\n"
   ]
  },
  {
   "cell_type": "markdown",
   "metadata": {},
   "source": [
    "## Q3"
   ]
  },
  {
   "cell_type": "code",
   "execution_count": 2,
   "metadata": {},
   "outputs": [],
   "source": [
    "import numpy as np\n",
    "import matplotlib.pyplot as plt\n",
    "import scipy.optimize\n",
    "import scipy.sparse\n",
    "import scipy.sparse.linalg"
   ]
  },
  {
   "cell_type": "code",
   "execution_count": 3,
   "metadata": {},
   "outputs": [],
   "source": [
    "def build_matrix_from_faces(folder='orl_faces', minidata=False):\n",
    "    # load images\n",
    "    # 400 images of size (112, 92)\n",
    "    M = []\n",
    "    if minidata is True:\n",
    "        nb_subjects = 1\n",
    "    else:\n",
    "        nb_subjects = 40\n",
    "    for subject in range(1, nb_subjects + 1\n",
    "                        ):\n",
    "        for image in range(1, 11):\n",
    "            face = plt.imread(folder + '/s' + str(subject)\n",
    "                              + '/' + str(image) + '.pgm')\n",
    "            M.append(face.ravel())\n",
    "\n",
    "    return np.array(M, dtype=float)\n",
    "\n",
    "def vectorize(W, H):\n",
    "    return np.concatenate((W.ravel(), H.ravel()))\n",
    "\n",
    "def unvectorize_M(W_H, M):\n",
    "    # number of elements in W_H is (n+p)*k where M is of size n x m\n",
    "    # W has the nk first elements\n",
    "    # H has the kp last elements\n",
    "    n, p = M.shape\n",
    "    k = W_H.shape[0] // (n + p)\n",
    "    W = W_H[:n * k].reshape((n, k))\n",
    "    H = W_H[n * k:].reshape((k, p))\n",
    "    return W, H"
   ]
  },
  {
   "cell_type": "code",
   "execution_count": 4,
   "metadata": {},
   "outputs": [],
   "source": [
    "# Small data to test the algorithm\n",
    "M = build_matrix_from_faces(folder='orl_faces', minidata=True)\n",
    "def unvectorize(W_H): return unvectorize_M(W_H, M)\n",
    "k = 2"
   ]
  },
  {
   "cell_type": "code",
   "execution_count": 5,
   "metadata": {},
   "outputs": [
    {
     "data": {
      "image/png": "[encoded data removed]",
      "text/plain": [
       "<matplotlib.figure.Figure at 0x7f408960e7f0>"
      ]
     },
     "metadata": {},
     "output_type": "display_data"
    }
   ],
   "source": [
    "# To see the first face:\n",
    "plt.imshow(M[0].reshape((112, 92)), cmap='gray'); plt.show()"
   ]
  },
  {
   "cell_type": "code",
   "execution_count": 110,
   "metadata": {},
   "outputs": [],
   "source": [
    "W0, S, H0 = scipy.sparse.linalg.svds(M, k)\n",
    "W0 = np.maximum(0, W0 * np.sqrt(S))\n",
    "H0 = np.maximum(0,(H0.T * np.sqrt(S)).T)\n",
    "L0 = np.sqrt(np.sum(np.dot(np.transpose(H0),H0)**2))/(400*92*112)"
   ]
  },
  {
   "cell_type": "markdown",
   "metadata": {},
   "source": [
    "#### 3.1\n",
    "It gives the solution if k = 1. More over all the coefficient are positives.\n",
    "(But we could also have initialized it randomly !)"
   ]
  },
  {
   "cell_type": "markdown",
   "metadata": {},
   "source": [
    "#### 3.2\n",
    "The function is now convex. it's gradient is :\n",
    "$$\\frac{1}{np}(WH_0 - M)H_0^T $$"
   ]
  },
  {
   "cell_type": "markdown",
   "metadata": {},
   "source": [
    "#### 3.3"
   ]
  },
  {
   "cell_type": "code",
   "execution_count": 84,
   "metadata": {},
   "outputs": [],
   "source": [
    "def val_g(W):\n",
    "    return np.sum((M-np.dot(W,H0))**2)/(2*400*112*92)\n",
    "\n",
    "def grad_g(W):\n",
    "    return np.dot((np.dot(W,H0) - M),np.transpose(H0))/(400*112*92) "
   ]
  },
  {
   "cell_type": "code",
   "execution_count": 111,
   "metadata": {},
   "outputs": [
    {
     "data": {
      "text/plain": [
       "255.28510818239408"
      ]
     },
     "execution_count": 111,
     "metadata": {},
     "output_type": "execute_result"
    }
   ],
   "source": [
    "val_g(W0)"
   ]
  },
  {
   "cell_type": "code",
   "execution_count": 27,
   "metadata": {},
   "outputs": [],
   "source": [
    "def projected_gradient_method(val_g, grad_g, W0, gamma, N):\n",
    "    for i in range(N):\n",
    "        W0 = W0 - gamma * grad_g(W0)\n",
    "        \n",
    "        #Projection on R+\n",
    "        W0 = W0 * (W0>=0)\n",
    "    return W0"
   ]
  },
  {
   "cell_type": "code",
   "execution_count": 116,
   "metadata": {},
   "outputs": [],
   "source": [
    "W0 = projected_gradient_method(val_g, grad_g, W0, 1/L0, 100)"
   ]
  },
  {
   "cell_type": "code",
   "execution_count": 117,
   "metadata": {},
   "outputs": [
    {
     "data": {
      "text/plain": [
       "214.12129339197426"
      ]
     },
     "execution_count": 117,
     "metadata": {},
     "output_type": "execute_result"
    }
   ],
   "source": [
    "val_g(W0)"
   ]
  }
 ],
 "metadata": {
  "kernelspec": {
   "display_name": "Python 3",
   "language": "python",
   "name": "python3"
  },
  "language_info": {
   "codemirror_mode": {
    "name": "ipython",
    "version": 3
   },
   "file_extension": ".py",
   "mimetype": "text/x-python",
   "name": "python",
   "nbconvert_exporter": "python",
   "pygments_lexer": "ipython3",
   "version": "3.5.3"
  }
 },
 "nbformat": 4,
 "nbformat_minor": 2
}
