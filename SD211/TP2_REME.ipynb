{
 "cells": [
  {
   "cell_type": "markdown",
   "metadata": {},
   "source": [
    "# TP2 : Séparateurs à Vaste Marge"
   ]
  },
  {
   "cell_type": "markdown",
   "metadata": {},
   "source": [
    "## 1/ Données"
   ]
  },
  {
   "cell_type": "code",
   "execution_count": 1,
   "metadata": {},
   "outputs": [],
   "source": [
    "import numpy as np\n",
    "\n",
    "def load_breastcancer(filename):\n",
    "    \"\"\"\n",
    "    Cette fonction lit le fichier filename, par exemple\n",
    "    filename = 'wdbc_M1_B0.data'\n",
    "    Elle retourne \n",
    "    X : une matrice de caracteristiques\n",
    "    y : un vecteur des classes tel que si y[i] = 1, la tumeur est maligne\n",
    "        et si y[i] = -1, la tumeur est benigne\n",
    "\n",
    "    Pour plus d'infos sur la base de donnees,\n",
    "    https://archive.ics.uci.edu/ml/datasets/Breast+Cancer+Wisconsin+%28Prognostic%29\n",
    "    \"\"\"\n",
    "\n",
    "    data = np.loadtxt(filename, delimiter=',')\n",
    "\n",
    "    # la colonne 0 ne nous interesse pas ici\n",
    "    y = data[:, 1] * 2 - 1\n",
    "    X = data[:, 2:]\n",
    "\n",
    "    # Standardisation de la matrice\n",
    "    X = X - np.mean(X, axis=0)\n",
    "    X = X / np.std(X, axis=0)\n",
    "\n",
    "    return X, y"
   ]
  },
  {
   "cell_type": "code",
   "execution_count": 2,
   "metadata": {},
   "outputs": [],
   "source": [
    "X, y = load_breastcancer(\"wdbcM1B0.data\")"
   ]
  },
  {
   "cell_type": "markdown",
   "metadata": {},
   "source": [
    "## 2/ Méthode du sous-gradient "
   ]
  },
  {
   "cell_type": "markdown",
   "metadata": {},
   "source": [
    "### Q 2.1/\n",
    "Soit $\\Xi_i (v,a) = [max(0, 1-y_i(x_i^T v+ a); + \\infty[$\n",
    "\n",
    "Soit $\\Xi (v,a) = \\prod_i \\Xi_i (v,a)$\n",
    "\n",
    "$\\forall$ $v \\in R_m$, $a \\in R$, $\\xi \\in \\Xi (v,a)$, $\\space$ soit $f(v, a, \\xi) = \\frac{1}{2} \\sum_j v_j^2 + \\sum_i \\xi_i$. $f$ est une fonction croissante de $\\xi_i \\, \\forall i$ (et pour tout $v, a, \\xi_j (j\\ne i)$  fixés).\n",
    "\n",
    "Soit $\\xi_{min} = (\\xi_{{min}_i})_i$ avec $\\xi_{min_i} = max(0, 1-y_i(x_i^T v+ a)$\n",
    "\n",
    "Alors on a $\\forall$ $v \\in R_m$, $a \\in R$, $\\xi \\in \\Xi (v,a)$, $f(v, a, \\xi) \\ge f(v, a, \\xi_{min})$. (Parce que $f$ est croissante pour $\\xi_i \\space \\forall i$.)\n",
    "\n",
    "Donc, $min_{v,a,\\xi} f(v,a,\\xi) \\ge min_{v,a,\\xi} f(v, a, \\xi_{min}) = min_{v,a} f(v, a, \\xi_{min})$\n",
    "\n",
    "On a donc la première inegalité : $min_{v,a,\\xi} f(v,a,\\xi) \\ge min_{v,a} f(v, a, \\xi_{min})$\n",
    "\n",
    "De plus, pour toute fonction $g$ a deux variables admettant un minimum, $\\forall b_o \\in B, min_{a\\in A, b \\in B} g(a,b) \\le min_{a \\in A} g(a,b_o)$ \n",
    "\n",
    "Avec $g = f$ et $\\xi_o = \\xi_{min}$, $min_{v,a,\\xi} f(v,a,\\xi) \\le min_{v,a} f(v, a, \\xi_{min})$\n",
    "\n",
    "\n",
    "En conclusion on a bien équivalence entre les deux problèmes.\n",
    "\n",
    "Et on peut définir $f(v, a) = f(v, a, \\xi_{min})$"
   ]
  },
  {
   "cell_type": "markdown",
   "metadata": {},
   "source": [
    "### Q 2.2/"
   ]
  },
  {
   "cell_type": "code",
   "execution_count": 3,
   "metadata": {},
   "outputs": [],
   "source": [
    "import matplotlib.pyplot as plt"
   ]
  },
  {
   "cell_type": "code",
   "execution_count": 4,
   "metadata": {},
   "outputs": [
    {
     "data": {
      "image/png": "[encoded data removed]",
      "text/plain": [
       "<Figure size 432x288 with 1 Axes>"
      ]
     },
     "metadata": {},
     "output_type": "display_data"
    }
   ],
   "source": [
    "def h(z):\n",
    "    return np.maximum(np.zeros(z.shape),1-z)\n",
    "\n",
    "z = np.arange(-8,12,0.01)\n",
    "plt.plot(z, h(z), color = 'blue', label = \"h(z)\")\n",
    "plt.plot([-8,12], [-0.2,-.2], color = 'orange', label = \"sub_diff(h, 1)\")\n",
    "plt.plot([-8,12], [8.8, -11.2], color = 'orange')\n",
    "plt.plot([-8,12], [4.3, -5.7], color = 'orange')\n",
    "plt.plot([-8,12], [9*3/4-0.2,-11*3/4 -0.2], color = 'orange')\n",
    "plt.plot([-8,12], [9/4-0.2,-11/4 -0.2], color = 'orange')\n",
    "plt.legend()\n",
    "plt.show()"
   ]
  },
  {
   "cell_type": "markdown",
   "metadata": {},
   "source": [
    "h est dérivable pourr z != 1. Donc pour z !=1, $\\partial h(z) = \\frac{dh}{dz} (z)$.\n",
    "\n",
    "Et pour z = 1, on remarque avec la représentation que toute les pentes entre -1 et 0 conviennent\n",
    "\n",
    "Donc $\\partial h(z) = \\left \\{\n",
    "\\begin{array} {}\n",
    "    \\{-1\\} & if \\, z \\lt 1 \\\\\n",
    "    [-1;0] & if \\, z = 1 \\\\\n",
    "    \\{0\\} & if \\, z \\gt 1 \\\\\n",
    "\\end{array}\n",
    "\\right .$"
   ]
  },
  {
   "cell_type": "markdown",
   "metadata": {},
   "source": [
    "### Q 2.3/"
   ]
  },
  {
   "cell_type": "markdown",
   "metadata": {},
   "source": [
    "Soit $N(w) = \\sum_{j=1}^{m+1} N_j(w_j)$. With $\\forall j \\in [1;m], N_j(w_j) = \\frac{1}{2}w_j^2$ and $N_{m+1} = 0$. N est separable.\n",
    "\n",
    "Et avec $w = (v,a), N(v,a) = \\frac{1}{2}\\sum_j v_j^2$.\n",
    "\n",
    "Soit $M = \n",
    "\\begin{pmatrix}\n",
    "y_{1} & &0 \\\\\n",
    "& \\ddots & \\\\\n",
    "0 & & y_{n}\n",
    "\\end{pmatrix} \\times \\begin{pmatrix} \n",
    "X, &  \\begin{pmatrix} 1\\\\\\vdots\\\\1 \\end{pmatrix}\n",
    "\\end{pmatrix} \\in M_{n,m+1}(R)$\n",
    "\n",
    "$M \\begin{pmatrix} v\\\\a \\end{pmatrix} = \\begin{pmatrix}y_0(x_0^Tv + a)\\\\ \\vdots \\\\ y_n(x_n^Tv +a) \\end{pmatrix}$\n",
    "\n",
    "Puis posons $H(x) = \\sum_{i=1}^n h(x_i)$. With $h(z) = max(0,1-z)$. H est separable.\n",
    "\n",
    "Et $H(M(v,a)) = \\sum_i max(0, 1-y_i(x_i^Tv +a))$ et donc $f(v,a) = N(v,a) + cH(M(v,a))$"
   ]
  },
  {
   "cell_type": "markdown",
   "metadata": {},
   "source": [
    " "
   ]
  },
  {
   "cell_type": "markdown",
   "metadata": {},
   "source": [
    "De plus on a $0 \\in r_i(Mdom(N) - dom(H))$ puisque $dom(N) = R_m$.\n",
    "\n",
    "Donc $\\partial f(v,a) = \\partial N(v,a) + cM^T \\partial H (M(v,a)).$"
   ]
  },
  {
   "cell_type": "markdown",
   "metadata": {},
   "source": [
    "N est derivalbe donc $\\partial N(v,a) = (v, 0)$\n",
    "\n",
    "Et H est separable donc $\\partial H(M(v,a)) = \\prod_i \\partial h(M_i(v,a)) = \\prod_i \\partial h(y_i(x_i^Tv+a))$"
   ]
  },
  {
   "cell_type": "markdown",
   "metadata": {},
   "source": [
    "### Q 2.4/"
   ]
  },
  {
   "cell_type": "code",
   "execution_count": 5,
   "metadata": {},
   "outputs": [],
   "source": [
    "c = 1\n",
    "M = np.dot(np.diag(y), np.concatenate([X, np.ones((569,1))], axis = 1))\n",
    "def N(va):\n",
    "    return 0.5 * np.sum(va[:-1]**2)\n",
    "def H_M(va):\n",
    "    return np.sum(h(np.dot(M,va)))\n",
    "\n",
    "def f(va):\n",
    "    return N(va) + c * H_M(va)"
   ]
  },
  {
   "cell_type": "code",
   "execution_count": 6,
   "metadata": {},
   "outputs": [],
   "source": [
    "def delta_N(va):\n",
    "    return np.concatenate([va[:-1], [0]])\n",
    "\n",
    "def delta_H_M(va):\n",
    "    \"\"\"Return one element of M^T x delta_H(M(v,a))\"\"\"\n",
    "    return np.dot(M.T, (np.dot(M,va)>=1)- 1)\n",
    "\n",
    "def delta_f(va):\n",
    "    return delta_N(va) + c * delta_H_M(va)"
   ]
  },
  {
   "cell_type": "markdown",
   "metadata": {},
   "source": [
    "### Q 2.5/"
   ]
  },
  {
   "cell_type": "code",
   "execution_count": 7,
   "metadata": {},
   "outputs": [],
   "source": [
    "def sub_grad_method(va0, N):\n",
    "    va_moy = np.zeros(va0.shape)\n",
    "    gamma_sum = 0\n",
    "    \n",
    "    for i in range(N):\n",
    "        #Pour optimiser la convergence j'ai choisi de ne pas prendre le gamma\n",
    "        #proposé par l'énoncé. (Il donne trop d'importance au premier terme et convergence en 1/log(N))\n",
    "        #Ici j'ai une convergence en log(N)/sqrt(N) cf le poly\n",
    "        gamma = 0.001/np.sqrt(i+1)\n",
    "        gamma_sum += gamma\n",
    "        va_moy += va0 * gamma\n",
    "        \n",
    "        va0 = va0 - gamma*delta_f(va0)\n",
    "    \n",
    "    return va_moy/gamma_sum\n",
    "        "
   ]
  },
  {
   "cell_type": "code",
   "execution_count": 8,
   "metadata": {},
   "outputs": [
    {
     "name": "stdout",
     "output_type": "stream",
     "text": [
      "569.0\n",
      "28.087767544895126\n"
     ]
    }
   ],
   "source": [
    "va0 = np.zeros((31,))\n",
    "print(f(va0))\n",
    "va_1 = sub_grad_method(va0, 100000)\n",
    "print(f(va_1))"
   ]
  },
  {
   "cell_type": "markdown",
   "metadata": {},
   "source": [
    "## 3/ Méthode du sous-gradient stochastique"
   ]
  },
  {
   "cell_type": "markdown",
   "metadata": {},
   "source": [
    "### Q 3.1/\n",
    "On a:\n",
    "\n",
    "$\\begin{array}{}\n",
    "E(f_I(v,a)) = \\sum_i P(I = i) \\times f_i(v,a) \\\\\n",
    "E(f_I(v,a)) = \\frac{1}{n}\\sum_i f_i(v,a) \\\\\n",
    "E(f_I(v,a)) = \\frac{1}{2} \\sum_j v_j^2 + \\frac{1}{n}\\sum_i c\\,n\\,max(0,1-y_i(x_i^Tv + a))\\\\\n",
    "E(f_I(v,a)) = \\frac{1}{2} \\sum_j v_j^2 + c\\sum_i max(0,1-y_i(x_i^Tv + a))\\\\ \n",
    "E(f_I(v,a)) = f(v,a)\\\\\n",
    "\\end{array}$"
   ]
  },
  {
   "cell_type": "markdown",
   "metadata": {},
   "source": [
    "### Q 3.2/"
   ]
  },
  {
   "cell_type": "markdown",
   "metadata": {},
   "source": [
    "Soit $M_i = y_i(x_i^T, 1)$. $M_i\\begin{pmatrix} v \\\\ a \\\\ \\end{pmatrix} = y_i(x_i^Tv + a)$. \n",
    "(On peut remarquer que $M_i$ est la $i^{eme}$ ligne de M)\n",
    "\n",
    "\n",
    "On a :$f_i(v,a) = N(v,a) + c \\times n \\times h(M_i(v,a))$\n",
    "\n",
    "Donc : $\\partial f_i(v,a) = (v,0) + c\\times n\\times M_i^T\\partial h(M_i(v,a))$\n",
    "\n",
    "$\\partial f_i(v,a) = \\left \\{\n",
    "\\begin{array} {}\n",
    "    \\{(v,0) - ncM_i^T\\} & if \\, M_i(v,a) \\lt 1 \\\\\n",
    "    \\{(v,0) + tncM_i^t,\\,t \\in [-1;0]\\} & if \\, M_i(v,a) = 1 \\\\\n",
    "    \\{(v,0)\\} & if \\, M_i(v,a) \\gt 1 \\\\\n",
    "\\end{array}\n",
    "\\right .$"
   ]
  },
  {
   "cell_type": "markdown",
   "metadata": {},
   "source": [
    "### Q 3.3/"
   ]
  },
  {
   "cell_type": "code",
   "execution_count": 9,
   "metadata": {},
   "outputs": [],
   "source": [
    "def delta_h_M_i(va, i):\n",
    "    return ((np.dot(M[i,:],va)>=1)- 1) * M[i,:]\n",
    "\n",
    "def delta_f_i(va, i):\n",
    "    return delta_N(va) + c * M.shape[0] * delta_h_M_i(va,i)\n",
    "\n",
    "def stoch_grad_method(va0, N):\n",
    "    n = M.shape[0]\n",
    "    va_moy = np.zeros(va0.shape)\n",
    "    gamma_sum = 0\n",
    "    \n",
    "    for i in range(N):\n",
    "        I = np.random.randint(n)\n",
    "        gamma = 0.001/np.sqrt(i+1)\n",
    "        gamma_sum += gamma\n",
    "        va_moy += va0 * gamma\n",
    "        \n",
    "        va0 = va0 - gamma * delta_f_i(va0,I)\n",
    "    \n",
    "    #return va0\n",
    "    return va_moy/gamma_sum"
   ]
  },
  {
   "cell_type": "code",
   "execution_count": 10,
   "metadata": {},
   "outputs": [
    {
     "data": {
      "text/plain": [
       "30.10187405578579"
      ]
     },
     "execution_count": 10,
     "metadata": {},
     "output_type": "execute_result"
    }
   ],
   "source": [
    "va_2 = stoch_grad_method(va0,100000)\n",
    "f(va_2)"
   ]
  },
  {
   "cell_type": "markdown",
   "metadata": {},
   "source": [
    "## 4/ Méthode du lagrangien augmenté"
   ]
  },
  {
   "cell_type": "markdown",
   "metadata": {},
   "source": [
    "### Q 4.1/"
   ]
  },
  {
   "cell_type": "markdown",
   "metadata": {},
   "source": [
    "Le lagrangien du probleme 1 s'écrit  pour $(v,a,\\xi, \\phi) \\in R_m \\times R \\times R_n \\times R_n$  :\n",
    "$L(v, a, \\xi, \\phi) = \\frac{1}{2} \\sum_jv_j^2 + c\\sum_i\\xi_i + \\sum_i\\phi_i \\times (1-M_i(v,a)-\\xi_i) + \\sum_i \\iota_{R_+}(\\phi_i)$\n",
    "\n",
    "$L(v, a, \\xi, \\phi) = \\frac{1}{2} \\sum_jv_j^2 + \\sum_i[c\\xi_i + \\phi_i \\times (1-M_i(v,a)-\\xi_i) + \\iota_{R_+}(\\phi_i)]$"
   ]
  },
  {
   "cell_type": "markdown",
   "metadata": {},
   "source": [
    "### Q 4.2/"
   ]
  },
  {
   "cell_type": "markdown",
   "metadata": {},
   "source": [
    "Interessons nous d'abord à g comme fonction de x pour tout $\\phi$.\n",
    "\n",
    "On a deja : $g(\\cdot,\\phi) \\in C^0(R)$. De plus, $\\forall x \\gt -\\frac{\\phi}{\\rho},\\, g(x, \\phi) = \\frac{\\rho x^2}{2} + x\\phi$\n",
    "\n",
    "Donc pour $\\forall x \\gt -\\frac{\\phi}{\\rho},\\, g(\\cdot, \\phi)$ est derivable et sa dérivée vaut $\\nabla_xg(x, \\phi) = \\rho x+ \\phi$\n",
    "\n",
    "Et, $\\forall x \\lt -\\frac{\\phi}{\\rho},\\, g(x, \\phi) = -\\frac{\\phi^2}{2 \\rho}$ Donc pour $\\forall x \\lt -\\frac{\\phi}{\\rho},\\, g(\\cdot, \\phi)$ est derivable et sa dérivée vaut $\\nabla_xg(x, \\phi) = 0$\n",
    "\n",
    "Finalement, on peut observer que $\\underset{x\\to-\\frac{\\phi}{\\rho}, x \\lt -\\frac{\\phi}{\\rho}}{\\lim}(\\nabla_xg(x,\\phi)$ = $\\underset{x\\to-\\frac{\\phi}{\\rho}, x \\gt -\\frac{\\phi}{\\rho}}{\\lim}(\\nabla_xg(x,\\phi)$ \n",
    "\n",
    "Donc $g(\\cdot, \\phi)$ est derivable sur R et $\\nabla_xg(x, \\phi) = \\left \\{\n",
    "\\begin{array} {}\n",
    "    0 & if \\, x \\le - \\frac{\\phi}{\\rho} \\\\\n",
    "    \\rho x + \\phi & if \\, x \\gt - \\frac{\\phi}{\\rho} \\\\\n",
    "\\end{array}\n",
    "\\right . = \\rho \\max (0, x+\\frac{\\phi}{\\rho})$"
   ]
  },
  {
   "cell_type": "markdown",
   "metadata": {},
   "source": [
    "De même pour g comme fonction de $\\phi$ pour tout x. Par prolongement de la dérivée en $\\phi = -x \\rho$ on obtient la dérivabilité sur R de $g(x, \\cdot)$. \n",
    "\n",
    "Et $\\nabla_\\phi g(x, \\phi) = \\left \\{\n",
    "\\begin{array} {}\n",
    "    -\\frac{\\phi}{\\rho} & if \\, \\phi \\le - x{\\rho} \\\\\n",
    "    x & if \\, \\phi \\gt - x{\\rho} \\\\\n",
    "\\end{array}\n",
    "\\right . =\\max (-\\frac{\\phi}{\\rho}, x)$"
   ]
  },
  {
   "cell_type": "markdown",
   "metadata": {},
   "source": [
    "### Q 4.3/"
   ]
  },
  {
   "cell_type": "markdown",
   "metadata": {},
   "source": [
    "Soit $\\forall \\phi g_\\phi(x) = g(x, \\phi)$. On a $g_\\phi$ qui est derivable sur R et $g_\\phi'(x) = \\nabla_x g(x,\\phi) = \\rho \\max (0, x+\\frac{\\phi}{\\rho})$. On peut observer que $g_\\phi'$ est une fonction croissante sur R (c'est une fonction de x). Donc $g_\\phi$ est convexe $\\forall \\phi$.\n",
    "\n",
    "De meme soit $g_x(\\phi) = g(x, \\phi)$. On a de la même manière $g_x'$ qui est décroissante sur R. Donc $g_x$ est concave $\\forall x$.\n",
    "\n"
   ]
  },
  {
   "cell_type": "markdown",
   "metadata": {},
   "source": [
    "### Q 4.4/"
   ]
  },
  {
   "cell_type": "code",
   "execution_count": 19,
   "metadata": {},
   "outputs": [],
   "source": [
    "rho = 2\n",
    "\n",
    "def nabla_x_g(x, phi):\n",
    "    return rho * np.maximum(np.zeros(x.shape), x + phi/rho)\n",
    "\n",
    "def nabla_phi_g(x, phi):\n",
    "    return np.maximum(-phi/rho, x)\n",
    "\n",
    "\n",
    "def compute_min_v_a_xi_L(phi, psi):\n",
    "    # on se fixe des conditions initiales pour minimiser le lagrangien\n",
    "    v = np.zeros((30,))\n",
    "    a = 0\n",
    "    xi = np.zeros((569,))\n",
    "    \n",
    "    dv = np.zeros((30,))\n",
    "    da = 1.5\n",
    "    dxi = np.zeros((569,))\n",
    "    \n",
    "    while np.sum(dv**2)+da**2+np.sum(dxi**2)>1:\n",
    "        x = 1-xi-np.dot(np.diag(y), np.dot(X, v) + a)\n",
    "        \n",
    "        #Calcul des gradients\n",
    "        dv = v - np.dot(np.dot(np.diag(y), X).T, nabla_x_g(x, psi))\n",
    "        da = -np.sum(y * nabla_x_g(x,psi))\n",
    "        dxi = c - nabla_x_g(-xi, phi) - nabla_x_g(x, psi)\n",
    "        \n",
    "        gamma = 1/750\n",
    "        v -= gamma * dv\n",
    "        a -= gamma * da\n",
    "        xi -= gamma * dxi\n",
    "        \n",
    "    return v, a, xi"
   ]
  },
  {
   "cell_type": "markdown",
   "metadata": {},
   "source": [
    "### Q 4.5/\n"
   ]
  },
  {
   "cell_type": "code",
   "execution_count": 20,
   "metadata": {},
   "outputs": [],
   "source": [
    "def nabla_phi_L(v,a,xi,phi,psi):\n",
    "    return nabla_phi_g(-xi, phi)\n",
    "\n",
    "def nabla_psi_L(v,a,xi,phi,psi):\n",
    "    x = 1-xi-np.dot(np.diag(y), np.dot(X, v) + a)\n",
    "    return nabla_phi_g(x, psi)\n",
    "    "
   ]
  },
  {
   "cell_type": "markdown",
   "metadata": {},
   "source": [
    "### Q 4.6/"
   ]
  },
  {
   "cell_type": "code",
   "execution_count": 21,
   "metadata": {},
   "outputs": [],
   "source": [
    "def lagr_aug_method(N):\n",
    "    phi = 0\n",
    "    psi = 0\n",
    "    \n",
    "    for i in range(N):\n",
    "        if i%10 == 0:\n",
    "            print(i)\n",
    "        v,a,xi = compute_min_v_a_xi_L(phi,psi)\n",
    "        phi += rho * nabla_phi_g(-xi, phi)\n",
    "        x = 1-xi-np.dot(np.diag(y), np.dot(X, v) + a)\n",
    "        psi += rho * nabla_phi_g(x, psi)\n",
    "    return v,a,xi"
   ]
  },
  {
   "cell_type": "code",
   "execution_count": 22,
   "metadata": {},
   "outputs": [
    {
     "name": "stdout",
     "output_type": "stream",
     "text": [
      "0\n",
      "10\n",
      "20\n",
      "30\n",
      "40\n",
      "50\n",
      "60\n",
      "70\n",
      "80\n",
      "90\n",
      "100\n",
      "110\n",
      "120\n",
      "130\n",
      "140\n",
      "150\n",
      "160\n",
      "170\n",
      "180\n",
      "190\n",
      "200\n",
      "210\n",
      "220\n",
      "230\n",
      "240\n",
      "250\n",
      "260\n",
      "270\n",
      "280\n",
      "290\n",
      "300\n",
      "310\n",
      "320\n",
      "330\n",
      "340\n",
      "350\n",
      "360\n",
      "370\n",
      "380\n",
      "390\n",
      "400\n",
      "410\n",
      "420\n",
      "430\n",
      "440\n",
      "450\n",
      "460\n",
      "470\n",
      "480\n",
      "490\n",
      "500\n",
      "510\n",
      "520\n",
      "530\n",
      "540\n",
      "550\n",
      "560\n",
      "570\n",
      "580\n",
      "590\n",
      "600\n",
      "610\n",
      "620\n",
      "630\n",
      "640\n",
      "650\n",
      "660\n",
      "670\n",
      "680\n",
      "690\n",
      "700\n",
      "710\n",
      "720\n",
      "730\n",
      "740\n",
      "750\n",
      "760\n",
      "770\n",
      "780\n",
      "790\n",
      "800\n",
      "810\n",
      "820\n",
      "830\n",
      "840\n",
      "850\n",
      "860\n",
      "870\n",
      "880\n",
      "890\n",
      "900\n",
      "910\n",
      "920\n",
      "930\n",
      "940\n",
      "950\n",
      "960\n",
      "970\n",
      "980\n",
      "990\n",
      "1000\n",
      "1010\n",
      "1020\n",
      "1030\n",
      "1040\n",
      "1050\n",
      "1060\n",
      "1070\n",
      "1080\n",
      "1090\n",
      "1100\n",
      "1110\n",
      "1120\n",
      "1130\n",
      "1140\n",
      "1150\n",
      "1160\n",
      "1170\n",
      "1180\n",
      "1190\n",
      "1200\n",
      "1210\n",
      "1220\n",
      "1230\n",
      "1240\n",
      "1250\n",
      "1260\n",
      "1270\n",
      "1280\n",
      "1290\n",
      "1300\n",
      "1310\n",
      "1320\n",
      "1330\n",
      "1340\n",
      "1350\n",
      "1360\n",
      "1370\n",
      "1380\n",
      "1390\n",
      "1400\n",
      "1410\n",
      "1420\n",
      "1430\n",
      "1440\n",
      "1450\n",
      "1460\n",
      "1470\n",
      "1480\n",
      "1490\n",
      "1500\n",
      "1510\n",
      "1520\n",
      "1530\n",
      "1540\n",
      "1550\n",
      "1560\n",
      "1570\n",
      "1580\n",
      "1590\n",
      "1600\n",
      "1610\n",
      "1620\n",
      "1630\n",
      "1640\n",
      "1650\n",
      "1660\n",
      "1670\n",
      "1680\n",
      "1690\n",
      "1700\n",
      "1710\n",
      "1720\n",
      "1730\n",
      "1740\n",
      "1750\n",
      "1760\n",
      "1770\n",
      "1780\n",
      "1790\n",
      "1800\n",
      "1810\n",
      "1820\n",
      "1830\n",
      "1840\n",
      "1850\n",
      "1860\n",
      "1870\n",
      "1880\n",
      "1890\n",
      "1900\n",
      "1910\n",
      "1920\n",
      "1930\n",
      "1940\n",
      "1950\n",
      "1960\n",
      "1970\n",
      "1980\n",
      "1990\n"
     ]
    }
   ],
   "source": [
    "v,a,xi = lagr_aug_method(2000)"
   ]
  },
  {
   "cell_type": "code",
   "execution_count": 23,
   "metadata": {},
   "outputs": [
    {
     "data": {
      "text/plain": [
       "27.032168400716554"
      ]
     },
     "execution_count": 23,
     "metadata": {},
     "output_type": "execute_result"
    }
   ],
   "source": [
    "def f(v,xi):\n",
    "    return 1/2 * np.sum(v**2) + c * np.sum(xi)\n",
    "f(v,xi)"
   ]
  },
  {
   "cell_type": "markdown",
   "metadata": {},
   "source": [
    "## 5 Comparer les méthodes"
   ]
  },
  {
   "cell_type": "markdown",
   "metadata": {},
   "source": [
    "La methode du sous grandient est meilleure que la stochastique dans ce cas. En effet la stochastique est trop aléatoire. On pourrait peut etre envisager de faire une variante ou on utilise un sous esemble des données à chaque étapes de taille plus que 1 pour éviter les réalisations extrèmes.\n",
    "\n",
    "Et pour la méthode du lagrangien augmenté elle semble être la meilleure, mais elle demande bien plus de temps et de capacité de calculs que les deux autres !\n"
   ]
  }
 ],
 "metadata": {
  "kernelspec": {
   "display_name": "Python 3",
   "language": "python",
   "name": "python3"
  },
  "language_info": {
   "codemirror_mode": {
    "name": "ipython",
    "version": 3
   },
   "file_extension": ".py",
   "mimetype": "text/x-python",
   "name": "python",
   "nbconvert_exporter": "python",
   "pygments_lexer": "ipython3",
   "version": "3.5.3"
  }
 },
 "nbformat": 4,
 "nbformat_minor": 2
}
