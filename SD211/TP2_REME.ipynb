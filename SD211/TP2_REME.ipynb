{
 "cells": [
  {
   "cell_type": "markdown",
   "metadata": {},
   "source": [
    "# TP2 : Séparateurs à Vaste Marge"
   ]
  },
  {
   "cell_type": "markdown",
   "metadata": {},
   "source": [
    "## 1/ Données"
   ]
  },
  {
   "cell_type": "code",
   "execution_count": 1,
   "metadata": {},
   "outputs": [],
   "source": [
    "import numpy as np\n",
    "\n",
    "def load_breastcancer(filename):\n",
    "    \"\"\"\n",
    "    Cette fonction lit le fichier filename, par exemple\n",
    "    filename = 'wdbc_M1_B0.data'\n",
    "    Elle retourne \n",
    "    X : une matrice de caracteristiques\n",
    "    y : un vecteur des classes tel que si y[i] = 1, la tumeur est maligne\n",
    "        et si y[i] = -1, la tumeur est benigne\n",
    "\n",
    "    Pour plus d'infos sur la base de donnees,\n",
    "    https://archive.ics.uci.edu/ml/datasets/Breast+Cancer+Wisconsin+%28Prognostic%29\n",
    "    \"\"\"\n",
    "\n",
    "    data = np.loadtxt(filename, delimiter=',')\n",
    "\n",
    "    # la colonne 0 ne nous interesse pas ici\n",
    "    y = data[:, 1] * 2 - 1\n",
    "    X = data[:, 2:]\n",
    "\n",
    "    # Standardisation de la matrice\n",
    "    X = X - np.mean(X, axis=0)\n",
    "    X = X / np.std(X, axis=0)\n",
    "\n",
    "    return X, y"
   ]
  },
  {
   "cell_type": "code",
   "execution_count": 2,
   "metadata": {},
   "outputs": [],
   "source": [
    "X, y = load_breastcancer(\"wdbcM1B0.data\")"
   ]
  },
  {
   "cell_type": "markdown",
   "metadata": {},
   "source": [
    "## 2/ Méthode du sous-gradient "
   ]
  },
  {
   "cell_type": "markdown",
   "metadata": {},
   "source": [
    "### Q 2.1/\n",
    "Let $\\Xi_i (v,a) = [max(0, 1-y_i(x_i^T v+ a); + \\infty[$\n",
    "\n",
    "Let $\\Xi (v,a) = \\prod_i \\Xi_i (v,a)$\n",
    "\n",
    "$\\forall$ $v \\in R_m$, $a \\in R$, $\\xi \\in \\Xi (v,a)$, $\\space$ let $f(v, a, \\xi) = \\frac{1}{2} \\sum_j v_j^2 + \\sum_i \\xi_i$. $f$ is an increasing function of $\\xi_i \\space \\forall i$ (and for all $v, a, \\xi_j (j\\ne i)$  fixed).\n",
    "\n",
    "And let $\\xi_{min} = (\\xi_{{min}_i})_i$ where $\\xi_{min_i} = max(0, 1-y_i(x_i^T v+ a)$\n",
    "\n",
    "We have : $\\forall$ $v \\in R_m$, $a \\in R$, $\\xi \\in \\Xi (v,a)$, $f(v, a, \\xi) \\ge f(v, a, \\xi_{min})$. (Because $f$ is an increasing function of $\\xi_i \\space \\forall i$.)\n",
    "\n",
    "Therefore, $min_{v,a,\\xi} f(v,a,\\xi) \\ge min_{v,a,\\xi} f(v, a, \\xi_{min}) = min_{v,a} f(v, a, \\xi_{min})$\n",
    "\n",
    "We proved the first inequality : $min_{v,a,\\xi} f(v,a,\\xi) \\ge min_{v,a} f(v, a, \\xi_{min})$\n",
    "\n",
    "As it holds that, for any function $g$ which admits a minimum, $\\forall b_o \\in B, min_{a\\in A, b \\in B} g(a,b) \\le min_{a \\in A} g(a,b_o)$ \n",
    "\n",
    "With $g = f$ and $\\xi o = \\xi_{min}$, $min_{v,a,\\xi} f(v,a,\\xi) \\le min_{v,a} f(v, a, \\xi_{min})$\n",
    "\n",
    "\n",
    "Therefore the problem 1 is equivalent to the problem 2 !\n",
    "\n",
    "And we define $f(v, a) = f(v, a, \\xi_{min})$"
   ]
  },
  {
   "cell_type": "markdown",
   "metadata": {},
   "source": [
    "### Q 2.2/"
   ]
  },
  {
   "cell_type": "code",
   "execution_count": 5,
   "metadata": {},
   "outputs": [],
   "source": [
    "import matplotlib.pyplot as plt"
   ]
  },
  {
   "cell_type": "code",
   "execution_count": 6,
   "metadata": {},
   "outputs": [
    {
     "data": {
      "image/png": "[encoded data removed]",
      "text/plain": [
       "<Figure size 432x288 with 1 Axes>"
      ]
     },
     "metadata": {
      "needs_background": "light"
     },
     "output_type": "display_data"
    }
   ],
   "source": [
    "def h(z):\n",
    "    return np.maximum(np.zeros(z.shape),1-z)\n",
    "\n",
    "z = np.arange(-8,12,0.01)\n",
    "plt.plot(z, h(z), color = 'blue', label = \"h(z)\")\n",
    "plt.plot([-8,12], [-0.2,-.2], color = 'orange', label = \"sub_diff(h, 1)\")\n",
    "plt.plot([-8,12], [8.8, -11.2], color = 'orange')\n",
    "plt.plot([-8,12], [4.3, -5.7], color = 'orange')\n",
    "plt.plot([-8,12], [9*3/4-0.2,-11*3/4 -0.2], color = 'orange')\n",
    "plt.plot([-8,12], [9/4-0.2,-11/4 -0.2], color = 'orange')\n",
    "plt.legend()\n",
    "plt.show()"
   ]
  },
  {
   "cell_type": "markdown",
   "metadata": {},
   "source": [
    "The function is linear and therefore derivable for z != 1. So $\\partial h(z) = \\frac{dh}{dz} (z)$.\n",
    "\n",
    "And for z = 1, we can see that all the slopes between minus 1 and 0 fits the definition.\n",
    "\n",
    "So $\\partial h(z) = \\left \\{\n",
    "\\begin{array} {}\n",
    "    {-1} & if \\, x \\lt 1 \\\\\n",
    "    [-1;0] & if \\, x = 1 \\\\\n",
    "    {0} & if \\, x \\gt 1 \\\\\n",
    "\\end{array}\n",
    "\\right .$"
   ]
  },
  {
   "cell_type": "markdown",
   "metadata": {},
   "source": [
    "### Q 2.3/"
   ]
  },
  {
   "cell_type": "markdown",
   "metadata": {},
   "source": [
    "Let $N(w) = \\sum_{j=1}^{m+1} N_j(w_j)$. With $\\forall j \\in [1;m], N_j(w_j) = \\frac{1}{2}w_j^2$ and $N_{m+1} = 0$. N is separable.\n",
    "\n",
    "Then with $w = (v,a), N(v,a) = \\frac{1}{2}\\sum_j v_j^2$.\n",
    "\n",
    "Let $M = \n",
    "\\begin{pmatrix}\n",
    "y_{1} & &0 \\\\\n",
    "& \\ddots & \\\\\n",
    "0 & & y_{n}\n",
    "\\end{pmatrix} \\times \\begin{pmatrix} \n",
    "X, &  \\begin{pmatrix} 1\\\\\\vdots\\\\1 \\end{pmatrix}\n",
    "\\end{pmatrix} \\in M_{n,m+1}(R)$\n",
    "\n",
    "$M \\begin{pmatrix} v\\\\a \\end{pmatrix} = \\begin{pmatrix}y_0(x_0^Tv + a)\\\\ \\vdots \\\\ y_n(x_n^Tv +a) \\end{pmatrix}$\n",
    "\n",
    "Then let $H(x) = \\sum_{i=1}^n h(x_i)$. With $h(z) = max(0,1-z)$. H is separable.\n",
    "\n",
    "And $H(M(v,a)) = \\sum_i max(0, 1-y_i(x_i^Tv +a))$ and then $f(v,a) = N(v,a) + cH(M(v,a))$"
   ]
  },
  {
   "cell_type": "markdown",
   "metadata": {},
   "source": [
    " "
   ]
  },
  {
   "cell_type": "markdown",
   "metadata": {},
   "source": [
    "Moreover we have $0 \\in r_i(Mdom(N) - dom(H))$ as $dom(N) = R_m$.\n",
    "\n",
    "So $\\partial f(v,a) = \\partial N(v,a) + cM^T \\partial H (M(v,a)).$"
   ]
  },
  {
   "cell_type": "markdown",
   "metadata": {},
   "source": [
    "N can be derivate : $\\partial N(v,a) = (v, 0)$\n",
    "\n",
    "And H is a separable function : $\\partial H(M(v,a)) = \\prod_i \\partial h(M_i(v,a)) = \\prod_i \\partial h(y_i(x_i^Tv+a))$"
   ]
  },
  {
   "cell_type": "markdown",
   "metadata": {},
   "source": [
    "### Q 2.4/"
   ]
  },
  {
   "cell_type": "code",
   "execution_count": 42,
   "metadata": {},
   "outputs": [],
   "source": [
    "c = 1\n",
    "M = np.dot(np.diag(y), np.concatenate([X, np.ones((569,1))], axis = 1))\n",
    "def N(va):\n",
    "    return 0.5 * np.sum(va[:-1]**2)\n",
    "def H_M(va):\n",
    "    return np.sum(h(np.dot(M,va)))\n",
    "\n",
    "def f(va):\n",
    "    return N(va) + c * H_M(va)"
   ]
  },
  {
   "cell_type": "code",
   "execution_count": 47,
   "metadata": {},
   "outputs": [],
   "source": [
    "def delta_N(va):\n",
    "    return np.concatenate([va[:-1], [0]])\n",
    "\n",
    "def delta_H_M(va):\n",
    "    \"\"\"Return one element of M^T x delta_H(M(v,a))\"\"\"\n",
    "    return np.dot(M.T, (np.dot(M,va)>=1)- 1)\n",
    "\n",
    "def delta_f(va):\n",
    "    return delta_N(va) + c * delta_H_M(va)"
   ]
  },
  {
   "cell_type": "markdown",
   "metadata": {},
   "source": [
    "### Q 2.5/"
   ]
  },
  {
   "cell_type": "code",
   "execution_count": 99,
   "metadata": {},
   "outputs": [],
   "source": [
    "def sub_grad_method(va0, N):\n",
    "    va_moy = np.zeros(va0.shape)\n",
    "    gamma_sum = 0\n",
    "    \n",
    "    for i in range(N):\n",
    "        gamma = 1/(i+1)\n",
    "        gamma_sum += gamma\n",
    "        va_moy += va0 * gamma\n",
    "        \n",
    "        va0 = va0 - gamma*delta_f(va0)\n",
    "    \n",
    "    return va0\n",
    "    #return va_moy/gamma_sum\n",
    "        "
   ]
  },
  {
   "cell_type": "code",
   "execution_count": 106,
   "metadata": {},
   "outputs": [],
   "source": [
    "va0 = np.zeros((31,))\n",
    "va1 = sub_grad_method(va0, 100000)\n"
   ]
  },
  {
   "cell_type": "code",
   "execution_count": 107,
   "metadata": {},
   "outputs": [
    {
     "data": {
      "text/plain": [
       "26.526519631265895"
      ]
     },
     "execution_count": 107,
     "metadata": {},
     "output_type": "execute_result"
    }
   ],
   "source": [
    "f(va1)"
   ]
  },
  {
   "cell_type": "markdown",
   "metadata": {},
   "source": [
    "## 3/ Méthode du sous-gradient stochastique"
   ]
  },
  {
   "cell_type": "markdown",
   "metadata": {},
   "source": [
    "### Q 3.1/\n",
    "We have :\n",
    "\n",
    "$\\begin{array}{}\n",
    "E(f_I(v,a)) = \\sum_i P(I = i) \\times f_i(v,a) \\\\\n",
    "E(f_I(v,a)) = \\frac{1}{n}\\sum_i f_i(v,a) \\\\\n",
    "E(f_I(v,a)) = \\frac{1}{2} \\sum_j v_j^2 + \\frac{1}{n}\\sum_i c\\,n\\,max(0,1-y_i(x_i^Tv + a))\\\\\n",
    "E(f_I(v,a)) = \\frac{1}{2} \\sum_j v_j^2 + c\\sum_i max(0,1-y_i(x_i^Tv + a))\\\\ \n",
    "E(f_I(v,a)) = f(v,a)\\\\\n",
    "\\end{array}$"
   ]
  },
  {
   "cell_type": "markdown",
   "metadata": {},
   "source": [
    "### Q 3.2/"
   ]
  },
  {
   "cell_type": "markdown",
   "metadata": {},
   "source": [
    "Soit $M_i = y_i(x_i^T, 1)$. On a $M_i(v,a) = y_i(x_i^Tv + a)$. \n",
    "$\\partial f_i(v,a) = (v,0) + c\\times n\\times M_i^T\\partial h(M_i(v,a))$"
   ]
  }
 ],
 "metadata": {
  "kernelspec": {
   "display_name": "Python 3",
   "language": "python",
   "name": "python3"
  },
  "language_info": {
   "codemirror_mode": {
    "name": "ipython",
    "version": 3
   },
   "file_extension": ".py",
   "mimetype": "text/x-python",
   "name": "python",
   "nbconvert_exporter": "python",
   "pygments_lexer": "ipython3",
   "version": "3.6.5"
  }
 },
 "nbformat": 4,
 "nbformat_minor": 2
}
