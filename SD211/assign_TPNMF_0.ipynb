{
 "cells": [
  {
   "cell_type": "markdown",
   "metadata": {},
   "source": [
    "# Computer Lab: nonnegative matrix factorization"
   ]
  },
  {
   "cell_type": "code",
   "execution_count": 1,
   "metadata": {},
   "outputs": [],
   "source": [
    "import numpy as np\n",
    "import matplotlib.pyplot as plt\n",
    "import scipy.optimize\n",
    "import scipy.sparse\n",
    "import scipy.sparse.linalg\n",
    "import time\n",
    "\n",
    "def build_matrix_from_faces(folder='orl_faces', minidata=False):\n",
    "    # load images\n",
    "    # 400 images of size (112, 92)\n",
    "    M = []\n",
    "    if minidata is True:\n",
    "        nb_subjects = 1\n",
    "    else:\n",
    "        nb_subjects = 40\n",
    "    for subject in range(1, nb_subjects + 1\n",
    "                        ):\n",
    "        for image in range(1, 11):\n",
    "            face = plt.imread(folder + '/s' + str(subject)\n",
    "                              + '/' + str(image) + '.pgm')\n",
    "            M.append(face.ravel())\n",
    "\n",
    "    return np.array(M, dtype=float)\n",
    "\n",
    "def vectorize(W, H):\n",
    "    return np.concatenate((W.ravel(), H.ravel()))\n",
    "\n",
    "def unvectorize_M(W_H, M):\n",
    "    # number of elements in W_H is (n+p)*k where M is of size n x m\n",
    "    # W has the nk first elements\n",
    "    # H has the kp last elements\n",
    "    n, p = M.shape\n",
    "    k = W_H.shape[0] // (n + p)\n",
    "    W = W_H[:n * k].reshape((n, k))\n",
    "    H = W_H[n * k:].reshape((k, p))\n",
    "    return W, H"
   ]
  },
  {
   "cell_type": "markdown",
   "metadata": {
    "collapsed": true
   },
   "source": [
    "Download the database at https://www.cl.cam.ac.uk/research/dtg/attarchive/facedatabase.html\n",
    "Uncompress the file."
   ]
  },
  {
   "cell_type": "code",
   "execution_count": 5,
   "metadata": {},
   "outputs": [
    {
     "data": {
      "image/png": "[encoded data removed]",
      "text/plain": [
       "<Figure size 432x288 with 1 Axes>"
      ]
     },
     "metadata": {
      "needs_background": "light"
     },
     "output_type": "display_data"
    }
   ],
   "source": [
    "# Small data to test the algorithm\n",
    "M = build_matrix_from_faces(folder='./orl_faces', minidata=True)\n",
    "def unvectorize(W_H): return unvectorize_M(W_H, M)\n",
    "k = 2\n",
    "\n",
    "# To see the first face:\n",
    "plt.imshow(M[0].reshape((112, 92)), cmap='gray'); plt.show()\n",
    "\n",
    "# Full data\n",
    "# M = build_matrix_from_faces(folder='./att_faces/orl_faces', minidata=False)\n",
    "# def unvectorize(W_H): return unvectorize_M(W_H, M)\n",
    "# k = 38\n",
    "\n",
    "# initialization\n",
    "W0, S, H0 = scipy.sparse.linalg.svds(M, k)\n",
    "W0 = np.maximum(0, W0 * np.sqrt(S))\n",
    "H0 = np.maximum(0,(H0.T * np.sqrt(S)).T)\n",
    "n, p = M.shape"
   ]
  },
  {
   "cell_type": "markdown",
   "metadata": {},
   "source": [
    "## 1 Database\n",
    "### Question 1.1\n",
    "There are ten different images of each of 40 distinct subjects. So there are 400 images in the database. The size of each image is 92x112 pixels, with 256 grey levels per pixel. So there are 10304 pixels in each image."
   ]
  },
  {
   "cell_type": "markdown",
   "metadata": {},
   "source": [
    "## 2 Presentation of the model\n",
    "### Question 2.1\n",
    "#### Show that the objective function is not convex. \n",
    "The objective function is $$ L\\left(W,H\\right)=\\frac{1}{2np}||M-WH||_{F}^{2}. $$\n",
    "In order to show that it's not convex, we need to find a counterexample. We consider the case where $ n=k=p=1 $. Our counterexample is $$ M=1, W_{1}=1, H_{1}=2, W_{2}=2, H_{1}=1, $$ \n",
    "$$ L\\left(W_{1},H{1}\\right)=\\frac{1}{2\\times1\\times1}\\times\\left(1-1\\times2\\right)^{2}=\\frac{1}{2}, $$\n",
    "$$ L\\left(W_{2},H{2}\\right)=\\frac{1}{2\\times1\\times1}\\times\\left(1-2\\times1\\right)^{2}=\\frac{1}{2}, $$\n",
    "$$ L\\left(\\frac{W_{1}+H_{1}}{2},\\frac{W_{2}+H_{2}}{2}\\right)=\\frac{1}{2\\times1\\times1}\\times\\left(1-\\frac{3}{2}\\times\\frac{3}{2}\\right)^{2} = \\frac{25}{32}, $$\n",
    "$$ \\frac{1}{2}\\left(L\\left(W_{1},H_{1}\\right)+L\\left(W_{2},H_{2}\\right)\\right)<L\\left(\\frac{W_{1}+H_{1}}{2},\\frac{W_{2}+H_{2}}{2}\\right). $$\n",
    "Therefore, the objective function is not convex.\n",
    "#### Caculate its gradient.\n",
    "$$\n",
    "\\begin{equation}\n",
    "\\begin{aligned}\n",
    "L\\left(W+\\Delta W, H\\right)\n",
    "&=\\frac{1}{2np}||M-\\left(W+\\Delta W\\right)H||_{F}^{2}\\\\\n",
    "&=\\frac{1}{2np}tr\\left(\\left(M^{T}-H^{T}W^{T}-H^{T}\\Delta W^{T}\\right)\\left(M-WH-\\Delta WH\\right)\\right)\\\\\n",
    "&=\\frac{1}{2np}tr\\left(M^{T}M-H^{T}W^{T}M-H^{T}\\Delta W^{T}M-M^{T}WH+H^{T}W^{T}WH+H^{T}\\Delta W^{T}WH-M^{T}\\Delta WH+H^{T}W^{T}\\Delta WH+H^{T}\\Delta W^{T}\\Delta WH\\right)\\\\\n",
    "&=\\frac{1}{2np}\\left(tr\\left(\\left(M-WH\\right)^{T}\\left(M-WH\\right)\\right)-2tr\\left(H^{T}\\Delta W^{T}\\left(M-WH\\right)\\right)+H^{T}\\Delta W^{T}\\Delta WH\\right)\\\\\n",
    "&\\approx L\\left(W, H\\right)-\\frac{1}{np}tr\\left(H^{T}\\Delta W^{T}\\left(M-WH\\right)\\right)\n",
    "\\end{aligned}\t\n",
    "\\end{equation}\n",
    "$$\n",
    "Therefore, $\\nabla_{W}L\\left(W,H\\right)=-\\frac{1}{np}(M-WH)H^{T}.$ <br>\n",
    "Similarly, we have$\\nabla_{H}L\\left(W,H\\right)=-\\frac{1}{np}W^{T}(M-WH).$\n",
    "#### Is the gradient Lipschitz continuous?\n",
    "No, it isn't, because the gradient is a polynomial of degree 3 and none of polynomials whose degree is bigger than 1 is Lipschitz continuous."
   ]
  },
  {
   "cell_type": "markdown",
   "metadata": {},
   "source": [
    "## 3 Find $W$ when $H_{0}$ is fixed\n",
    "### Question 3.1\n",
    "#### What is the advantage of this choice?\n",
    "scipy.sparse.linalg.svds returns the largest k singular values/vectors for a sparse matrix, which allows to reconstruct approximately M with a low complexity and a small k. numpy.maximum(0, W0 * numpy.sqrt(S)) and numpy.maximum(0,(H0.T * numpy.sqrt(S)).T) ensure that all the coefficients of $W_{0}$ and $H_{0}$ are non-negative.\n",
    "#### What would be other possibilities for the initialization?\n",
    "We can initialize them by 0 or by random values which are 0 or positive.\n",
    "\n",
    "### Question 3.2\n",
    "#### Is the objective function g convex?\n",
    "According to Question 2.1, we have\n",
    "$$\n",
    "\\begin{equation}\n",
    "\\begin{aligned}\n",
    "g\\left(W+\\Delta W\\right)\n",
    "&=\\frac{1}{2np}\\left(tr\\left(\\left(M-WH_{0}\\right)^{T}\\left(M-WH_{0}\\right)\\right)-2tr\\left(H_{0}^{T}\\Delta W^{T}\\left(M-WH_{0}\\right)\\right)+H_{0}^{T}\\Delta W^{T}\\Delta WH_{0}\\right)\\\\\n",
    "&= g\\left(W\\right)-\\frac{1}{np}tr\\left(H_{0}^{T}\\Delta W^{T}\\left(M-WH_{0}\\right)\\right)+\\frac{1}{2np}H_{0}^{T}\\Delta W^{T}\\Delta WH_{0}\\\\\n",
    "\\end{aligned}\t\n",
    "\\end{equation}\n",
    "$$\n",
    "So we obtain $ \\nabla^{2}g\\left(W\\right) = \\frac{1}{np}H_{0}H_{0}^{T} $ which is positive semi-definite. Therefore, the objective function g is convex.\n",
    "#### Calculate its gradient\n",
    "It's similar to Question 2.1. We have $\\nabla g\\left(W\\right)=-\\frac{1}{np}(M-WH_{0})H_{0}^{T}.$\n",
    "\n",
    "### Question 3.3"
   ]
  },
  {
   "cell_type": "code",
   "execution_count": 6,
   "metadata": {},
   "outputs": [
    {
     "name": "stdout",
     "output_type": "stream",
     "text": [
      "0.00010928003465056223\n"
     ]
    }
   ],
   "source": [
    "def val_g(W_vectorized):\n",
    "    W = W_vectorized.reshape((n, k))\n",
    "    return 1/(2*n*p)*np.linalg.norm(M-np.dot(W, H0), ord='fro')**2\n",
    "\n",
    "def grad_g(W_vectorized):\n",
    "    W = W_vectorized.reshape((n, k))\n",
    "    grad = -1/(n*p)*np.dot(M-np.dot(W, H0), H0.T)\n",
    "    return grad.ravel()\n",
    "\n",
    "print (scipy.optimize.check_grad(val_g, grad_g, W0.ravel()))\n",
    "    "
   ]
  },
  {
   "cell_type": "markdown",
   "metadata": {},
   "source": [
    "### Question 3.4\n",
    "$$ prox_{\\gamma \\iota_{\\mathbb{R}_{+}}}(x)= \\mathop{\\arg\\min}_{y\\in R} \\gamma\\iota_{\\mathbb{R}_{+}}\\left(y\\right)+\\frac{1}{2}||y-x||^{2} $$\n",
    "We have a constraint on y, $y \\geq 0.$\n",
    "$$ x \\geq 0, y \\geq 0, y = x $$\n",
    "$$ x < 0, y \\geq 0, y = 0 $$\n",
    "Therefore, for all $\\gamma$ > 0, $prox_{\\gamma \\iota_{\\mathbb{R}_{+}}}$ is the projection onto $\\mathbb{R}_{+}$.\n",
    "### Question 3.5\n",
    "### Question 3.6"
   ]
  },
  {
   "cell_type": "code",
   "execution_count": 7,
   "metadata": {},
   "outputs": [
    {
     "name": "stdout",
     "output_type": "stream",
     "text": [
      "gamma: 2.2226786924357986\n",
      "time: 0.35977959632873535s\n",
      "Question 3.6: for N = 100, g = 435.62287011493095\n"
     ]
    },
    {
     "data": {
      "text/plain": [
       "[<matplotlib.lines.Line2D at 0x19969cd0>]"
      ]
     },
     "execution_count": 7,
     "metadata": {},
     "output_type": "execute_result"
    },
    {
     "data": {
      "image/png": "[encoded data removed]",
      "text/plain": [
       "<Figure size 432x288 with 1 Axes>"
      ]
     },
     "metadata": {
      "needs_background": "light"
     },
     "output_type": "display_data"
    }
   ],
   "source": [
    "def projected_gradient_method(val_g, grad_g, W0, gamma, N):\n",
    "    W = W0.ravel()\n",
    "    g_evolution = []\n",
    "    for i in range(N):\n",
    "        W = np.maximum(0, W - gamma*grad_g(W))\n",
    "        g_evolution.append(val_g(W))\n",
    "    return W, val_g(W), g_evolution\n",
    "gamma = n*p/np.linalg.norm(np.dot(H0.T, H0), ord='fro')\n",
    "print (\"gamma: \" + str(gamma))\n",
    "\n",
    "t1 = time.time()\n",
    "W, g, g_evolution = projected_gradient_method(val_g, grad_g, W0, gamma, 100)\n",
    "t2 = time.time()\n",
    "print (\"time: \" + str(t2-t1) + \"s\")\n",
    "print (\"Question 3.6: for N = 100, g = \"+ str(g))\n",
    "x = np.arange(1, 101)\n",
    "plt.plot(x, g_evolution)\n",
    "                                              "
   ]
  },
  {
   "cell_type": "markdown",
   "metadata": {},
   "source": [
    "## 4 Algorithmic refinement for the problem with $H_{0}$ fixed\n",
    "### Question 4.1"
   ]
  },
  {
   "cell_type": "code",
   "execution_count": 8,
   "metadata": {},
   "outputs": [
    {
     "name": "stdout",
     "output_type": "stream",
     "text": [
      "time: 1.7119460105895996s\n",
      "435.61263552864966\n"
     ]
    },
    {
     "data": {
      "text/plain": [
       "[<matplotlib.lines.Line2D at 0xa28110>]"
      ]
     },
     "execution_count": 8,
     "metadata": {},
     "output_type": "execute_result"
    },
    {
     "data": {
      "image/png": "[encoded data removed]",
      "text/plain": [
       "<Figure size 432x288 with 1 Axes>"
      ]
     },
     "metadata": {
      "needs_background": "light"
     },
     "output_type": "display_data"
    }
   ],
   "source": [
    "def armijo_line_search_projected_gradient_method(val_g, grad_g, W0, N):\n",
    "    W = W0.ravel()\n",
    "    a, gamma, beta = 0.5, 0.5, 0.5\n",
    "    b = 0.5\n",
    "    g_evolution = []\n",
    "    for i in range(N):\n",
    "        l = 0\n",
    "        while (val_g(W - b*(a**l)*grad_g(W)) >  val_g(W) + beta*(-b*(a**l))*np.linalg.norm(grad_g(W))**2):\n",
    "            l+=1\n",
    "        W = np.maximum(0, W - b*(a**l)*grad_g(W))\n",
    "        b = 2*b*(a**l)\n",
    "        g_evolution.append(val_g(W))\n",
    "    return W, val_g(W), g_evolution\n",
    "\n",
    "t1 = time.time()\n",
    "W, g, g_evolution = armijo_line_search_projected_gradient_method(val_g, grad_g, W0, 100)\n",
    "t2 = time.time()\n",
    "print (\"time: \" + str(t2-t1) + \"s\")\n",
    "print (g)\n",
    "x = np.arange(1, 101)\n",
    "plt.plot(x, g_evolution)"
   ]
  },
  {
   "cell_type": "markdown",
   "metadata": {},
   "source": [
    "### Question 4.2\n",
    "In terms of efficiency, the line search method takes much more time to converge than the constant step method (0.16s VS 0.03s) with the same number of iterations, because it needs more time to compute each step. <br>\n",
    "In terms of accuracy, the two methods obtain almost the same results after 100 iterations. But the value of the objective function of the line search method doesn't decrease monotonically. This is because unlike the general line search, here we have to project W to the constraint in order to ensure it's non-negative. We can attenuate this effect by reducing b of the line search parameters. <br>\n",
    "The constant step method has a better performance. However, it's not always possble to have the Lipschitz constant. <br>\n",
    "\n",
    "## 5 Resolution of the full problem\n",
    "### Question 5.1"
   ]
  },
  {
   "cell_type": "code",
   "execution_count": 9,
   "metadata": {},
   "outputs": [
    {
     "name": "stdout",
     "output_type": "stream",
     "text": [
      "time: 26.8674578666687s\n",
      "solution of W_H_vectorized: [ 8.32243387 71.94176671  0.         ...  0.56303967  0.58494943\n",
      "  0.58634379]\n",
      "objective value: 357.8585436267224\n"
     ]
    },
    {
     "data": {
      "text/plain": [
       "[<matplotlib.lines.Line2D at 0xe37230>]"
      ]
     },
     "execution_count": 9,
     "metadata": {},
     "output_type": "execute_result"
    },
    {
     "data": {
      "image/png": "[encoded data removed]",
      "text/plain": [
       "<Figure size 432x288 with 1 Axes>"
      ]
     },
     "metadata": {
      "needs_background": "light"
     },
     "output_type": "display_data"
    }
   ],
   "source": [
    "def val_L(W_H_vectorized):\n",
    "    W, H = unvectorize(W_H_vectorized)\n",
    "    return 1/(2*n*p)*np.linalg.norm(M-np.dot(W, H))**2\n",
    "\n",
    "def grad_L(W_H_vectorized):\n",
    "    W, H = unvectorize(W_H_vectorized)\n",
    "    grad_W = -1/(n*p)*np.dot(M-np.dot(W, H), H.T)\n",
    "    grad_H = -1/(n*p)*np.dot(W.T, M-np.dot(W, H))\n",
    "    return vectorize(grad_W, grad_H)\n",
    "\n",
    "# print (scipy.optimize.check_grad(val_L, grad_L, vectorize(W0, H0)))\n",
    "# print (armijo_line_search_projected_gradient_method(val_L, grad_L, vectorize(W0, H0), 10000))\n",
    "t1 = time.time()\n",
    "W, L, L_evolution = armijo_line_search_projected_gradient_method(val_L, grad_L, vectorize(W0, H0), 1000)\n",
    "t2 = time.time()\n",
    "print (\"time: \" + str(t2-t1) + \"s\")\n",
    "print (\"solution of W_H_vectorized: \" + str(W))\n",
    "print (\"objective value: \" + str(L))\n",
    "x = np.arange(1, 1001)\n",
    "plt.plot(x, L_evolution)"
   ]
  },
  {
   "cell_type": "markdown",
   "metadata": {},
   "source": [
    "### Question 5.2 \n",
    "Show that the value of the objective is decreasing at each iteration. Deduce from this\n",
    "that the value converges. <br>\n",
    "For each iteration, since $$ W_{t} = argmin_{W} \\frac{1}{2np}||M-WH_{t-1}||_{F}^{2} $$ and $$ H_{t} = argmin_{H}\\frac{1}{2np}||M-W_{t}H||_{F}^{2},$$ we have $$ \\frac{1}{2np}||M-W_{t-1}H_{t-1}||_{F}^{2} \\geq \\frac{1}{2np}||M-W_{t}H_{t-1}||_{F}^{2}  \\geq \\frac{1}{2np}||M-W_{t}H_{t}||_{F}^{2} .$$ So the value of the objective is decreasing at each iteration. And we know that the objective function $ L \\geq 0 $. So this value converges eventually.\n",
    "### Question 5.3"
   ]
  },
  {
   "cell_type": "code",
   "execution_count": 10,
   "metadata": {},
   "outputs": [
    {
     "name": "stdout",
     "output_type": "stream",
     "text": [
      "time: 28.72331404685974s\n",
      "solution of W_H_vectorized: [ 9.38506882 69.69104196  0.         ...  0.5861613   0.60830803\n",
      "  0.61007121]\n",
      "objective value: 357.88274793452376\n"
     ]
    },
    {
     "data": {
      "text/plain": [
       "[<matplotlib.lines.Line2D at 0xe87c50>]"
      ]
     },
     "execution_count": 10,
     "metadata": {},
     "output_type": "execute_result"
    },
    {
     "data": {
      "image/png": "[encoded data removed]",
      "text/plain": [
       "<Figure size 432x288 with 1 Axes>"
      ]
     },
     "metadata": {
      "needs_background": "light"
     },
     "output_type": "display_data"
    }
   ],
   "source": [
    "def val_g_alternate(W_vectorized, H_vectorized):\n",
    "    W = W_vectorized.reshape((n, k))\n",
    "    H = H_vectorized.reshape((k, p))\n",
    "    return 1/(2*n*p)*np.linalg.norm(M-np.dot(W, H), ord='fro')**2\n",
    "\n",
    "def grad_g_alternate(W_vectorized, H_vectorized):\n",
    "    W = W_vectorized.reshape((n, k))\n",
    "    H = H_vectorized.reshape((k, p))\n",
    "    grad = -1/(n*p)*np.dot(M-np.dot(W, H), H.T)\n",
    "    return grad.ravel()\n",
    "\n",
    "def armijo_line_search_projected_gradient_method_W(val_g_alternate, grad_g_alternate, H_vectorized, W0_vectorized, N):\n",
    "    W = W0_vectorized\n",
    "    a, gamma, beta = 0.5, 0.5, 0.5\n",
    "    b = 1\n",
    "    for i in range(N):\n",
    "        l = 0\n",
    "        while (val_g_alternate(W-b*(a**l)*grad_g_alternate(W, H_vectorized), H_vectorized) \n",
    "               > val_g_alternate(W, H_vectorized) + beta*(-b*(a**l))*np.linalg.norm(grad_g_alternate(W, H_vectorized))**2):\n",
    "            l+=1\n",
    "        W = np.maximum(0, W - b*(a**l)*grad_g_alternate(W, H_vectorized))\n",
    "        b = 2*b*(a**l)\n",
    "    return W, val_g_alternate(W, H_vectorized)\n",
    "\n",
    "# print (armijo_line_search_projected_gradient_method_W(val_g_alternate, grad_g_alternate, H0.ravel(), W0.ravel(), 100))\n",
    "\n",
    "def val_h_alternate(W_vectorized, H_vectorized):\n",
    "    W = W_vectorized.reshape((n, k))\n",
    "    H = H_vectorized.reshape((k, p))\n",
    "    return 1/(2*n*p)*np.linalg.norm(M-np.dot(W, H), ord='fro')**2\n",
    "\n",
    "def grad_h_alternate(W_vectorized, H_vectorized):\n",
    "    W = W_vectorized.reshape((n, k))\n",
    "    H = H_vectorized.reshape((k, p))\n",
    "    grad = -1/(n*p)*np.dot(W.T, M-np.dot(W, H))\n",
    "    return grad.ravel()\n",
    "\n",
    "def armijo_line_search_projected_gradient_method_H(val_h_alternate, grad_h_alternate, H0_vectorized, W_vectorized, N):\n",
    "    H = H0_vectorized\n",
    "    a, gamma, beta = 0.5, 0.5, 0.5\n",
    "    b = 1\n",
    "    for i in range(N):\n",
    "        l = 0\n",
    "        while (val_h_alternate(W_vectorized, H-b*(a**l)*grad_h_alternate(W_vectorized, H)) \n",
    "               > val_h_alternate(W_vectorized, H) + beta*(-b*(a**l))*np.linalg.norm(grad_h_alternate(W_vectorized, H))**2):\n",
    "            l+=1\n",
    "        H = np.maximum(0, H - b*(a**l)*grad_h_alternate(W_vectorized, H))\n",
    "        b = 2*b*(a**l)\n",
    "    return H, val_h_alternate(W_vectorized, H)\n",
    "\n",
    "def alternate_minimizations_method(N, M):\n",
    "    W, H = W0.ravel(), H0.ravel()\n",
    "    evolution = []\n",
    "    for i in range(M):\n",
    "        W = armijo_line_search_projected_gradient_method_W(val_g_alternate, grad_g_alternate, H, W, N)[0]\n",
    "        H = armijo_line_search_projected_gradient_method_H(val_h_alternate, grad_h_alternate, H, W, N)[0]\n",
    "        evolution.append(val_g_alternate(W, H))\n",
    "    return vectorize(W,H), val_g_alternate(W, H), evolution\n",
    "\n",
    "t1 = time.time()\n",
    "W_H, val, evolution = alternate_minimizations_method(10, 100)\n",
    "t2 = time.time()\n",
    "print (\"time: \" + str(t2-t1) + \"s\")\n",
    "print (\"solution of W_H_vectorized: \" + str(W_H))\n",
    "print (\"objective value: \" + str(val))\n",
    "x = np.arange(1, 101)\n",
    "plt.plot(x, evolution)\n"
   ]
  },
  {
   "cell_type": "markdown",
   "metadata": {},
   "source": [
    "### Question 5.4\n",
    "The solutions of W and H are quite close, but not exactly the same. The objective values are the same (358). The time of computation are comparable (2.53s VS 2.45s for 1000 iterations).\n",
    "\n",
    "### Question 5.5\n",
    "If the improvement (decrease) of the objective function between two iterations is smaller than a threshold, we stop the algorithm."
   ]
  }
 ],
 "metadata": {
  "kernelspec": {
   "display_name": "Python 3",
   "language": "python",
   "name": "python3"
  },
  "language_info": {
   "codemirror_mode": {
    "name": "ipython",
    "version": 3
   },
   "file_extension": ".py",
   "mimetype": "text/x-python",
   "name": "python",
   "nbconvert_exporter": "python",
   "pygments_lexer": "ipython3",
   "version": "3.6.5"
  }
 },
 "nbformat": 4,
 "nbformat_minor": 2
}
