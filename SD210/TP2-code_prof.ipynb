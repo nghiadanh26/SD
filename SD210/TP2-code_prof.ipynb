{
 "cells": [
  {
   "cell_type": "markdown",
   "metadata": {},
   "source": [
    "# TP 2 : Training a neural network"
   ]
  },
  {
   "cell_type": "markdown",
   "metadata": {},
   "source": [
    "## 1) Training a neural network with keras"
   ]
  },
  {
   "cell_type": "code",
   "execution_count": 1,
   "metadata": {},
   "outputs": [],
   "source": [
    "%matplotlib inline \n",
    "import numpy as np\n",
    "import matplotlib.pyplot as plt\n",
    "from sklearn.datasets import load_digits\n",
    "import keras"
   ]
  },
  {
   "cell_type": "code",
   "execution_count": 2,
   "metadata": {},
   "outputs": [],
   "source": [
    "digits = load_digits()"
   ]
  },
  {
   "cell_type": "code",
   "execution_count": 3,
   "metadata": {},
   "outputs": [
    {
     "data": {
      "image/png": "[encoded data removed]",
      "text/plain": [
       "<Figure size 864x864 with 3 Axes>"
      ]
     },
     "metadata": {},
     "output_type": "display_data"
    }
   ],
   "source": [
    "sample_index = np.array([11, 50, 62])\n",
    "plt.figure(figsize=(12, 12))\n",
    "for i in np.arange(sample_index.shape[0]):\n",
    "    plt.subplot(131 + i)\n",
    "    plt.imshow(digits.images[sample_index[i]], cmap=plt.cm.gray_r,\n",
    "           interpolation='nearest')\n",
    "    plt.title(\"image label: %d\" % digits.target[sample_index[i]])\n",
    "plt.show()"
   ]
  },
  {
   "cell_type": "markdown",
   "metadata": {},
   "source": [
    "### Preprocessing"
   ]
  },
  {
   "cell_type": "code",
   "execution_count": 28,
   "metadata": {},
   "outputs": [],
   "source": [
    "#TODO, output X_train with preprocessing and Y_train as a one-hot enconding vectors\n",
    "X = digits.data\n",
    "Y = digits.target"
   ]
  },
  {
   "cell_type": "code",
   "execution_count": 94,
   "metadata": {},
   "outputs": [],
   "source": [
    "from sklearn.model_selection import train_test_split\n",
    "from sklearn.preprocessing import StandardScaler\n",
    "X_train, X_test, Y_train, Y_test = train_test_split(X, Y, test_size = 0.2)\n",
    "#scaler = StandardScaler()\n",
    "#scaler.fit(X_train)\n",
    "\n",
    "#X_train = scaler.transform(X_train)\n",
    "#X_test = scaler.transform(X_test)"
   ]
  },
  {
   "cell_type": "code",
   "execution_count": 95,
   "metadata": {},
   "outputs": [
    {
     "data": {
      "image/png": "[encoded data removed]",
      "text/plain": [
       "<Figure size 864x864 with 3 Axes>"
      ]
     },
     "metadata": {},
     "output_type": "display_data"
    }
   ],
   "source": [
    "sample_index = np.array([11, 50, 62])\n",
    "plt.figure(figsize=(12, 12))\n",
    "for i in np.arange(sample_index.shape[0]):\n",
    "    plt.subplot(131 + i)\n",
    "    plt.imshow(X_train[sample_index[i]].reshape((8,8)), cmap=plt.cm.gray_r,\n",
    "           interpolation='nearest')\n",
    "    plt.title(\"image label: %d\" % Y_train[sample_index[i]])\n",
    "plt.show()"
   ]
  },
  {
   "cell_type": "code",
   "execution_count": 96,
   "metadata": {},
   "outputs": [
    {
     "data": {
      "text/plain": [
       "(1437, 10)"
      ]
     },
     "execution_count": 96,
     "metadata": {},
     "output_type": "execute_result"
    }
   ],
   "source": [
    "from keras.utils import to_categorical\n",
    "Y_train = to_categorical(Y_train)\n",
    "Y_train.shape"
   ]
  },
  {
   "cell_type": "code",
   "execution_count": 97,
   "metadata": {},
   "outputs": [
    {
     "data": {
      "text/plain": [
       "(360, 10)"
      ]
     },
     "execution_count": 97,
     "metadata": {},
     "output_type": "execute_result"
    }
   ],
   "source": [
    "Y_test = to_categorical(Y_test)\n",
    "Y_test.shape"
   ]
  },
  {
   "cell_type": "markdown",
   "metadata": {},
   "source": [
    "### Building and training the neural network"
   ]
  },
  {
   "cell_type": "code",
   "execution_count": 106,
   "metadata": {},
   "outputs": [
    {
     "name": "stdout",
     "output_type": "stream",
     "text": [
      "Train on 1437 samples, validate on 360 samples\n",
      "Epoch 1/100\n",
      "1437/1437 [==============================] - 1s 623us/step - loss: 12.1487 - acc: 0.1051 - val_loss: 14.4167 - val_acc: 0.1056\n",
      "Epoch 2/100\n",
      "1437/1437 [==============================] - 0s 17us/step - loss: 14.5927 - acc: 0.0946 - val_loss: 14.4167 - val_acc: 0.1056\n",
      "Epoch 3/100\n",
      "1437/1437 [==============================] - 0s 17us/step - loss: 14.5927 - acc: 0.0946 - val_loss: 14.4167 - val_acc: 0.1056\n",
      "Epoch 4/100\n",
      "1437/1437 [==============================] - 0s 21us/step - loss: 14.5927 - acc: 0.0946 - val_loss: 14.4167 - val_acc: 0.1056\n",
      "Epoch 5/100\n",
      "1437/1437 [==============================] - 0s 17us/step - loss: 14.5927 - acc: 0.0946 - val_loss: 14.4167 - val_acc: 0.1056\n",
      "Epoch 6/100\n",
      "1437/1437 [==============================] - 0s 31us/step - loss: 14.5927 - acc: 0.0946 - val_loss: 14.4167 - val_acc: 0.1056\n",
      "Epoch 7/100\n",
      "1437/1437 [==============================] - 0s 26us/step - loss: 14.5927 - acc: 0.0946 - val_loss: 14.4167 - val_acc: 0.1056\n",
      "Epoch 8/100\n",
      "1437/1437 [==============================] - 0s 19us/step - loss: 14.5927 - acc: 0.0946 - val_loss: 14.4167 - val_acc: 0.1056\n",
      "Epoch 9/100\n",
      "1437/1437 [==============================] - 0s 19us/step - loss: 14.5927 - acc: 0.0946 - val_loss: 14.4167 - val_acc: 0.1056\n",
      "Epoch 10/100\n",
      "1437/1437 [==============================] - 0s 20us/step - loss: 14.5927 - acc: 0.0946 - val_loss: 14.4167 - val_acc: 0.1056\n",
      "Epoch 11/100\n",
      "1437/1437 [==============================] - 0s 24us/step - loss: 14.5927 - acc: 0.0946 - val_loss: 14.4167 - val_acc: 0.1056\n",
      "Epoch 12/100\n",
      "1437/1437 [==============================] - 0s 18us/step - loss: 14.5927 - acc: 0.0946 - val_loss: 14.4167 - val_acc: 0.1056\n",
      "Epoch 13/100\n",
      "1437/1437 [==============================] - 0s 20us/step - loss: 14.5927 - acc: 0.0946 - val_loss: 14.4167 - val_acc: 0.1056\n",
      "Epoch 14/100\n",
      "1437/1437 [==============================] - 0s 18us/step - loss: 14.5927 - acc: 0.0946 - val_loss: 14.4167 - val_acc: 0.1056\n",
      "Epoch 15/100\n",
      "1437/1437 [==============================] - 0s 18us/step - loss: 14.5927 - acc: 0.0946 - val_loss: 14.4167 - val_acc: 0.1056\n",
      "Epoch 16/100\n",
      "1437/1437 [==============================] - 0s 23us/step - loss: 14.5927 - acc: 0.0946 - val_loss: 14.4167 - val_acc: 0.1056\n",
      "Epoch 17/100\n",
      "1437/1437 [==============================] - 0s 17us/step - loss: 14.5927 - acc: 0.0946 - val_loss: 14.4167 - val_acc: 0.1056\n",
      "Epoch 18/100\n",
      "1437/1437 [==============================] - 0s 25us/step - loss: 14.5927 - acc: 0.0946 - val_loss: 14.4167 - val_acc: 0.1056\n",
      "Epoch 19/100\n",
      "1437/1437 [==============================] - 0s 18us/step - loss: 14.5927 - acc: 0.0946 - val_loss: 14.4167 - val_acc: 0.1056\n",
      "Epoch 20/100\n",
      "1437/1437 [==============================] - 0s 22us/step - loss: 14.5927 - acc: 0.0946 - val_loss: 14.4167 - val_acc: 0.1056\n",
      "Epoch 21/100\n",
      "1437/1437 [==============================] - 0s 15us/step - loss: 14.5927 - acc: 0.0946 - val_loss: 14.4167 - val_acc: 0.1056\n",
      "Epoch 22/100\n",
      "1437/1437 [==============================] - 0s 20us/step - loss: 14.5927 - acc: 0.0946 - val_loss: 14.4167 - val_acc: 0.1056\n",
      "Epoch 23/100\n",
      "1437/1437 [==============================] - 0s 19us/step - loss: 14.5927 - acc: 0.0946 - val_loss: 14.4167 - val_acc: 0.1056\n",
      "Epoch 24/100\n",
      "1437/1437 [==============================] - 0s 15us/step - loss: 14.5927 - acc: 0.0946 - val_loss: 14.4167 - val_acc: 0.1056\n",
      "Epoch 25/100\n",
      "1437/1437 [==============================] - 0s 18us/step - loss: 14.5927 - acc: 0.0946 - val_loss: 14.4167 - val_acc: 0.1056\n",
      "Epoch 26/100\n",
      "1437/1437 [==============================] - 0s 25us/step - loss: 14.5927 - acc: 0.0946 - val_loss: 14.4167 - val_acc: 0.1056\n",
      "Epoch 27/100\n",
      "1437/1437 [==============================] - 0s 14us/step - loss: 14.5927 - acc: 0.0946 - val_loss: 14.4167 - val_acc: 0.1056\n",
      "Epoch 28/100\n",
      "1437/1437 [==============================] - 0s 21us/step - loss: 14.5927 - acc: 0.0946 - val_loss: 14.4167 - val_acc: 0.1056\n",
      "Epoch 29/100\n",
      "1437/1437 [==============================] - 0s 19us/step - loss: 14.5927 - acc: 0.0946 - val_loss: 14.4167 - val_acc: 0.1056\n",
      "Epoch 30/100\n",
      "1437/1437 [==============================] - 0s 15us/step - loss: 14.5927 - acc: 0.0946 - val_loss: 14.4167 - val_acc: 0.1056\n",
      "Epoch 31/100\n",
      "1437/1437 [==============================] - 0s 27us/step - loss: 14.5927 - acc: 0.0946 - val_loss: 14.4167 - val_acc: 0.1056\n",
      "Epoch 32/100\n",
      "1437/1437 [==============================] - 0s 20us/step - loss: 14.5927 - acc: 0.0946 - val_loss: 14.4167 - val_acc: 0.1056\n",
      "Epoch 33/100\n",
      "1437/1437 [==============================] - 0s 18us/step - loss: 14.5927 - acc: 0.0946 - val_loss: 14.4167 - val_acc: 0.1056\n",
      "Epoch 34/100\n",
      "1437/1437 [==============================] - 0s 18us/step - loss: 14.5927 - acc: 0.0946 - val_loss: 14.4167 - val_acc: 0.1056\n",
      "Epoch 35/100\n",
      "1437/1437 [==============================] - 0s 22us/step - loss: 14.5927 - acc: 0.0946 - val_loss: 14.4167 - val_acc: 0.1056\n",
      "Epoch 36/100\n",
      "1437/1437 [==============================] - 0s 18us/step - loss: 14.5927 - acc: 0.0946 - val_loss: 14.4167 - val_acc: 0.1056\n",
      "Epoch 37/100\n",
      "1437/1437 [==============================] - 0s 19us/step - loss: 14.5927 - acc: 0.0946 - val_loss: 14.4167 - val_acc: 0.1056\n",
      "Epoch 38/100\n",
      "1437/1437 [==============================] - 0s 21us/step - loss: 14.5927 - acc: 0.0946 - val_loss: 14.4167 - val_acc: 0.1056\n",
      "Epoch 39/100\n",
      "1437/1437 [==============================] - 0s 20us/step - loss: 14.5927 - acc: 0.0946 - val_loss: 14.4167 - val_acc: 0.1056\n",
      "Epoch 40/100\n",
      "1437/1437 [==============================] - 0s 21us/step - loss: 14.5927 - acc: 0.0946 - val_loss: 14.4167 - val_acc: 0.1056\n",
      "Epoch 41/100\n",
      "1437/1437 [==============================] - 0s 20us/step - loss: 14.5927 - acc: 0.0946 - val_loss: 14.4167 - val_acc: 0.1056\n",
      "Epoch 42/100\n",
      "1437/1437 [==============================] - 0s 14us/step - loss: 14.5927 - acc: 0.0946 - val_loss: 14.4167 - val_acc: 0.1056\n",
      "Epoch 43/100\n",
      "1437/1437 [==============================] - 0s 30us/step - loss: 14.5927 - acc: 0.0946 - val_loss: 14.4167 - val_acc: 0.1056\n",
      "Epoch 44/100\n",
      "1437/1437 [==============================] - 0s 25us/step - loss: 14.5927 - acc: 0.0946 - val_loss: 14.4167 - val_acc: 0.1056\n",
      "Epoch 45/100\n",
      "1437/1437 [==============================] - 0s 19us/step - loss: 14.5927 - acc: 0.0946 - val_loss: 14.4167 - val_acc: 0.1056\n",
      "Epoch 46/100\n",
      "1437/1437 [==============================] - 0s 16us/step - loss: 14.5927 - acc: 0.0946 - val_loss: 14.4167 - val_acc: 0.1056\n",
      "Epoch 47/100\n",
      "1437/1437 [==============================] - 0s 27us/step - loss: 14.5927 - acc: 0.0946 - val_loss: 14.4167 - val_acc: 0.1056\n",
      "Epoch 48/100\n",
      "1437/1437 [==============================] - 0s 22us/step - loss: 14.5927 - acc: 0.0946 - val_loss: 14.4167 - val_acc: 0.1056\n",
      "Epoch 49/100\n",
      "1437/1437 [==============================] - 0s 21us/step - loss: 14.5927 - acc: 0.0946 - val_loss: 14.4167 - val_acc: 0.1056\n",
      "Epoch 50/100\n",
      "1437/1437 [==============================] - 0s 25us/step - loss: 14.5927 - acc: 0.0946 - val_loss: 14.4167 - val_acc: 0.1056\n",
      "Epoch 51/100\n",
      "1437/1437 [==============================] - 0s 26us/step - loss: 14.5927 - acc: 0.0946 - val_loss: 14.4167 - val_acc: 0.1056\n",
      "Epoch 52/100\n",
      "1437/1437 [==============================] - 0s 20us/step - loss: 14.5927 - acc: 0.0946 - val_loss: 14.4167 - val_acc: 0.1056\n",
      "Epoch 53/100\n",
      "1437/1437 [==============================] - 0s 19us/step - loss: 14.5927 - acc: 0.0946 - val_loss: 14.4167 - val_acc: 0.1056\n",
      "Epoch 54/100\n",
      "1437/1437 [==============================] - 0s 22us/step - loss: 14.5927 - acc: 0.0946 - val_loss: 14.4167 - val_acc: 0.1056\n",
      "Epoch 55/100\n",
      "1437/1437 [==============================] - 0s 20us/step - loss: 14.5927 - acc: 0.0946 - val_loss: 14.4167 - val_acc: 0.1056\n",
      "Epoch 56/100\n",
      "1437/1437 [==============================] - 0s 21us/step - loss: 14.5927 - acc: 0.0946 - val_loss: 14.4167 - val_acc: 0.1056\n",
      "Epoch 57/100\n",
      "1437/1437 [==============================] - 0s 22us/step - loss: 14.5927 - acc: 0.0946 - val_loss: 14.4167 - val_acc: 0.1056\n",
      "Epoch 58/100\n",
      "1437/1437 [==============================] - 0s 23us/step - loss: 14.5927 - acc: 0.0946 - val_loss: 14.4167 - val_acc: 0.1056\n",
      "Epoch 59/100\n"
     ]
    },
    {
     "name": "stdout",
     "output_type": "stream",
     "text": [
      "1437/1437 [==============================] - 0s 22us/step - loss: 14.5927 - acc: 0.0946 - val_loss: 14.4167 - val_acc: 0.1056\n",
      "Epoch 60/100\n",
      "1437/1437 [==============================] - 0s 20us/step - loss: 14.5927 - acc: 0.0946 - val_loss: 14.4167 - val_acc: 0.1056\n",
      "Epoch 61/100\n",
      "1437/1437 [==============================] - 0s 22us/step - loss: 14.5927 - acc: 0.0946 - val_loss: 14.4167 - val_acc: 0.1056\n",
      "Epoch 62/100\n",
      "1437/1437 [==============================] - 0s 13us/step - loss: 14.5927 - acc: 0.0946 - val_loss: 14.4167 - val_acc: 0.1056\n",
      "Epoch 63/100\n",
      "1437/1437 [==============================] - 0s 17us/step - loss: 14.5927 - acc: 0.0946 - val_loss: 14.4167 - val_acc: 0.1056\n",
      "Epoch 64/100\n",
      "1437/1437 [==============================] - 0s 15us/step - loss: 14.5927 - acc: 0.0946 - val_loss: 14.4167 - val_acc: 0.1056\n",
      "Epoch 65/100\n",
      "1437/1437 [==============================] - 0s 19us/step - loss: 14.5927 - acc: 0.0946 - val_loss: 14.4167 - val_acc: 0.1056\n",
      "Epoch 66/100\n",
      "1437/1437 [==============================] - 0s 15us/step - loss: 14.5927 - acc: 0.0946 - val_loss: 14.4167 - val_acc: 0.1056\n",
      "Epoch 67/100\n",
      "1437/1437 [==============================] - 0s 16us/step - loss: 14.5927 - acc: 0.0946 - val_loss: 14.4167 - val_acc: 0.1056\n",
      "Epoch 68/100\n",
      "1437/1437 [==============================] - 0s 16us/step - loss: 14.5927 - acc: 0.0946 - val_loss: 14.4167 - val_acc: 0.1056\n",
      "Epoch 69/100\n",
      "1437/1437 [==============================] - 0s 15us/step - loss: 14.5927 - acc: 0.0946 - val_loss: 14.4167 - val_acc: 0.1056\n",
      "Epoch 70/100\n",
      "1437/1437 [==============================] - 0s 19us/step - loss: 14.5927 - acc: 0.0946 - val_loss: 14.4167 - val_acc: 0.1056\n",
      "Epoch 71/100\n",
      "1437/1437 [==============================] - 0s 16us/step - loss: 14.5927 - acc: 0.0946 - val_loss: 14.4167 - val_acc: 0.1056\n",
      "Epoch 72/100\n",
      "1437/1437 [==============================] - 0s 17us/step - loss: 14.5927 - acc: 0.0946 - val_loss: 14.4167 - val_acc: 0.1056\n",
      "Epoch 73/100\n",
      "1437/1437 [==============================] - 0s 17us/step - loss: 14.5927 - acc: 0.0946 - val_loss: 14.4167 - val_acc: 0.1056\n",
      "Epoch 74/100\n",
      "1437/1437 [==============================] - 0s 16us/step - loss: 14.5927 - acc: 0.0946 - val_loss: 14.4167 - val_acc: 0.1056\n",
      "Epoch 75/100\n",
      "1437/1437 [==============================] - 0s 17us/step - loss: 14.5927 - acc: 0.0946 - val_loss: 14.4167 - val_acc: 0.1056\n",
      "Epoch 76/100\n",
      "1437/1437 [==============================] - 0s 20us/step - loss: 14.5927 - acc: 0.0946 - val_loss: 14.4167 - val_acc: 0.1056\n",
      "Epoch 77/100\n",
      "1437/1437 [==============================] - 0s 19us/step - loss: 14.5927 - acc: 0.0946 - val_loss: 14.4167 - val_acc: 0.1056\n",
      "Epoch 78/100\n",
      "1437/1437 [==============================] - 0s 17us/step - loss: 14.5927 - acc: 0.0946 - val_loss: 14.4167 - val_acc: 0.1056\n",
      "Epoch 79/100\n",
      "1437/1437 [==============================] - 0s 19us/step - loss: 14.5927 - acc: 0.0946 - val_loss: 14.4167 - val_acc: 0.1056\n",
      "Epoch 80/100\n",
      "1437/1437 [==============================] - 0s 16us/step - loss: 14.5927 - acc: 0.0946 - val_loss: 14.4167 - val_acc: 0.1056\n",
      "Epoch 81/100\n",
      "1437/1437 [==============================] - 0s 18us/step - loss: 14.5927 - acc: 0.0946 - val_loss: 14.4167 - val_acc: 0.1056\n",
      "Epoch 82/100\n",
      "1437/1437 [==============================] - 0s 16us/step - loss: 14.5927 - acc: 0.0946 - val_loss: 14.4167 - val_acc: 0.1056\n",
      "Epoch 83/100\n",
      "1437/1437 [==============================] - 0s 16us/step - loss: 14.5927 - acc: 0.0946 - val_loss: 14.4167 - val_acc: 0.1056\n",
      "Epoch 84/100\n",
      "1437/1437 [==============================] - 0s 14us/step - loss: 14.5927 - acc: 0.0946 - val_loss: 14.4167 - val_acc: 0.1056\n",
      "Epoch 85/100\n",
      "1437/1437 [==============================] - 0s 18us/step - loss: 14.5927 - acc: 0.0946 - val_loss: 14.4167 - val_acc: 0.1056\n",
      "Epoch 86/100\n",
      "1437/1437 [==============================] - 0s 16us/step - loss: 14.5927 - acc: 0.0946 - val_loss: 14.4167 - val_acc: 0.1056\n",
      "Epoch 87/100\n",
      "1437/1437 [==============================] - 0s 16us/step - loss: 14.5927 - acc: 0.0946 - val_loss: 14.4167 - val_acc: 0.1056\n",
      "Epoch 88/100\n",
      "1437/1437 [==============================] - 0s 15us/step - loss: 14.5927 - acc: 0.0946 - val_loss: 14.4167 - val_acc: 0.1056\n",
      "Epoch 89/100\n",
      "1437/1437 [==============================] - 0s 17us/step - loss: 14.5927 - acc: 0.0946 - val_loss: 14.4167 - val_acc: 0.1056\n",
      "Epoch 90/100\n",
      "1437/1437 [==============================] - 0s 16us/step - loss: 14.5927 - acc: 0.0946 - val_loss: 14.4167 - val_acc: 0.1056\n",
      "Epoch 91/100\n",
      "1437/1437 [==============================] - 0s 21us/step - loss: 14.5927 - acc: 0.0946 - val_loss: 14.4167 - val_acc: 0.1056\n",
      "Epoch 92/100\n",
      "1437/1437 [==============================] - 0s 16us/step - loss: 14.5927 - acc: 0.0946 - val_loss: 14.4167 - val_acc: 0.1056\n",
      "Epoch 93/100\n",
      "1437/1437 [==============================] - 0s 15us/step - loss: 14.5927 - acc: 0.0946 - val_loss: 14.4167 - val_acc: 0.1056\n",
      "Epoch 94/100\n",
      "1437/1437 [==============================] - 0s 24us/step - loss: 14.5927 - acc: 0.0946 - val_loss: 14.4167 - val_acc: 0.1056\n",
      "Epoch 95/100\n",
      "1437/1437 [==============================] - 0s 20us/step - loss: 14.5927 - acc: 0.0946 - val_loss: 14.4167 - val_acc: 0.1056\n",
      "Epoch 96/100\n",
      "1437/1437 [==============================] - 0s 20us/step - loss: 14.5927 - acc: 0.0946 - val_loss: 14.4167 - val_acc: 0.1056\n",
      "Epoch 97/100\n",
      "1437/1437 [==============================] - 0s 21us/step - loss: 14.5927 - acc: 0.0946 - val_loss: 14.4167 - val_acc: 0.1056\n",
      "Epoch 98/100\n",
      "1437/1437 [==============================] - 0s 13us/step - loss: 14.5927 - acc: 0.0946 - val_loss: 14.4167 - val_acc: 0.1056\n",
      "Epoch 99/100\n",
      "1437/1437 [==============================] - 0s 16us/step - loss: 14.5927 - acc: 0.0946 - val_loss: 14.4167 - val_acc: 0.1056\n",
      "Epoch 100/100\n",
      "1437/1437 [==============================] - 0s 16us/step - loss: 14.5927 - acc: 0.0946 - val_loss: 14.4167 - val_acc: 0.1056\n"
     ]
    }
   ],
   "source": [
    "from keras.models import Sequential\n",
    "from keras.layers.core import Dense, Activation\n",
    "from keras import optimizers\n",
    "\n",
    "n_i = X_train.shape[1]\n",
    "n_1 = 30\n",
    "n_2 = 20\n",
    "n_3 = 10\n",
    "n_o = 10\n",
    "\n",
    "model = Sequential()\n",
    "model.add(Dense(n_1, input_dim=n_i))\n",
    "model.add(Activation(\"tanh\"))\n",
    "#model.add(Dense(n_2, input_dim=n_1))\n",
    "#model.add(Activation(\"tanh\"))\n",
    "#model.add(Dense(n_3, input_dim=n_2))\n",
    "#model.add(Activation(\"tanh\"))\n",
    "model.add(Dense(n_o))\n",
    "model.add(Activation(\"softmax\"))\n",
    "\n",
    "model.compile(optimizer=optimizers.SGD(lr=10),\n",
    "              loss='categorical_crossentropy', metrics=['accuracy'])\n",
    "a = model.fit(X_train, Y_train, epochs=100, batch_size=128, validation_data = (X_test, Y_test))"
   ]
  },
  {
   "cell_type": "code",
   "execution_count": 105,
   "metadata": {},
   "outputs": [
    {
     "data": {
      "text/plain": [
       "[<matplotlib.lines.Line2D at 0x7fe5d1642898>]"
      ]
     },
     "execution_count": 105,
     "metadata": {},
     "output_type": "execute_result"
    },
    {
     "data": {
      "image/png": "[encoded data removed]",
      "text/plain": [
       "<Figure size 432x288 with 1 Axes>"
      ]
     },
     "metadata": {},
     "output_type": "display_data"
    }
   ],
   "source": [
    "plt.plot(a.epoch, a.history[\"acc\"], c = \"blue\")\n",
    "plt.plot(a.epoch, a.history[\"val_acc\"], c = \"orange\")"
   ]
  },
  {
   "cell_type": "code",
   "execution_count": 66,
   "metadata": {},
   "outputs": [
    {
     "data": {
      "text/plain": [
       "[0.15749877059004372, 0.9694444444444444]"
      ]
     },
     "execution_count": 66,
     "metadata": {},
     "output_type": "execute_result"
    }
   ],
   "source": [
    "score"
   ]
  },
  {
   "cell_type": "markdown",
   "metadata": {},
   "source": [
    "## 2) Training a neural network with numpy"
   ]
  },
  {
   "cell_type": "markdown",
   "metadata": {},
   "source": [
    "Start by implementing the softmax function, sigmoid and its derivative, as well as negative log-likelihood:"
   ]
  },
  {
   "cell_type": "code",
   "execution_count": 4,
   "metadata": {},
   "outputs": [],
   "source": [
    "def softmax(X):\n",
    "    # TODO:\n",
    "    return None\n",
    "\n",
    "def sigmoid(X):\n",
    "    # TODO\n",
    "    return None\n",
    "\n",
    "def dsigmoid(X):\n",
    "    # TODO\n",
    "    return None\n",
    "\n",
    "def nll(Y_true, Y_pred):\n",
    "    # TODO\n",
    "    return None"
   ]
  },
  {
   "cell_type": "markdown",
   "metadata": {},
   "source": [
    "You can complete the following python class to get your numpy network. This class is designed to be \"scikit like\", meaning that once it has been correctly completed, you can just execute \n",
    "\n",
    "-model = NeuralNet(n_features, n_hidden, n_classes); model.fit(X_train,Y_train,lr=0.1, n_epochs=20)\n",
    "\n",
    "to get it to work. Hints about how to fill the methods can be found in the pdf subject."
   ]
  },
  {
   "cell_type": "code",
   "execution_count": null,
   "metadata": {},
   "outputs": [],
   "source": [
    "class NeuralNet():\n",
    "    \"\"\"MLP with 1 hidden layer and a sigmoid activation\"\"\"\n",
    "    \n",
    "    def __init__(self, input_size, hidden_size, output_size):\n",
    "        # TODO\n",
    "        self.W_h = None\n",
    "        self.b_h = None\n",
    "        self.W_o = None\n",
    "        self.b_o = None\n",
    "        self.output_size = output_size\n",
    "        \n",
    "    def forward(self, X):\n",
    "        # TODO\n",
    "        return y\n",
    "    \n",
    "    def forward_with_hidden(self, X):\n",
    "        # TODO\n",
    "        return y, h, z_h\n",
    "    \n",
    "    def loss(self, X, y):\n",
    "        # TODO\n",
    "        return L\n",
    "\n",
    "    def grad_loss(self, x, y_true):\n",
    "        # TODO\n",
    "        return grads\n",
    "\n",
    "    def train_sample(self, x, y, lr):\n",
    "        # TODO\n",
    "\n",
    "    def fit(self, X_train, Y_train , lr, n_epochs):\n",
    "        # TODO\n",
    "        return losses\n",
    "    \n",
    "    def predict(self, X):\n",
    "        # TODO\n",
    "        return \n",
    "\n",
    "    def accuracy(self, X, y):\n",
    "        y_preds = np.argmax(self.forward(X), axis=1)\n",
    "        return np.mean(y_preds == y)"
   ]
  }
 ],
 "metadata": {
  "kernelspec": {
   "display_name": "Python 3",
   "language": "python",
   "name": "python3"
  },
  "language_info": {
   "codemirror_mode": {
    "name": "ipython",
    "version": 3
   },
   "file_extension": ".py",
   "mimetype": "text/x-python",
   "name": "python",
   "nbconvert_exporter": "python",
   "pygments_lexer": "ipython3",
   "version": "3.5.3"
  }
 },
 "nbformat": 4,
 "nbformat_minor": 2
}
