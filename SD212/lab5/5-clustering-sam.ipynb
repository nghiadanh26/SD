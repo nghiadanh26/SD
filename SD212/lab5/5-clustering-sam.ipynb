{
 "cells": [
  {
   "cell_type": "markdown",
   "metadata": {},
   "source": [
    "# SD212: Graph mining\n",
    "## Lab 5: Clustering\n",
    "\n",
    "You will learn how to cluster the nodes of a graph and to estimate the quality of the clustering. "
   ]
  },
  {
   "cell_type": "markdown",
   "metadata": {},
   "source": [
    "## Import"
   ]
  },
  {
   "cell_type": "code",
   "execution_count": 1,
   "metadata": {},
   "outputs": [],
   "source": [
    "import networkx as nx"
   ]
  },
  {
   "cell_type": "markdown",
   "metadata": {},
   "source": [
    "The documentation is available [here](https://networkx.readthedocs.io/en/stable/)."
   ]
  },
  {
   "cell_type": "code",
   "execution_count": 2,
   "metadata": {},
   "outputs": [],
   "source": [
    "import numpy as np"
   ]
  },
  {
   "cell_type": "code",
   "execution_count": 3,
   "metadata": {},
   "outputs": [],
   "source": [
    "import warnings\n",
    "warnings.filterwarnings('ignore')"
   ]
  },
  {
   "cell_type": "code",
   "execution_count": 4,
   "metadata": {},
   "outputs": [],
   "source": [
    "import matplotlib.pyplot as plt"
   ]
  },
  {
   "cell_type": "code",
   "execution_count": 5,
   "metadata": {},
   "outputs": [
    {
     "name": "stdout",
     "output_type": "stream",
     "text": [
      "Populating the interactive namespace from numpy and matplotlib\n"
     ]
    }
   ],
   "source": [
    "%pylab inline"
   ]
  },
  {
   "cell_type": "markdown",
   "metadata": {},
   "source": [
    "## Data\n",
    "\n",
    "You will need the following datasets (the same as in previous labs, no need to download them again):\n",
    "* [Les Misérables](http://perso.telecom-paristech.fr/~bonald/graphs/miserables.graphml.gz)<br>  Graph connecting the characters of the [novel of Victor Hugo](https://fr.wikisource.org/wiki/Les_Misérables) when they appear in the same chapter. The graph is undirected and weighted. Weights correspond to the number of chapters in which characters appear together. \n",
    "* [Openflights](http://perso.telecom-paristech.fr/~bonald/graphs/openflights.graphml.gz)<br>\n",
    "Graph of the main international flights. Nodes are airports. The graph is undirected (all flights are bidirectional). Weights correspond to the number of daily flights between airports. Extracted from [Openflights](http://openflights.org).\n",
    "* [Wikipedia for schools](http://perso.telecom-paristech.fr/~bonald/graphs/wikipedia_schools.graphml.gz)<br> Graph of the hyperlinks between a subset of the pages of the English Wikipedia. The graph is directed and unweighted.\n",
    "More information [here](https://en.wikipedia.org/wiki/Wikipedia:Wikipedia_for_Schools).\n",
    "* [Actors-Movies](http://perso.telecom-paristech.fr/~bonald/graphs/actors_movies.graphml.gz)<br>\n",
    "Graph between actors and movies (a link exists if the actor stars in the movie). The graph is bipartite (see the field 'type' of each node). \n",
    "Extracted from [YaGo](http://yago-knowledge.org)."
   ]
  },
  {
   "cell_type": "markdown",
   "metadata": {},
   "source": [
    "## 1. Modularity\n",
    "\n",
    "Consider an undirected, unweighted graph of $n$ nodes and $m$ edges with adjacency matrix $A$, without self-loops.\n",
    "\n",
    "The modularity of clustering $C$ is defined by:\n",
    "$$\n",
    "Q(C) = \\frac 1 {2m} \\sum_{i,j\\in V} \\left(A_{ij} - \\frac {d_id_j}{2m}\\right) \\delta_{C(i),C(j)}\n",
    "$$\n",
    "where $d_i = \\sum_j A_{ij}$ is the degree of node $i$.\n",
    "\n",
    "The modularity can also be written:\n",
    "$$\n",
    "Q(C) = \\sum_k  \\frac{m_k}{m} - \\sum_k  \\left( \\frac{v_k}{v}\\right)^2\n",
    "$$\n",
    "where\n",
    "* $m_k$ is the number of edges in cluster $k$  \n",
    "* $v_k $ is the volume of cluster $k$ (total degree of nodes in the cluster)\n",
    "* $v$ is the volume of the graph (total degree of nodes)\n",
    "\n",
    "The definition extends to a weighted graph as follows:\n",
    "$$\n",
    "Q(C) = \\sum_k  \\frac{w_k}{w} - \\sum_k  \\left( \\frac{v_k}{v}\\right)^2\n",
    "$$\n",
    "where\n",
    "* $w_k$ is the weight of cluster $k$ (total weight of edges in the cluster)\n",
    "* $w$ is the weight of the graph (total weight of edges in the graph)"
   ]
  },
  {
   "cell_type": "markdown",
   "metadata": {},
   "source": [
    "## Toy graph\n",
    "\n",
    "Consider the following graph:"
   ]
  },
  {
   "cell_type": "code",
   "execution_count": 6,
   "metadata": {},
   "outputs": [],
   "source": [
    "edges = [(7,5),(5,3),(3,7),(4,5),(8,6),(7,4),(1,6),(9,8),(7,8),(2,9),(8,2),(1,9)]\n",
    "graph = nx.Graph()\n",
    "graph.add_edges_from(edges)"
   ]
  },
  {
   "cell_type": "markdown",
   "metadata": {},
   "source": [
    "with the following clustering:"
   ]
  },
  {
   "cell_type": "code",
   "execution_count": 7,
   "metadata": {},
   "outputs": [],
   "source": [
    "C = {1: 0, 2: 0, 6: 0, 8: 0, 9: 0, 3: 1, 4: 1, 5: 1, 7: 1}"
   ]
  },
  {
   "cell_type": "markdown",
   "metadata": {},
   "source": [
    "Visualization:"
   ]
  },
  {
   "cell_type": "code",
   "execution_count": 8,
   "metadata": {},
   "outputs": [],
   "source": [
    "pos = nx.spring_layout(graph)"
   ]
  },
  {
   "cell_type": "code",
   "execution_count": 9,
   "metadata": {},
   "outputs": [],
   "source": [
    "prop_cycle = plt.rcParams['axes.prop_cycle']\n",
    "colors = prop_cycle.by_key()['color']"
   ]
  },
  {
   "cell_type": "code",
   "execution_count": 10,
   "metadata": {},
   "outputs": [],
   "source": [
    "node_colors = [colors[C[u] % len(colors)] for u in graph.nodes()]"
   ]
  },
  {
   "cell_type": "code",
   "execution_count": 11,
   "metadata": {
    "scrolled": true
   },
   "outputs": [
    {
     "data": {
      "image/png": "[encoded data removed]",
      "text/plain": [
       "<matplotlib.figure.Figure at 0x7f51f3c07d68>"
      ]
     },
     "metadata": {},
     "output_type": "display_data"
    }
   ],
   "source": [
    "plt.figure(figsize = (6,3))\n",
    "nx.draw(graph, pos, node_size = 400, node_color = node_colors, with_labels = True)\n",
    "plt.show()"
   ]
  },
  {
   "cell_type": "markdown",
   "metadata": {},
   "source": [
    "## To do\n",
    "\n",
    "* What is the fraction of edges within clusters?"
   ]
  },
  {
   "cell_type": "code",
   "execution_count": 12,
   "metadata": {},
   "outputs": [
    {
     "data": {
      "text/plain": [
       "1.0833333333333335"
      ]
     },
     "execution_count": 12,
     "metadata": {},
     "output_type": "execute_result"
    }
   ],
   "source": [
    "Fraction_edge = 7/12+6/12\n",
    "Fraction_edge"
   ]
  },
  {
   "cell_type": "markdown",
   "metadata": {},
   "source": [
    "## To do\n",
    "\n",
    "* What is the Simpson's index associated with the volume distribution between clusters?"
   ]
  },
  {
   "cell_type": "code",
   "execution_count": 13,
   "metadata": {},
   "outputs": [
    {
     "data": {
      "text/plain": [
       "0.5034722222222221"
      ]
     },
     "execution_count": 13,
     "metadata": {},
     "output_type": "execute_result"
    }
   ],
   "source": [
    "#somme (vk/v)^2\n",
    "Simpson_index = ((graph.degree(7)+graph.degree(4)+graph.degree(5)+graph.degree(3))/24)**2 +((graph.degree(1)+graph.degree(2)+graph.degree(6)+graph.degree(8)+graph.degree(9))/24)**2 \n",
    "Simpson_index"
   ]
  },
  {
   "cell_type": "markdown",
   "metadata": {},
   "source": [
    "## To do\n",
    "\n",
    "* Deduce the modularity of the clustering. "
   ]
  },
  {
   "cell_type": "code",
   "execution_count": 143,
   "metadata": {},
   "outputs": [
    {
     "data": {
      "text/plain": [
       "0.5798611111111114"
      ]
     },
     "execution_count": 143,
     "metadata": {},
     "output_type": "execute_result"
    }
   ],
   "source": [
    "Fraction_edge - Simpson_index"
   ]
  },
  {
   "cell_type": "markdown",
   "metadata": {},
   "source": [
    "## To do\n",
    "\n",
    "* What is the maximum value of modularity for 2 clusters?"
   ]
  },
  {
   "cell_type": "markdown",
   "metadata": {},
   "source": [
    "????????????????????????????????????????????????\n",
    "\n",
    "????????????????????????????????????????????????"
   ]
  },
  {
   "cell_type": "markdown",
   "metadata": {},
   "source": [
    "## To do\n",
    "\n",
    "* Complete the function `get_modularity` below and check it on the above graph."
   ]
  },
  {
   "cell_type": "code",
   "execution_count": 365,
   "metadata": {},
   "outputs": [],
   "source": [
    "def get_modularity(graph,C):\n",
    "    '''\n",
    "    graph: networkx graph\n",
    "        undirected graph (possibly weighted)\n",
    "    C: dictionary\n",
    "        cluster of each node\n",
    "        \n",
    "    Returns: float\n",
    "        modularity\n",
    "    '''\n",
    "    \n",
    "    # add weights if none\n",
    "    if nx.get_edge_attributes(graph,'weight') == {}:\n",
    "        for u,v in graph.edges():\n",
    "            graph[u][v]['weight'] = 1\n",
    "            \n",
    "    clusters = set(C.values())\n",
    "    cluster_weight = {k: 0 for k in clusters}\n",
    "    cluster_volume = {k: 0 for k in clusters}\n",
    "    Q = 0\n",
    "    for k in clusters:\n",
    "        for u,v in graph.edges():\n",
    "            if (C[u]==k) or (C[v]==k):\n",
    "                if (C[u]==C[v]):\n",
    "                    cluster_weight[k]+= graph[u][v]['weight']\n",
    "                #cluster_weight[k]+= graph[u][v]['weight']\n",
    "                \n",
    "    for k in clusters:\n",
    "        for u in graph.nodes():\n",
    "            if (C[u]==k):\n",
    "                cluster_volume[k]+=graph.degree[u]\n",
    "    \n",
    "    v = sum(list(dict(graph.degree()).values()))\n",
    "    w=0\n",
    "    for u,v_ in graph.edges():\n",
    "            w+=graph[u][v_]['weight']\n",
    "    \n",
    "    for k in clusters:\n",
    "        Q += (cluster_weight[k]/w - (cluster_volume[k]/v)**2)\n",
    "    return Q"
   ]
  },
  {
   "cell_type": "code",
   "execution_count": 366,
   "metadata": {},
   "outputs": [
    {
     "data": {
      "text/plain": [
       "0.4598524305555556"
      ]
     },
     "execution_count": 366,
     "metadata": {},
     "output_type": "execute_result"
    }
   ],
   "source": [
    "get_modularity(graph,C)"
   ]
  },
  {
   "cell_type": "markdown",
   "metadata": {},
   "source": [
    "## Stochastic block model"
   ]
  },
  {
   "cell_type": "markdown",
   "metadata": {},
   "source": [
    "The [stochastic block model](https://en.wikipedia.org/wiki/Stochastic_block_model) is a random graph with an underlying structure in clusters (the blocks)."
   ]
  },
  {
   "cell_type": "code",
   "execution_count": 367,
   "metadata": {},
   "outputs": [],
   "source": [
    "block_sizes = [10, 15, 20]\n",
    "p_in = 0.4 # probability of connection within blocks\n",
    "p_out = 0.02 # probability of connection across blocks\n",
    "graph = nx.random_partition_graph(sizes = block_sizes, p_in = p_in, p_out = p_out,seed = 0)\n",
    "pos = nx.spring_layout(graph)"
   ]
  },
  {
   "cell_type": "code",
   "execution_count": 368,
   "metadata": {},
   "outputs": [],
   "source": [
    "pos = nx.spring_layout(graph)"
   ]
  },
  {
   "cell_type": "code",
   "execution_count": 150,
   "metadata": {},
   "outputs": [
    {
     "data": {
      "image/png": "[encoded data removed]",
      "text/plain": [
       "<Figure size 432x288 with 1 Axes>"
      ]
     },
     "metadata": {},
     "output_type": "display_data"
    }
   ],
   "source": [
    "plt.figure(figsize = (6,4))\n",
    "nx.draw(graph, pos, node_size = 400, node_color = 'gray', with_labels = True)\n",
    "plt.show()"
   ]
  },
  {
   "cell_type": "markdown",
   "metadata": {},
   "source": [
    "## To do\n",
    "\n",
    "* Propose a clustering for this graph and compute the modularity.\n",
    "* What is the strongest cluster? \n",
    "* Complete the function `get_cluster_strength` below and check your guess.\n",
    "* Comment the results.\n",
    "\n",
    "**Hint:** Recall that the strength of cluster $k$ is defined by: $$\\frac{2w_k }{ v_k}.$$"
   ]
  },
  {
   "cell_type": "code",
   "execution_count": 370,
   "metadata": {},
   "outputs": [],
   "source": [
    "#graph2 = graph.copy()\n",
    "graph = graph2.copy()\n",
    "pos = nx.spring_layout(graph)"
   ]
  },
  {
   "cell_type": "code",
   "execution_count": 371,
   "metadata": {},
   "outputs": [],
   "source": [
    "c1 = [3,2,0,4,6,5,9,1,7,8]\n",
    "c2 = [39,27,43,25,31,41,44,35,38,36,29,42,33,30,32,26,40,28,34,37]\n",
    "c3 = [11,20,21,23,17,22,19,18,13,10,15,24,14,16,12]\n",
    "C={}\n",
    "for i in c1:\n",
    "    C[i] = 0\n",
    "for i in c2:\n",
    "    C[i] = 1\n",
    "for i in c3:\n",
    "    C[i] = 2"
   ]
  },
  {
   "cell_type": "code",
   "execution_count": 372,
   "metadata": {},
   "outputs": [],
   "source": [
    "def get_cluster_strength(graph,C):\n",
    "    '''\n",
    "    graph: networkx graph\n",
    "        undirected graph (possibly weighted)\n",
    "    C: dictionary\n",
    "        cluster of each node\n",
    "        \n",
    "    Returns: dictionary\n",
    "        strength of each cluster\n",
    "    '''\n",
    "    \n",
    "    # add weights if none\n",
    "    if nx.get_edge_attributes(graph,'weight') == {}:\n",
    "        for u,v in graph.edges():\n",
    "            graph[u][v]['weight'] = 1\n",
    "    \n",
    "    clusters = set(C.values())\n",
    "    cluster_weight = {k: 0 for k in clusters}\n",
    "    cluster_volume = {k: 0 for k in clusters}\n",
    "    cluster_strength = {k: 0 for k in clusters}\n",
    "    \n",
    "    for k in clusters:\n",
    "        for u,v in graph.edges():\n",
    "            if (C[u]==k) or (C[v]==k):\n",
    "                #if (C[u]==C[v]):\n",
    "                #    cluster_weight[k]+= graph[u][v]['weight']\n",
    "                cluster_weight[k]+= graph[u][v]['weight']\n",
    "                \n",
    "    for k in clusters:\n",
    "        for u in graph.nodes():\n",
    "            if (C[u]==k):\n",
    "                cluster_volume[k]+=graph.degree[u]\n",
    "\n",
    "    for k in clusters:\n",
    "        cluster_strength[k]=2*cluster_weight[k]/cluster_volume[k]\n",
    "    \n",
    "    return cluster_strength"
   ]
  },
  {
   "cell_type": "code",
   "execution_count": 373,
   "metadata": {},
   "outputs": [
    {
     "data": {
      "text/plain": [
       "{0: 1.2916666666666667, 1: 1.0849673202614378, 2: 1.1494252873563218}"
      ]
     },
     "execution_count": 373,
     "metadata": {},
     "output_type": "execute_result"
    }
   ],
   "source": [
    "get_cluster_strength(graph,C)"
   ]
  },
  {
   "cell_type": "markdown",
   "metadata": {},
   "source": [
    "## 2. The Louvain algorithm"
   ]
  },
  {
   "cell_type": "markdown",
   "metadata": {},
   "source": [
    "The Louvain algorithm attempts to maximize modularity as follows:\n",
    "1. **(Initialization)** $C \\gets \\text{identity}$ \n",
    "2.  **(Maximization)** While modularity increases, update $C$ by moving one node  from its cluster to one of its neighbors\n",
    "3. **(Aggregation)** Merge all nodes belonging to the same cluster into a single node, update the weights accordingly and apply step 2 to the  aggregate graph\n",
    "\n",
    "In step 2, nodes are considered in a cyclic way. The target cluster of a node is chosen among  its neighbors as that providing the **largest gain** in modularity, if any."
   ]
  },
  {
   "cell_type": "markdown",
   "metadata": {},
   "source": [
    "## To do\n",
    "\n",
    "* Complete the function `maximize_modularity` corresponding to step 2."
   ]
  },
  {
   "cell_type": "code",
   "execution_count": 400,
   "metadata": {},
   "outputs": [],
   "source": [
    "def maximize_modularity(graph, resolution):\n",
    "    '''\n",
    "    graph: networkx graph\n",
    "        undirected graph \n",
    "    resolution: float\n",
    "        resolution parameter (positive)\n",
    "        \n",
    "    Returns: dictionary\n",
    "        cluster of each node\n",
    "    '''\n",
    "\n",
    "    node_weight = {u: 0. for u in graph.nodes()}\n",
    "    w = 0\n",
    "    for u,v in graph.edges():\n",
    "        node_weight[u] += graph[u][v]['weight']\n",
    "        node_weight[v] += graph[u][v]['weight']\n",
    "        w += graph[u][v]['weight']\n",
    "    # init the clustering\n",
    "    C = {u:u for u in graph.nodes()}\n",
    "    # cluster weights\n",
    "    cluster_weight = {u: node_weight[u] for u in graph.nodes()}\n",
    "    # node-cluster weights (between each node and the clusters)\n",
    "    node_cluster_weight = {u:{v: 1. * graph[u][v]['weight'] for v in graph.neighbors(u) if v != u} \n",
    "                           for u in graph.nodes()}\n",
    "    increase = True\n",
    "    while increase:\n",
    "        increase = False\n",
    "        for u in graph.nodes():\n",
    "            k = C[u]            \n",
    "            if k not in node_cluster_weight[u]:\n",
    "                node_cluster_weight[u][k] = 0\n",
    "            variation = {k:0}\n",
    "            # to be completed\n",
    "            #for nei in [value for value in list(graph.neighbors(u)) if value in list(C.values())]:\n",
    "            #for nei in [value for value in list(graph.neighbors(u)) if (value in list(C.values()))&(C[value]!=C[u])&(value!=k)]:\n",
    "            for nei in [value for value in list(graph.neighbors(u)) if (value in list(C.values()))&(value!=k)]:\n",
    "                C_ = C.copy()\n",
    "                C_[u] = C_[nei]\n",
    "                variation[nei] = get_modularity(graph,C_) - get_modularity(graph,C)\n",
    "            # to be completed\n",
    "            l = max(variation, key = variation.get)\n",
    "            if variation[l] > 0:\n",
    "                print(u,\"of\",k,\"to\",l,\"with variation\",variation[l])\n",
    "                increase = True\n",
    "                # move node u from cluster k to cluster l\n",
    "                C[u] = l\n",
    "                cluster_weight[k] -= node_weight[u]\n",
    "                cluster_weight[l] += node_weight[u]\n",
    "                for v in graph.neighbors(u):\n",
    "                    if v != u:\n",
    "                        node_cluster_weight[v][k] -= graph[u][v]['weight']\n",
    "                        if node_cluster_weight[v][k] <= 0:\n",
    "                            node_cluster_weight[v].pop(k)\n",
    "                        if l not in node_cluster_weight[v]:\n",
    "                            node_cluster_weight[v][l] = 0\n",
    "                        node_cluster_weight[v][l] += graph[u][v]['weight']\n",
    "    return C"
   ]
  },
  {
   "cell_type": "code",
   "execution_count": 401,
   "metadata": {},
   "outputs": [],
   "source": [
    "def aggregate_graph(graph,C):\n",
    "    '''\n",
    "    graph: networkx graph\n",
    "        undirected graph \n",
    "    C: dictionary\n",
    "        cluster of each node\n",
    "        \n",
    "    Returns: networkx graph\n",
    "        aggregate graph with one node per cluster\n",
    "    '''\n",
    "    aggregate_graph_ = nx.Graph()\n",
    "    aggregate_graph_.add_nodes_from(set(C.values()))\n",
    "    for u,v in graph.edges():\n",
    "        if aggregate_graph_.has_edge(C[u],C[v]):\n",
    "            aggregate_graph_[C[u]][C[v]]['weight'] += graph[u][v]['weight']\n",
    "        else:\n",
    "            aggregate_graph_.add_edge(C[u],C[v])\n",
    "            aggregate_graph_[C[u]][C[v]]['weight'] = graph[u][v]['weight']\n",
    "    return aggregate_graph_"
   ]
  },
  {
   "cell_type": "code",
   "execution_count": 402,
   "metadata": {},
   "outputs": [],
   "source": [
    "def louvain(graph,resolution = 1):\n",
    "    '''\n",
    "    graph: networkx graph\n",
    "        undirected graph \n",
    "    resolution: float\n",
    "        resolution parameter (positive)\n",
    "        \n",
    "    Returns: dictionary\n",
    "        cluster of each node\n",
    "    '''\n",
    "\n",
    "    if nx.get_edge_attributes(graph,'weight') == {}:\n",
    "        for u,v in graph.edges():\n",
    "            graph[u][v]['weight'] = 1\n",
    "\n",
    "    C = maximize_modularity(graph, resolution)\n",
    "    n = len(C)\n",
    "    k = len(set(C.values()))\n",
    "    while k < n:\n",
    "        aggregate_graph_ = aggregate_graph(graph,C) \n",
    "        C_new = maximize_modularity(aggregate_graph_, resolution)\n",
    "        C = {u: C_new[C[u]] for u in graph.nodes()}\n",
    "        n = k\n",
    "        k = len(set(C_new.values()))\n",
    "    # reindex clusters in decreasing order of size\n",
    "    clusters = list(set(C.values()))\n",
    "    cluster_size = {k: 0 for k in clusters}\n",
    "    for u in C:\n",
    "        cluster_size[C[u]] += 1\n",
    "    cluster_index = sorted(cluster_size, key = cluster_size.get, reverse = True)\n",
    "    reindex = {k:i for i,k in enumerate(cluster_index)}\n",
    "    C = {u:reindex[C[u]] for u in C}\n",
    "    return C"
   ]
  },
  {
   "cell_type": "markdown",
   "metadata": {},
   "source": [
    "## To do\n",
    "\n",
    "* Test your `louvain` function on the stochastic block model."
   ]
  },
  {
   "cell_type": "code",
   "execution_count": 377,
   "metadata": {},
   "outputs": [
    {
     "data": {
      "text/plain": [
       "{0: 2,\n",
       " 1: 2,\n",
       " 2: 2,\n",
       " 3: 2,\n",
       " 4: 2,\n",
       " 5: 2,\n",
       " 6: 2,\n",
       " 7: 2,\n",
       " 8: 2,\n",
       " 9: 1,\n",
       " 10: 1,\n",
       " 11: 3,\n",
       " 12: 1,\n",
       " 13: 1,\n",
       " 14: 1,\n",
       " 15: 1,\n",
       " 16: 1,\n",
       " 17: 3,\n",
       " 18: 4,\n",
       " 19: 1,\n",
       " 20: 4,\n",
       " 21: 1,\n",
       " 22: 3,\n",
       " 23: 1,\n",
       " 24: 1,\n",
       " 25: 0,\n",
       " 26: 0,\n",
       " 27: 0,\n",
       " 28: 0,\n",
       " 29: 0,\n",
       " 30: 0,\n",
       " 31: 0,\n",
       " 32: 0,\n",
       " 33: 0,\n",
       " 34: 0,\n",
       " 35: 0,\n",
       " 36: 0,\n",
       " 37: 0,\n",
       " 38: 0,\n",
       " 39: 3,\n",
       " 40: 0,\n",
       " 41: 0,\n",
       " 42: 0,\n",
       " 43: 0,\n",
       " 44: 0}"
      ]
     },
     "execution_count": 377,
     "metadata": {},
     "output_type": "execute_result"
    }
   ],
   "source": [
    "louvain_C = louvain(graph)\n",
    "louvain_C"
   ]
  },
  {
   "cell_type": "code",
   "execution_count": 378,
   "metadata": {},
   "outputs": [
    {
     "data": {
      "text/plain": [
       "{0: 1.1048951048951048,\n",
       " 1: 1.3103448275862069,\n",
       " 2: 1.3043478260869565,\n",
       " 3: 1.7333333333333334,\n",
       " 4: 1.8181818181818181}"
      ]
     },
     "execution_count": 378,
     "metadata": {},
     "output_type": "execute_result"
    }
   ],
   "source": [
    "get_cluster_strength(graph,louvain_C)"
   ]
  },
  {
   "cell_type": "code",
   "execution_count": 379,
   "metadata": {},
   "outputs": [
    {
     "data": {
      "image/png": "[encoded data removed]",
      "text/plain": [
       "<Figure size 432x216 with 1 Axes>"
      ]
     },
     "metadata": {},
     "output_type": "display_data"
    }
   ],
   "source": [
    "node_colors = [colors[louvain_C[u] % len(colors)] for u in graph.nodes()]\n",
    "plt.figure(figsize = (6,3))\n",
    "nx.draw(graph, pos, node_size = 400, node_color = node_colors, with_labels = True)\n",
    "plt.show()"
   ]
  },
  {
   "cell_type": "markdown",
   "metadata": {},
   "source": [
    "## To do\n",
    "\n",
    "* Complete the function `maximize_modularity` corresponding to step 2.\n",
    "* Test your `louvain` function on the stochastic block model.\n",
    "* Test different resolution parameters."
   ]
  },
  {
   "cell_type": "markdown",
   "metadata": {},
   "source": [
    "## Real data\n",
    "\n",
    "The function `get_clusters` below returns the clusters as lists of nodes in decreasing order of weight."
   ]
  },
  {
   "cell_type": "code",
   "execution_count": 380,
   "metadata": {},
   "outputs": [],
   "source": [
    "def get_clusters(graph, C):\n",
    "    '''\n",
    "    graph: networkx graph\n",
    "        undirected graph \n",
    "    C: dictionary\n",
    "        cluster of each node\n",
    "        \n",
    "    Returns: dictionary of lists\n",
    "        for each cluster, nodes are listed in decreasing order of weight\n",
    "    '''\n",
    "\n",
    "    if nx.get_edge_attributes(graph,'weight') == {}:\n",
    "        for u,v in graph.edges():\n",
    "            graph[u][v]['weight'] = 1\n",
    "\n",
    "    node_weight = {u: 0 for u in graph.nodes()}\n",
    "    for u,v in graph.edges():\n",
    "        node_weight[u] += graph[u][v]['weight']\n",
    "        node_weight[v] += graph[u][v]['weight']\n",
    "        \n",
    "    clusters = list(set(C.values()))\n",
    "    cluster_nodes = {k:{} for k in clusters}\n",
    "    for u in graph.nodes():\n",
    "        cluster_nodes[C[u]][u] = node_weight[u]\n",
    "\n",
    "    cluster_nodes = {k: sorted(cluster_nodes[k], key = cluster_nodes[k].get, reverse = True)\n",
    "                             for k in clusters}\n",
    "        \n",
    "    return cluster_nodes"
   ]
  },
  {
   "cell_type": "code",
   "execution_count": 381,
   "metadata": {},
   "outputs": [
    {
     "data": {
      "text/plain": [
       "{0: [30,\n",
       "  43,\n",
       "  26,\n",
       "  33,\n",
       "  42,\n",
       "  25,\n",
       "  37,\n",
       "  41,\n",
       "  44,\n",
       "  27,\n",
       "  32,\n",
       "  31,\n",
       "  34,\n",
       "  36,\n",
       "  28,\n",
       "  29,\n",
       "  35,\n",
       "  38,\n",
       "  40],\n",
       " 1: [14, 16, 21, 12, 15, 23, 24, 13, 19, 10, 9],\n",
       " 2: [4, 0, 6, 3, 5, 8, 2, 1, 7],\n",
       " 3: [39, 11, 17, 22],\n",
       " 4: [20, 18]}"
      ]
     },
     "execution_count": 381,
     "metadata": {},
     "output_type": "execute_result"
    }
   ],
   "source": [
    "get_clusters(graph,louvain_C)"
   ]
  },
  {
   "cell_type": "code",
   "execution_count": 382,
   "metadata": {},
   "outputs": [
    {
     "data": {
      "text/plain": [
       "{0: [4, 0, 6, 3, 5, 8, 2, 1, 7, 9],\n",
       " 1: [30,\n",
       "  43,\n",
       "  26,\n",
       "  33,\n",
       "  39,\n",
       "  42,\n",
       "  25,\n",
       "  37,\n",
       "  41,\n",
       "  44,\n",
       "  27,\n",
       "  32,\n",
       "  31,\n",
       "  34,\n",
       "  36,\n",
       "  28,\n",
       "  29,\n",
       "  35,\n",
       "  38,\n",
       "  40],\n",
       " 2: [11, 20, 14, 16, 17, 21, 12, 15, 23, 24, 22, 13, 19, 10, 18]}"
      ]
     },
     "execution_count": 382,
     "metadata": {},
     "output_type": "execute_result"
    }
   ],
   "source": [
    "get_clusters(graph,C)"
   ]
  },
  {
   "cell_type": "markdown",
   "metadata": {},
   "source": [
    "## To do\n",
    "\n",
    "* List the top-3 characters of each cluster of Les Miserables (resolution 1).\n",
    "* List the top-3 airports of each cluster of Openflights (resolutions 1 and 2); visualize the clusters, with the associate top airports.\n",
    "* List the top-5 pages of the 20 largest clusters of Wikipedia for Schools (resolution 2). Compare the results obtained when the graph is considered as undirected and bipartite.\n",
    "* List the top-5 actors in the cluster of **Marion Cotillard** in the actors-movies graph (resolution 10).\n",
    "\n",
    "**Note:** You may compute the size and strength of each cluster."
   ]
  },
  {
   "cell_type": "code",
   "execution_count": 383,
   "metadata": {},
   "outputs": [],
   "source": [
    "miserables = nx.read_graphml(\"./../../archive/miserables.graphml\", node_type = int)"
   ]
  },
  {
   "cell_type": "code",
   "execution_count": 384,
   "metadata": {},
   "outputs": [],
   "source": [
    "openflights = nx.read_graphml(\"./../../archive/openflights.graphml\", node_type = int)"
   ]
  },
  {
   "cell_type": "code",
   "execution_count": 385,
   "metadata": {},
   "outputs": [],
   "source": [
    "wikipedia = nx.read_graphml(\"./../../archive/wikipedia_schools.graphml\", node_type = int)"
   ]
  },
  {
   "cell_type": "code",
   "execution_count": 386,
   "metadata": {},
   "outputs": [],
   "source": [
    "wikipedia_undirected = wikipedia.to_undirected()"
   ]
  },
  {
   "cell_type": "markdown",
   "metadata": {},
   "source": [
    "## To do\n",
    "\n",
    "* List the top-3 characters of each cluster of Les Miserables (resolution 1)."
   ]
  },
  {
   "cell_type": "code",
   "execution_count": null,
   "metadata": {},
   "outputs": [
    {
     "name": "stdout",
     "output_type": "stream",
     "text": [
      "0 of 0 to 4 with variation 6.107739337692228e-05\n",
      "1 of 1 to 2220 with variation 6.12390320002792e-05\n",
      "2 of 2 to 2217 with variation 0.00012251734067539322\n"
     ]
    }
   ],
   "source": [
    "C_L_m = louvain(openflights)\n",
    "C_L_m"
   ]
  },
  {
   "cell_type": "code",
   "execution_count": null,
   "metadata": {},
   "outputs": [],
   "source": [
    "get_clusters(miserables,C_L_m)"
   ]
  },
  {
   "cell_type": "code",
   "execution_count": 387,
   "metadata": {},
   "outputs": [],
   "source": [
    "def bipartite_from_directed(graph):\n",
    "    '''\n",
    "    graph: networkx graph\n",
    "        directed graph \n",
    "        \n",
    "    Returns: networkx graph\n",
    "        undirected, bipartite graph\n",
    "    '''    \n",
    "    new_graph = nx.Graph()\n",
    "    nodes = list(graph.nodes())\n",
    "    if nodes == list(np.arange(len(nodes))):\n",
    "        new_graph.add_nodes_from(nodes)\n",
    "        new_graph.add_nodes_from(list(np.arange(-len(nodes),0)))\n",
    "        edges = [(u,-v-1) for u,v in graph.edges()]\n",
    "        new_graph.add_edges_from(edges)\n",
    "    else:\n",
    "        print('Nodes must be indexed from 0 to n-1.')\n",
    "    return new_graph"
   ]
  },
  {
   "cell_type": "code",
   "execution_count": 388,
   "metadata": {},
   "outputs": [],
   "source": [
    "wikipedia_bipartite = bipartite_from_directed(wikipedia)"
   ]
  },
  {
   "cell_type": "code",
   "execution_count": 392,
   "metadata": {},
   "outputs": [],
   "source": [
    "actors_movies = nx.read_graphml(\"./../../archive/actors_movies.graphml\", node_type = int)"
   ]
  },
  {
   "cell_type": "code",
   "execution_count": 390,
   "metadata": {},
   "outputs": [],
   "source": [
    "marion_cotillard = 5172"
   ]
  },
  {
   "cell_type": "markdown",
   "metadata": {
    "collapsed": true
   },
   "source": [
    "## 3. Soft clustering"
   ]
  },
  {
   "cell_type": "markdown",
   "metadata": {},
   "source": [
    "We have so far considered **hard clustering** where the objective is to find a partition of the set of nodes. In practice, it may be interesting to allow some nodes to belong to several clusters. This is **soft clustering**. A simple approach consists in identifying so-called flipping nodes, for which a change of cluster has a negligible impact on modularity (for some given threshold). "
   ]
  },
  {
   "cell_type": "markdown",
   "metadata": {},
   "source": [
    "## To do\n",
    "\n",
    "* Complete the function `get_flipping_nodes` below.\n",
    "* Test your function on the bow-tie graph.\n",
    "* Display the airports belonging to several clusters in Openflights (resolutions 1 and 2)."
   ]
  },
  {
   "cell_type": "code",
   "execution_count": 14,
   "metadata": {},
   "outputs": [],
   "source": [
    "def get_flipping_nodes(graph, C, resolution = 1, threshold = 1e-5):\n",
    "    '''\n",
    "    graph: networkx graph\n",
    "        undirected graph \n",
    "    C: dictionary\n",
    "        cluster of each node\n",
    "    resolution: float\n",
    "        resolution parameter \n",
    "    threshold: float\n",
    "        threshold on modularity \n",
    "        \n",
    "    Returns: dictionary of lists\n",
    "        list of clusters of each flipping node (i.e., with more than 1 cluster)\n",
    "    '''\n",
    "\n",
    "    flipping_nodes = {}\n",
    "    # to be completed\n",
    "    clusters = set(C.values())\n",
    "    for k in graph.nodes():\n",
    "        flipping_k = []\n",
    "        copy = C\n",
    "        for c in clusters :\n",
    "            copy[k] = c\n",
    "            print(copy)\n",
    "            diff = abs(get_modularity(graph,copy) - get_modularity(graph,C))\n",
    "            print(diff)\n",
    "            if diff <= threshold:\n",
    "                flipping_k.append(c)\n",
    "        flipping_nodes[k] = flipping_k\n",
    "        \n",
    "    return flipping_nodes "
   ]
  },
  {
   "cell_type": "code",
   "execution_count": null,
   "metadata": {},
   "outputs": [],
   "source": [
    "bowtie = nx.star_graph(4)\n",
    "bowtie.add_edges_from([(1,2),(3,4)])"
   ]
  },
  {
   "cell_type": "code",
   "execution_count": null,
   "metadata": {},
   "outputs": [],
   "source": [
    "plt.figure(figsize = (6,3))\n",
    "nx.draw(bowtie, node_size = 400, with_labels = True)\n",
    "plt.show()"
   ]
  },
  {
   "cell_type": "code",
   "execution_count": null,
   "metadata": {},
   "outputs": [],
   "source": []
  }
 ],
 "metadata": {
  "anaconda-cloud": {},
  "hide_input": false,
  "kernelspec": {
   "display_name": "Python 3",
   "language": "python",
   "name": "python3"
  },
  "language_info": {
   "codemirror_mode": {
    "name": "ipython",
    "version": 3
   },
   "file_extension": ".py",
   "mimetype": "text/x-python",
   "name": "python",
   "nbconvert_exporter": "python",
   "pygments_lexer": "ipython3",
   "version": "3.5.3"
  }
 },
 "nbformat": 4,
 "nbformat_minor": 1
}
