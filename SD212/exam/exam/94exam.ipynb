{
 "cells": [
  {
   "cell_type": "markdown",
   "metadata": {},
   "source": [
    "# SD212: Graph mining\n",
    "## Exam"
   ]
  },
  {
   "cell_type": "markdown",
   "metadata": {},
   "source": [
    "First complete the following text cell with your name:"
   ]
  },
  {
   "cell_type": "markdown",
   "metadata": {},
   "source": [
    "**Name:**"
   ]
  },
  {
   "cell_type": "markdown",
   "metadata": {},
   "source": [
    "The duration of the exam is **3h**.\n",
    "\n",
    "You must upload your notebook on the pedagogical size **before 4:30pm**.<br>\n",
    "After **4:35pm**, there will be a penalty of **1 point per minute**.\n",
    "\n",
    "There are 3 parts:\n",
    "1. **Graph sampling** (5 points)\n",
    "2. **Graph pruning** (5 points)\n",
    "3. **Clustering by PageRank** (10 points)\n",
    "\n",
    "Total = 20 points\n",
    "\n",
    "The answer to each question must consist of:\n",
    "* a text cell with your answer written either in **French** or in **English**,\n",
    "* a code cell showing the **code** used to get the answer; this code must be running, without errors.\n",
    "\n",
    "Useless code **must** be deleted.\n",
    "\n",
    "Access to documents, slides and notebooks of the course is allowed.\n",
    "\n",
    "Access to the Internet is **not** allowed (except for the pedagogical site).<br>\n",
    "\n",
    "**Any** form of communication between students is strictly forbidden."
   ]
  },
  {
   "cell_type": "markdown",
   "metadata": {},
   "source": [
    "## Import"
   ]
  },
  {
   "cell_type": "code",
   "execution_count": null,
   "metadata": {},
   "outputs": [],
   "source": [
    "import networkx as nx"
   ]
  },
  {
   "cell_type": "code",
   "execution_count": null,
   "metadata": {},
   "outputs": [],
   "source": [
    "import numpy as np"
   ]
  },
  {
   "cell_type": "code",
   "execution_count": null,
   "metadata": {},
   "outputs": [],
   "source": [
    "import matplotlib.pyplot as plt"
   ]
  },
  {
   "cell_type": "code",
   "execution_count": null,
   "metadata": {},
   "outputs": [],
   "source": [
    "%matplotlib notebook"
   ]
  },
  {
   "cell_type": "code",
   "execution_count": null,
   "metadata": {},
   "outputs": [],
   "source": [
    "import warnings\n",
    "warnings.filterwarnings('ignore')"
   ]
  },
  {
   "cell_type": "code",
   "execution_count": null,
   "metadata": {},
   "outputs": [],
   "source": [
    "# Set colors\n",
    "prop_cycle = plt.rcParams['axes.prop_cycle']\n",
    "colors = prop_cycle.by_key()['color']"
   ]
  },
  {
   "cell_type": "markdown",
   "metadata": {},
   "source": [
    "**Hint:** To get the documentation on a `function` you can type `function?`"
   ]
  },
  {
   "cell_type": "code",
   "execution_count": null,
   "metadata": {},
   "outputs": [],
   "source": [
    "nx.pagerank?"
   ]
  },
  {
   "cell_type": "markdown",
   "metadata": {},
   "source": [
    "## Data\n",
    "\n",
    "You will need the following datasets (the same as in the labs, no need to download them again):\n",
    "* **Les Misérables**<br>  Graph connecting the characters of the novel of Victor Hugo when they appear in the same chapter. The graph is undirected and weighted. Weights correspond to the number of chapters in which characters appear together. \n",
    "* **Openflights**<br>\n",
    "Graph of the main international flights. Nodes are airports. The graph is undirected (all flights are bidirectional). Weights correspond to the number of daily flights between airports. \n",
    "\n",
    "If you don't have these datasets in your working directory, you can download them from the pedagogical site."
   ]
  },
  {
   "cell_type": "code",
   "execution_count": null,
   "metadata": {},
   "outputs": [],
   "source": [
    "miserables = nx.read_graphml(\"miserables.graphml\", node_type = int)"
   ]
  },
  {
   "cell_type": "code",
   "execution_count": null,
   "metadata": {},
   "outputs": [],
   "source": [
    "openflights = nx.read_graphml(\"openflights.graphml\", node_type = int)"
   ]
  },
  {
   "cell_type": "markdown",
   "metadata": {},
   "source": [
    "To get the index of a node from its name, you may use the following:"
   ]
  },
  {
   "cell_type": "code",
   "execution_count": null,
   "metadata": {},
   "outputs": [],
   "source": [
    "graph = miserables.copy()\n",
    "name = nx.get_node_attributes(miserables, 'name')"
   ]
  },
  {
   "cell_type": "code",
   "execution_count": null,
   "metadata": {},
   "outputs": [],
   "source": [
    "word = 'jean'\n",
    "selected_nodes = {i: name[i] for i in name if name[i].find(word) >= 0}"
   ]
  },
  {
   "cell_type": "code",
   "execution_count": null,
   "metadata": {},
   "outputs": [],
   "source": [
    "selected_nodes"
   ]
  },
  {
   "cell_type": "markdown",
   "metadata": {},
   "source": [
    "## 1. Graph sampling (5 points)"
   ]
  },
  {
   "cell_type": "markdown",
   "metadata": {},
   "source": [
    "We first consider the graph Les Misérables."
   ]
  },
  {
   "cell_type": "code",
   "execution_count": null,
   "metadata": {},
   "outputs": [],
   "source": [
    "graph = miserables.copy()"
   ]
  },
  {
   "cell_type": "markdown",
   "metadata": {},
   "source": [
    "### Question 1.a\n",
    "\n",
    "What are the 5 nodes of highest degree?<br>\n",
    "Give the names of the characters."
   ]
  },
  {
   "cell_type": "markdown",
   "metadata": {},
   "source": [
    "**Your answer:**\n",
    "\n"
   ]
  },
  {
   "cell_type": "code",
   "execution_count": null,
   "metadata": {},
   "outputs": [],
   "source": [
    "# Your code"
   ]
  },
  {
   "cell_type": "markdown",
   "metadata": {},
   "source": [
    "### Question 1.b\n",
    "\n",
    "How many nodes have degree 2?<br>\n",
    "Give the names of the characters."
   ]
  },
  {
   "cell_type": "markdown",
   "metadata": {},
   "source": [
    "**Your answer:**\n",
    "\n"
   ]
  },
  {
   "cell_type": "code",
   "execution_count": null,
   "metadata": {},
   "outputs": [],
   "source": [
    "# Your code"
   ]
  },
  {
   "cell_type": "markdown",
   "metadata": {},
   "source": [
    "### Question 1.c\n",
    "\n",
    "Give the exact probabilities of sampling Cosette under:\n",
    "* uniform node sampling\n",
    "* uniform edge sampling (i.e., a random end of an edge, the edge being chosen uniformly at random)\n",
    "* weighted edge sampling (i.e., a random end of an edge, the edge being chosen in proportion to the weights)\n",
    "\n",
    "Interpret the results."
   ]
  },
  {
   "cell_type": "markdown",
   "metadata": {},
   "source": [
    "**Your answer:**\n",
    "\n"
   ]
  },
  {
   "cell_type": "code",
   "execution_count": null,
   "metadata": {},
   "outputs": [],
   "source": [
    "# Your code"
   ]
  },
  {
   "cell_type": "markdown",
   "metadata": {},
   "source": [
    "## 2. Graph pruning (5 points)"
   ]
  },
  {
   "cell_type": "markdown",
   "metadata": {},
   "source": [
    "We still consider the graph of Les Misérables."
   ]
  },
  {
   "cell_type": "markdown",
   "metadata": {},
   "source": [
    "### Question 2.a\n",
    "\n",
    "Remove nodes of degree 1.<br>\n",
    "How many edges remain?\n",
    "\n",
    "You may use the method `remove_nodes_from` of a `networkx` graph."
   ]
  },
  {
   "cell_type": "markdown",
   "metadata": {},
   "source": [
    "**Your answer:**\n",
    "\n"
   ]
  },
  {
   "cell_type": "code",
   "execution_count": null,
   "metadata": {},
   "outputs": [],
   "source": [
    "# Your code"
   ]
  },
  {
   "cell_type": "code",
   "execution_count": null,
   "metadata": {},
   "outputs": [],
   "source": [
    "# graph.remove_nodes_from(nodes) "
   ]
  },
  {
   "cell_type": "markdown",
   "metadata": {},
   "source": [
    "### Question 2.b\n",
    "\n",
    "Remove recursively nodes of degree 1 until there are no more nodes of degree 1.<br>\n",
    "How many edges remain?"
   ]
  },
  {
   "cell_type": "markdown",
   "metadata": {},
   "source": [
    "**Your answer:**\n",
    "\n"
   ]
  },
  {
   "cell_type": "code",
   "execution_count": null,
   "metadata": {},
   "outputs": [],
   "source": [
    "# Your code"
   ]
  },
  {
   "cell_type": "markdown",
   "metadata": {},
   "source": [
    "### Question 2.c\n",
    "\n",
    "Compare the top-3 nodes for PageRank before and after pruning (i.e., without nodes of degree 1).<br>\n",
    "Comment the results (you may need to visualize the graph).\n",
    "\n",
    "You may use the `pagerank` function of `networkx`."
   ]
  },
  {
   "cell_type": "markdown",
   "metadata": {},
   "source": [
    "**Your answer:**\n",
    "\n"
   ]
  },
  {
   "cell_type": "code",
   "execution_count": null,
   "metadata": {},
   "outputs": [],
   "source": [
    "# Your code"
   ]
  },
  {
   "cell_type": "code",
   "execution_count": null,
   "metadata": {},
   "outputs": [],
   "source": [
    "# nx.pagerank(graph)"
   ]
  },
  {
   "cell_type": "markdown",
   "metadata": {},
   "source": [
    "## 3. Clustering by PageRank (10 points)\n",
    "\n",
    "We now consider a clustering algorithm based on PageRank. \n",
    "\n",
    "The proposed algorithm consists in two steps:\n",
    "1. Expand some seed set $S\\subset V$ by successively adding the furthest node of the set $S$ in terms of Personalized PageRank. The initial seed set consists of a single node. This node is removed from the final seed set $S$.\n",
    "2. Cluster the nodes with respect to their Personalized PageRank with respect to each node of $S$, i.e., the cluster of each node $i$ is given by:\n",
    "$$\n",
    " C(i) = \\arg\\max_{s\\in S} \\text{PPR}_s(i)\n",
    "$$\n",
    "where $\\text{PPR}_s(i)$ is the Personalized PageRank of node $i$, when personalized by node $s$."
   ]
  },
  {
   "cell_type": "markdown",
   "metadata": {},
   "source": [
    "### Question 3.a\n",
    "\n",
    "1. Complete the function `get_furthest_node` below, that returns the furthest node from some seed set in terms of Personalized PageRank.\n",
    "2. What is the furthest node of the set {Cosette, Marius} in Les Misérables? Give the name of the character.\n",
    "\n",
    "You may use the `pagerank` function of `networkx`."
   ]
  },
  {
   "cell_type": "markdown",
   "metadata": {},
   "source": [
    "**Your answer:**\n",
    "\n"
   ]
  },
  {
   "cell_type": "code",
   "execution_count": null,
   "metadata": {},
   "outputs": [],
   "source": [
    "# Your code"
   ]
  },
  {
   "cell_type": "code",
   "execution_count": null,
   "metadata": {},
   "outputs": [],
   "source": [
    "# nx.pagerank(graph, personalization)"
   ]
  },
  {
   "cell_type": "code",
   "execution_count": null,
   "metadata": {},
   "outputs": [],
   "source": [
    "def get_furthest_node(graph, seed_set):\n",
    "    '''\n",
    "    graph: networkx graph\n",
    "        undirected graph \n",
    "    seed_set: set\n",
    "        set of nodes\n",
    "        \n",
    "    Returns: int\n",
    "        node\n",
    "    '''\n",
    "\n",
    "    node = 0\n",
    "    # to be completed\n",
    "    return node"
   ]
  },
  {
   "cell_type": "markdown",
   "metadata": {},
   "source": [
    "### Question 3.b\n",
    "\n",
    "1. Complete the function `get_seed_set` below, where `size` is the final size of the seed set (after removing the initial seed node).\n",
    "2. Give the seed sets of size 5 in Les Misérables, starting from Cosette and Marius, respectively.<br> What do you observe? Interpret the results (you may take a look at the degrees of the nodes in the seed set)."
   ]
  },
  {
   "cell_type": "markdown",
   "metadata": {},
   "source": [
    "**Your answer:**\n",
    "\n"
   ]
  },
  {
   "cell_type": "code",
   "execution_count": null,
   "metadata": {},
   "outputs": [],
   "source": [
    "# Your code"
   ]
  },
  {
   "cell_type": "code",
   "execution_count": null,
   "metadata": {},
   "outputs": [],
   "source": [
    "def get_seed_set(graph, seed_node, size):\n",
    "    '''\n",
    "    graph: networkx graph\n",
    "        undirected graph \n",
    "    seed_node: int\n",
    "        seed node\n",
    "    size: int\n",
    "        size of the seed set\n",
    "        \n",
    "    Returns: set\n",
    "        set of nodes\n",
    "    '''\n",
    "    seed_set = {seed_node}\n",
    "    # to be completed\n",
    "    return seed_set"
   ]
  },
  {
   "cell_type": "markdown",
   "metadata": {},
   "source": [
    "### Question 3.c\n",
    "\n",
    "1. Complete the function `pagerank_clustering` below.\n",
    "2. Use this to cluster Les Misérables with 5 clusters, starting from Cosette.<br> What is the node of highest degree in each cluster? Give the name of each character.<br>\n",
    "What is the strongest cluster?"
   ]
  },
  {
   "cell_type": "markdown",
   "metadata": {},
   "source": [
    "**Your answer:**\n",
    "\n"
   ]
  },
  {
   "cell_type": "code",
   "execution_count": null,
   "metadata": {},
   "outputs": [],
   "source": [
    "# Your code"
   ]
  },
  {
   "cell_type": "code",
   "execution_count": null,
   "metadata": {},
   "outputs": [],
   "source": [
    "def pagerank_clustering(graph, seed_set):\n",
    "    '''\n",
    "    graph: networkx graph\n",
    "        undirected graph \n",
    "    seed_set: set\n",
    "        set of nodes\n",
    "        \n",
    "    Returns: dictionary\n",
    "        cluster index of each node \n",
    "    '''\n",
    "    \n",
    "    C = {} \n",
    "    # to be completed\n",
    "    return C"
   ]
  },
  {
   "cell_type": "markdown",
   "metadata": {},
   "source": [
    "### Question 3.d\n",
    "\n",
    "1. Apply the above algorithm to OpenFlights with 20 clusters, starting from the airport Paris Charles-de-Gaulle, and visualize the clustering.\n",
    "2. Compute the modularity of this clustering.\n",
    "3. Describe another graph clustering algorithm where the number of clusters can be specified;  apply this algorithm to OpenFlights with 20 clusters and compute the new modularity."
   ]
  },
  {
   "cell_type": "markdown",
   "metadata": {},
   "source": [
    "**Your answer:**\n",
    "\n"
   ]
  },
  {
   "cell_type": "code",
   "execution_count": null,
   "metadata": {},
   "outputs": [],
   "source": [
    "# Your code"
   ]
  },
  {
   "cell_type": "code",
   "execution_count": null,
   "metadata": {},
   "outputs": [],
   "source": [
    "openflights = nx.read_graphml(\"openflights.graphml\", node_type = int)"
   ]
  },
  {
   "cell_type": "code",
   "execution_count": null,
   "metadata": {},
   "outputs": [],
   "source": [
    "# Get positions\n",
    "pos_x = nx.get_node_attributes(openflights,'pos_x')\n",
    "pos_y = nx.get_node_attributes(openflights,'pos_y')\n",
    "pos = {i: (pos_x[i], pos_y[i]) for i in openflights}"
   ]
  },
  {
   "cell_type": "code",
   "execution_count": null,
   "metadata": {},
   "outputs": [],
   "source": [
    "plt.figure(figsize=(8,4))\n",
    "plt.axis('off')\n",
    "show_nodes = nx.draw_networkx_nodes(openflights, pos, node_size = 20)\n",
    "plt.show()"
   ]
  },
  {
   "cell_type": "code",
   "execution_count": null,
   "metadata": {},
   "outputs": [],
   "source": []
  }
 ],
 "metadata": {
  "anaconda-cloud": {},
  "hide_input": false,
  "kernelspec": {
   "display_name": "Python 3",
   "language": "python",
   "name": "python3"
  },
  "language_info": {
   "codemirror_mode": {
    "name": "ipython",
    "version": 3
   },
   "file_extension": ".py",
   "mimetype": "text/x-python",
   "name": "python",
   "nbconvert_exporter": "python",
   "pygments_lexer": "ipython3",
   "version": "3.7.3"
  }
 },
 "nbformat": 4,
 "nbformat_minor": 1
}
