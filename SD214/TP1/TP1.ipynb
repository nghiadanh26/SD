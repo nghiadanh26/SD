{
 "cells": [
  {
   "cell_type": "markdown",
   "metadata": {},
   "source": [
    "# Text segmentation using Hidden Markov Models "
   ]
  },
  {
   "cell_type": "markdown",
   "metadata": {},
   "source": [
    "                                                           Reme Raphael"
   ]
  },
  {
   "cell_type": "markdown",
   "metadata": {},
   "source": [
    "### 1/ Give the value of the π vector of the initial probabilities"
   ]
  },
  {
   "cell_type": "markdown",
   "metadata": {},
   "source": [
    "As there is no mail without a header. All the mails begin with one. It means that the initital vector is : $\\pi = \n",
    "\\begin{pmatrix}1 & 0\\end{pmatrix}$"
   ]
  },
  {
   "cell_type": "markdown",
   "metadata": {},
   "source": [
    "### 2/ What is the probability to move from state 1 to state 2 ? What is the probability to remain in state 2 ? What is the lower/higher probability ? Try to explain why"
   ]
  },
  {
   "cell_type": "markdown",
   "metadata": {},
   "source": [
    "At each character, the probability to move from state 1 to state 2 is given by $A[1,2] = 0.000781921964187974$. It is compute on a small corpus of mails. One can see that in each mail there only is 1 transition from state 1 to state 2. It explains why its probability is low (It's close to $\\frac{1}{1200}$. We could interpret 1200 as the mean size of the header)\n",
    "\n",
    "\n",
    "Once it is in state 2. It can't go back to state 1. Therefore the probability to remain in state 2 is 1 ($A[2,2]$)\n",
    "\n",
    "The lower probability will always be the transition from state 2 to state 1 (it always be zero) followed by the transition from state 1 to state 2 as it stays very unlikely.\n",
    "\n",
    "The higher probability is consequently the transition from state2 to state 2 (always be 1) followed by the transition from state 1 to state 1."
   ]
  },
  {
   "cell_type": "markdown",
   "metadata": {},
   "source": [
    "### 3/ What is the size of B ?"
   ]
  },
  {
   "cell_type": "markdown",
   "metadata": {},
   "source": [
    "B represent the probability distribution of characters in each state. Therefore it has 2 columns and N lines. "
   ]
  },
  {
   "cell_type": "markdown",
   "metadata": {},
   "source": [
    "### 4/ Print the track and present and discuss the results obtained on mail11.txt to mail30.txt"
   ]
  },
  {
   "cell_type": "code",
   "execution_count": 35,
   "metadata": {},
   "outputs": [],
   "source": [
    "import numpy as np\n",
    "\n",
    "\n",
    "def viterbi(X,Pi0,A,P):\n",
    "    \"\"\"\n",
    "        Viterbi Algorithm Implementation\n",
    "\n",
    "        Keyword arguments:\n",
    "            - obs: sequence of observation\n",
    "            - states:list of states\n",
    "            - start_prob:vector of the initial probabilities\n",
    "            - trans: transition matrix\n",
    "            - emission_prob: emission probability matrix\n",
    "        Returns:\n",
    "            - seq: sequence of state\n",
    "    \"\"\"\n",
    "\n",
    "    #pour eviter d avoir des valeurs nulles dans le log\n",
    "    realmin = np.finfo(np.double).tiny\n",
    "    \n",
    "    A = np.log(A+realmin)\n",
    "    Pi0 = np.log(Pi0+realmin)\n",
    "    P = np.log(P+realmin)\n",
    "    \n",
    "    T = X.shape[0] #nombre d observations\n",
    "    N = Pi0.shape[0]#nombre des etats du modele\n",
    "    \n",
    "    #Initialisation\n",
    "    logl = np.zeros((T,N))\n",
    "    bcktr = np.zeros((T-1,N), dtype = int)\n",
    "    \n",
    "    logl[0,:]=Pi0+P[X[0],:]\n",
    "    \n",
    "    for t in range(T-1):\n",
    "        temp = A + logl[t,:].reshape((N,1))\n",
    "        \n",
    "        bcktr[t,:] = np.argmax(temp, axis = 0)\n",
    "        logl[t+1,:] = P[X[t+1],:] + np.amax(temp, axis = 0)\n",
    "        \n",
    "    path = np.zeros(T, dtype = int)\n",
    "    path[T-1] = np.argmax(logl[T-1,:])\n",
    "    \n",
    "    for t in range(T-2,-1,-1):\n",
    "        path[t] = bcktr[t,path[t+1]]\n",
    "        \n",
    "    return logl, path\n"
   ]
  },
  {
   "cell_type": "code",
   "execution_count": 37,
   "metadata": {},
   "outputs": [],
   "source": [
    "Pi0 = np.array([1,0])\n",
    "A = np.array([[0.999218078035812, 0.000781921964187974], [0, 1]])\n",
    "B = np.loadtxt(\"P.text\")\n",
    "\n",
    "mails = []\n",
    "paths = []\n",
    "for i in range(11,31):\n",
    "    mails.append(np.loadtxt(\"dat/mail\" + str(i) + \".dat\", dtype = int))\n",
    "    paths.append(viterbi(mails[i-11], Pi0, A, B)[1])"
   ]
  },
  {
   "cell_type": "code",
   "execution_count": 38,
   "metadata": {},
   "outputs": [
    {
     "data": {
      "image/png": "[encoded data removed]",
      "text/plain": [
       "<Figure size 432x288 with 1 Axes>"
      ]
     },
     "metadata": {},
     "output_type": "display_data"
    }
   ],
   "source": [
    "from matplotlib import pyplot as plt\n",
    "indexes = np.sort(np.random.choice(range(11,31), 8))\n",
    "\n",
    "for index in indexes:\n",
    "    plt.plot(paths[index-11], label = \"mail_\"+str(index))\n",
    "\n",
    "plt.title(\"Evolution of state on some random mails.\")\n",
    "plt.legend()\n",
    "plt.show()"
   ]
  },
  {
   "cell_type": "markdown",
   "metadata": {},
   "source": [
    "#### One example on a random mail :"
   ]
  },
  {
   "cell_type": "code",
   "execution_count": 46,
   "metadata": {},
   "outputs": [
    {
     "name": "stdout",
     "output_type": "stream",
     "text": [
      "index : 11\n",
      "Beginning of the body : 2851\n"
     ]
    }
   ],
   "source": [
    "index = np.random.choice(range(11,31))\n",
    "print(\"index :\", index)\n",
    "path = paths[index-11]\n",
    "path_file = \"path.txt\"\n",
    "\n",
    "with open(path_file, \"w\") as file:\n",
    "    for value in path:\n",
    "        file.write(str(value+1))\n",
    "        \n",
    "for i in range(1, len(path)):\n",
    "    if path[i] != path[i-1]:\n",
    "        print(\"Beginning of the body :\", i)"
   ]
  },
  {
   "cell_type": "code",
   "execution_count": 47,
   "metadata": {},
   "outputs": [
    {
     "name": "stdout",
     "output_type": "stream",
     "text": [
      "From spamassassin-devel-admin@lists.sourceforge.net  Thu Aug 22 15:25:29 2002\n",
      "Return-Path: <spamassassin-devel-admin@example.sourceforge.net>\n",
      "Delivered-To: zzzz@localhost.netnoteinc.com\n",
      "Received: from localhost (localhost [127.0.0.1])\n",
      "\tby phobos.labs.netnoteinc.com (Postfix) with ESMTP id AE2D043F9B\n",
      "\tfor <zzzz@localhost>; Thu, 22 Aug 2002 10:25:29 -0400 (EDT)\n",
      "Received: from phobos [127.0.0.1]\n",
      "\tby localhost with IMAP (fetchmail-5.9.0)\n",
      "\tfor zzzz@localhost (single-drop); Thu, 22 Aug 2002 15:25:29 +0100 (IST)\n",
      "Received: from usw-sf-list2.sourceforge.net (usw-sf-fw2.sourceforge.net\n",
      "    [216.136.171.252]) by dogma.slashnull.org (8.11.6/8.11.6) with ESMTP id\n",
      "    g7MENlZ09984 for <zzzz@spamassassin.taint.org>; Thu, 22 Aug 2002 15:23:47 +0100\n",
      "Received: from usw-sf-list1-b.sourceforge.net ([10.3.1.13]\n",
      "    helo=usw-sf-list1.sourceforge.net) by usw-sf-list2.sourceforge.net with\n",
      "    esmtp (Exim 3.31-VA-mm2 #1 (Debian)) id 17hsof-00042r-00; Thu,\n",
      "    22 Aug 2002 07:20:05 -0700\n",
      "Received: from vivi.uptime.at ([62.116.87.11] helo=mail.uptime.at) by\n",
      "    usw-sf-list1.sourceforge.net with esmtp (Exim 3.31-VA-mm2 #1 (Debian)) id\n",
      "    17hsoM-0000Ge-00 for <spamassassin-devel@lists.sourceforge.net>;\n",
      "    Thu, 22 Aug 2002 07:19:47 -0700\n",
      "Received: from [192.168.0.4] (chello062178142216.4.14.vie.surfer.at\n",
      "    [62.178.142.216]) (authenticated bits=0) by mail.uptime.at (8.12.5/8.12.5)\n",
      "    with ESMTP id g7MEI7Vp022036 for\n",
      "    <spamassassin-devel@lists.sourceforge.net>; Thu, 22 Aug 2002 16:18:07\n",
      "    +0200\n",
      "User-Agent: Microsoft-Entourage/10.0.0.1309\n",
      "From: David H=?ISO-8859-1?B?9g==?=hn <dh@uptime.at>\n",
      "To: <spamassassin-devel@example.sourceforge.net>\n",
      "Message-Id: <B98ABFA4.1F87%dh@uptime.at>\n",
      "MIME-Version: 1.0\n",
      "X-Trusted: YES\n",
      "X-From-Laptop: YES\n",
      "Content-Type: text/plain; charset=\"US-ASCII\"\n",
      "Content-Transfer-Encoding: 7bit\n",
      "X-Mailscanner: Nothing found, baby\n",
      "Subject: [SAdev] Interesting approach to Spam handling..\n",
      "Sender: spamassassin-devel-admin@example.sourceforge.net\n",
      "Errors-To: spamassassin-devel-admin@example.sourceforge.net\n",
      "X-Beenthere: spamassassin-devel@example.sourceforge.net\n",
      "X-Mailman-Version: 2.0.9-sf.net\n",
      "Precedence: bulk\n",
      "List-Help: <mailto:spamassassin-devel-request@example.sourceforge.net?subject=help>\n",
      "List-Post: <mailto:spamassassin-devel@example.sourceforge.net>\n",
      "List-Subscribe: <https://example.sourceforge.net/lists/listinfo/spamassassin-devel>,\n",
      "    <mailto:spamassassin-devel-request@lists.sourceforge.net?subject=subscribe>\n",
      "List-Id: SpamAssassin Developers <spamassassin-devel.example.sourceforge.net>\n",
      "List-Unsubscribe: <https://example.sourceforge.net/lists/listinfo/spamassassin-devel>,\n",
      "    <mailto:spamassassin-devel-request@lists.sourceforge.net?subject=unsubscribe>\n",
      "List-Archive: <http://www.geocrawler.com/redir-sf.php3?list=spamassassin-devel>\n",
      "X-Original-Date: Thu, 22 Aug 2002 16:19:48 +0200\n",
      "Date: Thu, 22 Aug 2002 16:19:48 +0200\n",
      "========================== coupez ici ==========================\n",
      "\n",
      "\n",
      "Hello, have you seen and discussed this article and his approach?\n",
      "\n",
      "Thank you\n",
      "\n",
      "http://www.paulgraham.com/spam.html\n",
      "-- \"Hell, there are no rules here-- we're trying to accomplish something.\"\n",
      "-- Thomas Alva Edison\n",
      "\n",
      "\n",
      "\n",
      "\n",
      "-------------------------------------------------------\n",
      "This sf.net email is sponsored by: OSDN - Tired of that same old\n",
      "cell phone?  Get a new here for FREE!\n",
      "https://www.inphonic.com/r.asp?r=sourceforge1&refcode1=vs3390\n",
      "_______________________________________________\n",
      "Spamassassin-devel mailing list\n",
      "Spamassassin-devel@lists.sourceforge.net\n",
      "https://lists.sourceforge.net/lists/listinfo/spamassassin-devel\n",
      "\n",
      "\n"
     ]
    }
   ],
   "source": [
    "## NOTE: segment.pl has been modified in order to print only the resulting mail.\n",
    "import os\n",
    "os.system(\"perl segment.pl dat/mail\"+str(index)+\".txt \" + path_file + \"> mail.txt\")\n",
    "\n",
    "with open(\"mail.txt\", \"r\") as file:\n",
    "    print(file.read())"
   ]
  },
  {
   "cell_type": "markdown",
   "metadata": {},
   "source": [
    "We can see that this is working quite well. It seems to cut the mail almost at the right place each time. \n",
    "\n",
    "We could maybe improve the result as we know a little bit more about the separation between body and header : They are never on the same line. We could for instance choose the nearest '\\n' from the cut as the new (and hopefully better) cut.  "
   ]
  },
  {
   "cell_type": "markdown",
   "metadata": {},
   "source": [
    "### 5/ How would you model the problem if you had to segment the mails in more than two parts (for example : header, body, signature) ?\n",
    "Draw a diagram of the corresponding Hidden Markov model and give an example of A matrix that would be suitable in this case."
   ]
  },
  {
   "cell_type": "markdown",
   "metadata": {},
   "source": [
    "I would do the same but with three states :"
   ]
  },
  {
   "cell_type": "markdown",
   "metadata": {},
   "source": [
    "![](schema.jpg)"
   ]
  },
  {
   "cell_type": "markdown",
   "metadata": {},
   "source": [
    "A possible matrix A would be :\n",
    "$\\begin{pmatrix}\n",
    "1-\\epsilon_1 & \\epsilon_1 & 0\\\\\n",
    "0 & 1-\\epsilon_2 & \\epsilon_2\\\\\n",
    "0 & 0 & 1\n",
    "\\end{pmatrix}$. Indeed you can't go back from a body to header or from signature to body (and header). And you can't jump from header to signature. Moreover the probability to change of state is low. Therefore all $\\epsilon_i$ are low.\n",
    "\n",
    "We could have $\\epsilon_1 \\cong 0.0007$ (It should not be a lot diffferent as before). And as most of the body we saw in that database are smaller than the header. The probability to jump should be higher, meaning that $\\epsilon_2 \\gt \\epsilon_1$.\n",
    "\n",
    "We would also have the initital vector $\\pi = \n",
    "\\begin{pmatrix}1 & 0 & 0\\end{pmatrix}$"
   ]
  },
  {
   "cell_type": "markdown",
   "metadata": {},
   "source": [
    "### 6/ How would you model the problem of separating the portions of mail included, knowing that they always start with the character \">\". \n",
    "Draw a diagram of the corresponding Hidden Markov model."
   ]
  },
  {
   "cell_type": "markdown",
   "metadata": {},
   "source": [
    "We could add transition states. If we take back the example of the question 5 with 3 portions. If we know that they are separated by a \">\", we could make a slightly different diagram with those transition states :\n",
    "![](schema_2.jpg)"
   ]
  },
  {
   "cell_type": "markdown",
   "metadata": {},
   "source": [
    "The header, body and signature states would be the same (Same transition probability and same observation probability). \n",
    "\n",
    "For the transition states it's a little bit different. It can't stay on it more than one step. And the observation probability on that state would be : 1 for '>' and 0 for all others characters. "
   ]
  }
 ],
 "metadata": {
  "kernelspec": {
   "display_name": "Python 3",
   "language": "python",
   "name": "python3"
  },
  "language_info": {
   "codemirror_mode": {
    "name": "ipython",
    "version": 3
   },
   "file_extension": ".py",
   "mimetype": "text/x-python",
   "name": "python",
   "nbconvert_exporter": "python",
   "pygments_lexer": "ipython3",
   "version": "3.6.5"
  }
 },
 "nbformat": 4,
 "nbformat_minor": 2
}
